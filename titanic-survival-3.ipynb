{
 "cells": [
  {
   "cell_type": "code",
   "execution_count": 1,
   "id": "3c9079a2",
   "metadata": {
    "execution": {
     "iopub.execute_input": "2022-07-23T14:32:02.307380Z",
     "iopub.status.busy": "2022-07-23T14:32:02.306448Z",
     "iopub.status.idle": "2022-07-23T14:32:02.329433Z",
     "shell.execute_reply": "2022-07-23T14:32:02.328388Z"
    },
    "papermill": {
     "duration": 0.039669,
     "end_time": "2022-07-23T14:32:02.332339",
     "exception": false,
     "start_time": "2022-07-23T14:32:02.292670",
     "status": "completed"
    },
    "tags": []
   },
   "outputs": [
    {
     "name": "stdout",
     "output_type": "stream",
     "text": [
      "/kaggle/input/titanic/train.csv\n",
      "/kaggle/input/titanic/test.csv\n",
      "/kaggle/input/titanic/gender_submission.csv\n"
     ]
    }
   ],
   "source": [
    "# This Python 3 environment comes with many helpful analytics libraries installed\n",
    "# It is defined by the kaggle/python Docker image: https://github.com/kaggle/docker-python\n",
    "# For example, here's several helpful packages to load\n",
    "\n",
    "import numpy as np # linear algebra\n",
    "import pandas as pd # data processing, CSV file I/O (e.g. pd.read_csv)\n",
    "\n",
    "# Input data files are available in the read-only \"../input/\" directory\n",
    "# For example, running this (by clicking run or pressing Shift+Enter) will list all files under the input directory\n",
    "\n",
    "import os\n",
    "for dirname, _, filenames in os.walk('/kaggle/input'):\n",
    "    for filename in filenames:\n",
    "        print(os.path.join(dirname, filename))\n",
    "\n",
    "# You can write up to 20GB to the current directory (/kaggle/working/) that gets preserved as output when you create a version using \"Save & Run All\" \n",
    "# You can also write temporary files to /kaggle/temp/, but they won't be saved outside of the current session"
   ]
  },
  {
   "cell_type": "markdown",
   "id": "ce1e8387",
   "metadata": {
    "papermill": {
     "duration": 0.007402,
     "end_time": "2022-07-23T14:32:02.348457",
     "exception": false,
     "start_time": "2022-07-23T14:32:02.341055",
     "status": "completed"
    },
    "tags": []
   },
   "source": [
    "# **Importing Packages**"
   ]
  },
  {
   "cell_type": "code",
   "execution_count": 2,
   "id": "3c04593f",
   "metadata": {
    "execution": {
     "iopub.execute_input": "2022-07-23T14:32:02.366502Z",
     "iopub.status.busy": "2022-07-23T14:32:02.365703Z",
     "iopub.status.idle": "2022-07-23T14:32:04.098691Z",
     "shell.execute_reply": "2022-07-23T14:32:04.097561Z"
    },
    "papermill": {
     "duration": 1.745152,
     "end_time": "2022-07-23T14:32:04.101394",
     "exception": false,
     "start_time": "2022-07-23T14:32:02.356242",
     "status": "completed"
    },
    "tags": []
   },
   "outputs": [],
   "source": [
    "import seaborn as sns\n",
    "import matplotlib.pyplot as plt\n",
    "from sklearn.linear_model import LinearRegression\n",
    "from sklearn.ensemble import RandomForestRegressor\n",
    "from sklearn.preprocessing import OneHotEncoder\n",
    "from sklearn.pipeline import Pipeline\n",
    "from sklearn.compose import ColumnTransformer\n",
    "from sklearn.impute import SimpleImputer\n",
    "from sklearn.model_selection import train_test_split"
   ]
  },
  {
   "cell_type": "markdown",
   "id": "37d9249d",
   "metadata": {
    "papermill": {
     "duration": 0.007275,
     "end_time": "2022-07-23T14:32:04.116586",
     "exception": false,
     "start_time": "2022-07-23T14:32:04.109311",
     "status": "completed"
    },
    "tags": []
   },
   "source": [
    "# **Importing the Dataset**"
   ]
  },
  {
   "cell_type": "code",
   "execution_count": 3,
   "id": "942dc4b0",
   "metadata": {
    "execution": {
     "iopub.execute_input": "2022-07-23T14:32:04.134009Z",
     "iopub.status.busy": "2022-07-23T14:32:04.133208Z",
     "iopub.status.idle": "2022-07-23T14:32:04.164133Z",
     "shell.execute_reply": "2022-07-23T14:32:04.163209Z"
    },
    "papermill": {
     "duration": 0.042521,
     "end_time": "2022-07-23T14:32:04.166614",
     "exception": false,
     "start_time": "2022-07-23T14:32:04.124093",
     "status": "completed"
    },
    "tags": []
   },
   "outputs": [],
   "source": [
    "## Using the base knowledge make a predition model without using a pipeline. ##\n",
    "df_train = pd.read_csv('../input/titanic/train.csv')\n",
    "df_test = pd.read_csv('../input/titanic/test.csv')"
   ]
  },
  {
   "cell_type": "code",
   "execution_count": 4,
   "id": "50314d51",
   "metadata": {
    "execution": {
     "iopub.execute_input": "2022-07-23T14:32:04.183913Z",
     "iopub.status.busy": "2022-07-23T14:32:04.182980Z",
     "iopub.status.idle": "2022-07-23T14:32:04.213188Z",
     "shell.execute_reply": "2022-07-23T14:32:04.211706Z"
    },
    "papermill": {
     "duration": 0.0414,
     "end_time": "2022-07-23T14:32:04.215654",
     "exception": false,
     "start_time": "2022-07-23T14:32:04.174254",
     "status": "completed"
    },
    "tags": []
   },
   "outputs": [
    {
     "name": "stdout",
     "output_type": "stream",
     "text": [
      "<class 'pandas.core.frame.DataFrame'>\n",
      "RangeIndex: 891 entries, 0 to 890\n",
      "Data columns (total 12 columns):\n",
      " #   Column       Non-Null Count  Dtype  \n",
      "---  ------       --------------  -----  \n",
      " 0   PassengerId  891 non-null    int64  \n",
      " 1   Survived     891 non-null    int64  \n",
      " 2   Pclass       891 non-null    int64  \n",
      " 3   Name         891 non-null    object \n",
      " 4   Sex          891 non-null    object \n",
      " 5   Age          714 non-null    float64\n",
      " 6   SibSp        891 non-null    int64  \n",
      " 7   Parch        891 non-null    int64  \n",
      " 8   Ticket       891 non-null    object \n",
      " 9   Fare         891 non-null    float64\n",
      " 10  Cabin        204 non-null    object \n",
      " 11  Embarked     889 non-null    object \n",
      "dtypes: float64(2), int64(5), object(5)\n",
      "memory usage: 83.7+ KB\n"
     ]
    }
   ],
   "source": [
    "df_train.info()\n",
    "# df_test.info()"
   ]
  },
  {
   "cell_type": "code",
   "execution_count": 5,
   "id": "22bdc353",
   "metadata": {
    "execution": {
     "iopub.execute_input": "2022-07-23T14:32:04.233652Z",
     "iopub.status.busy": "2022-07-23T14:32:04.232618Z",
     "iopub.status.idle": "2022-07-23T14:32:04.255986Z",
     "shell.execute_reply": "2022-07-23T14:32:04.254917Z"
    },
    "papermill": {
     "duration": 0.035042,
     "end_time": "2022-07-23T14:32:04.258613",
     "exception": false,
     "start_time": "2022-07-23T14:32:04.223571",
     "status": "completed"
    },
    "tags": []
   },
   "outputs": [
    {
     "data": {
      "text/html": [
       "<div>\n",
       "<style scoped>\n",
       "    .dataframe tbody tr th:only-of-type {\n",
       "        vertical-align: middle;\n",
       "    }\n",
       "\n",
       "    .dataframe tbody tr th {\n",
       "        vertical-align: top;\n",
       "    }\n",
       "\n",
       "    .dataframe thead th {\n",
       "        text-align: right;\n",
       "    }\n",
       "</style>\n",
       "<table border=\"1\" class=\"dataframe\">\n",
       "  <thead>\n",
       "    <tr style=\"text-align: right;\">\n",
       "      <th></th>\n",
       "      <th>PassengerId</th>\n",
       "      <th>Survived</th>\n",
       "      <th>Pclass</th>\n",
       "      <th>Name</th>\n",
       "      <th>Sex</th>\n",
       "      <th>Age</th>\n",
       "      <th>SibSp</th>\n",
       "      <th>Parch</th>\n",
       "      <th>Ticket</th>\n",
       "      <th>Fare</th>\n",
       "      <th>Cabin</th>\n",
       "      <th>Embarked</th>\n",
       "    </tr>\n",
       "  </thead>\n",
       "  <tbody>\n",
       "    <tr>\n",
       "      <th>0</th>\n",
       "      <td>1</td>\n",
       "      <td>0</td>\n",
       "      <td>3</td>\n",
       "      <td>Braund, Mr. Owen Harris</td>\n",
       "      <td>male</td>\n",
       "      <td>22.0</td>\n",
       "      <td>1</td>\n",
       "      <td>0</td>\n",
       "      <td>A/5 21171</td>\n",
       "      <td>7.2500</td>\n",
       "      <td>NaN</td>\n",
       "      <td>S</td>\n",
       "    </tr>\n",
       "    <tr>\n",
       "      <th>1</th>\n",
       "      <td>2</td>\n",
       "      <td>1</td>\n",
       "      <td>1</td>\n",
       "      <td>Cumings, Mrs. John Bradley (Florence Briggs Th...</td>\n",
       "      <td>female</td>\n",
       "      <td>38.0</td>\n",
       "      <td>1</td>\n",
       "      <td>0</td>\n",
       "      <td>PC 17599</td>\n",
       "      <td>71.2833</td>\n",
       "      <td>C85</td>\n",
       "      <td>C</td>\n",
       "    </tr>\n",
       "    <tr>\n",
       "      <th>2</th>\n",
       "      <td>3</td>\n",
       "      <td>1</td>\n",
       "      <td>3</td>\n",
       "      <td>Heikkinen, Miss. Laina</td>\n",
       "      <td>female</td>\n",
       "      <td>26.0</td>\n",
       "      <td>0</td>\n",
       "      <td>0</td>\n",
       "      <td>STON/O2. 3101282</td>\n",
       "      <td>7.9250</td>\n",
       "      <td>NaN</td>\n",
       "      <td>S</td>\n",
       "    </tr>\n",
       "    <tr>\n",
       "      <th>3</th>\n",
       "      <td>4</td>\n",
       "      <td>1</td>\n",
       "      <td>1</td>\n",
       "      <td>Futrelle, Mrs. Jacques Heath (Lily May Peel)</td>\n",
       "      <td>female</td>\n",
       "      <td>35.0</td>\n",
       "      <td>1</td>\n",
       "      <td>0</td>\n",
       "      <td>113803</td>\n",
       "      <td>53.1000</td>\n",
       "      <td>C123</td>\n",
       "      <td>S</td>\n",
       "    </tr>\n",
       "    <tr>\n",
       "      <th>4</th>\n",
       "      <td>5</td>\n",
       "      <td>0</td>\n",
       "      <td>3</td>\n",
       "      <td>Allen, Mr. William Henry</td>\n",
       "      <td>male</td>\n",
       "      <td>35.0</td>\n",
       "      <td>0</td>\n",
       "      <td>0</td>\n",
       "      <td>373450</td>\n",
       "      <td>8.0500</td>\n",
       "      <td>NaN</td>\n",
       "      <td>S</td>\n",
       "    </tr>\n",
       "  </tbody>\n",
       "</table>\n",
       "</div>"
      ],
      "text/plain": [
       "   PassengerId  Survived  Pclass  \\\n",
       "0            1         0       3   \n",
       "1            2         1       1   \n",
       "2            3         1       3   \n",
       "3            4         1       1   \n",
       "4            5         0       3   \n",
       "\n",
       "                                                Name     Sex   Age  SibSp  \\\n",
       "0                            Braund, Mr. Owen Harris    male  22.0      1   \n",
       "1  Cumings, Mrs. John Bradley (Florence Briggs Th...  female  38.0      1   \n",
       "2                             Heikkinen, Miss. Laina  female  26.0      0   \n",
       "3       Futrelle, Mrs. Jacques Heath (Lily May Peel)  female  35.0      1   \n",
       "4                           Allen, Mr. William Henry    male  35.0      0   \n",
       "\n",
       "   Parch            Ticket     Fare Cabin Embarked  \n",
       "0      0         A/5 21171   7.2500   NaN        S  \n",
       "1      0          PC 17599  71.2833   C85        C  \n",
       "2      0  STON/O2. 3101282   7.9250   NaN        S  \n",
       "3      0            113803  53.1000  C123        S  \n",
       "4      0            373450   8.0500   NaN        S  "
      ]
     },
     "execution_count": 5,
     "metadata": {},
     "output_type": "execute_result"
    }
   ],
   "source": [
    "df_train.head()"
   ]
  },
  {
   "cell_type": "markdown",
   "id": "f494b89d",
   "metadata": {
    "papermill": {
     "duration": 0.007464,
     "end_time": "2022-07-23T14:32:04.274047",
     "exception": false,
     "start_time": "2022-07-23T14:32:04.266583",
     "status": "completed"
    },
    "tags": []
   },
   "source": [
    "# **Tackling the null values Problem**"
   ]
  },
  {
   "cell_type": "code",
   "execution_count": 6,
   "id": "db936381",
   "metadata": {
    "execution": {
     "iopub.execute_input": "2022-07-23T14:32:04.291831Z",
     "iopub.status.busy": "2022-07-23T14:32:04.291370Z",
     "iopub.status.idle": "2022-07-23T14:32:04.301382Z",
     "shell.execute_reply": "2022-07-23T14:32:04.300368Z"
    },
    "papermill": {
     "duration": 0.02135,
     "end_time": "2022-07-23T14:32:04.303579",
     "exception": false,
     "start_time": "2022-07-23T14:32:04.282229",
     "status": "completed"
    },
    "tags": []
   },
   "outputs": [
    {
     "data": {
      "text/plain": [
       "PassengerId      0\n",
       "Survived         0\n",
       "Pclass           0\n",
       "Name             0\n",
       "Sex              0\n",
       "Age            177\n",
       "SibSp            0\n",
       "Parch            0\n",
       "Ticket           0\n",
       "Fare             0\n",
       "Cabin          687\n",
       "Embarked         2\n",
       "dtype: int64"
      ]
     },
     "execution_count": 6,
     "metadata": {},
     "output_type": "execute_result"
    }
   ],
   "source": [
    "null_cols = df_train.isna().sum()\n",
    "null_cols"
   ]
  },
  {
   "cell_type": "code",
   "execution_count": 7,
   "id": "f4287b96",
   "metadata": {
    "execution": {
     "iopub.execute_input": "2022-07-23T14:32:04.322633Z",
     "iopub.status.busy": "2022-07-23T14:32:04.321664Z",
     "iopub.status.idle": "2022-07-23T14:32:04.330044Z",
     "shell.execute_reply": "2022-07-23T14:32:04.328689Z"
    },
    "papermill": {
     "duration": 0.020415,
     "end_time": "2022-07-23T14:32:04.332186",
     "exception": false,
     "start_time": "2022-07-23T14:32:04.311771",
     "status": "completed"
    },
    "tags": []
   },
   "outputs": [],
   "source": [
    "df_train = df_train.drop(columns='Cabin', axis=1)"
   ]
  },
  {
   "cell_type": "code",
   "execution_count": 8,
   "id": "578aa0e9",
   "metadata": {
    "execution": {
     "iopub.execute_input": "2022-07-23T14:32:04.350150Z",
     "iopub.status.busy": "2022-07-23T14:32:04.349317Z",
     "iopub.status.idle": "2022-07-23T14:32:04.355173Z",
     "shell.execute_reply": "2022-07-23T14:32:04.354403Z"
    },
    "papermill": {
     "duration": 0.017425,
     "end_time": "2022-07-23T14:32:04.357580",
     "exception": false,
     "start_time": "2022-07-23T14:32:04.340155",
     "status": "completed"
    },
    "tags": []
   },
   "outputs": [],
   "source": [
    "df_train.Age.fillna(df_train.Age.mean(), inplace=True)"
   ]
  },
  {
   "cell_type": "code",
   "execution_count": 9,
   "id": "d08fa514",
   "metadata": {
    "execution": {
     "iopub.execute_input": "2022-07-23T14:32:04.375391Z",
     "iopub.status.busy": "2022-07-23T14:32:04.374634Z",
     "iopub.status.idle": "2022-07-23T14:32:04.381087Z",
     "shell.execute_reply": "2022-07-23T14:32:04.380145Z"
    },
    "papermill": {
     "duration": 0.018152,
     "end_time": "2022-07-23T14:32:04.383640",
     "exception": false,
     "start_time": "2022-07-23T14:32:04.365488",
     "status": "completed"
    },
    "tags": []
   },
   "outputs": [],
   "source": [
    "df_train.Embarked.fillna(df_train.Embarked.mode()[0], inplace=True)"
   ]
  },
  {
   "cell_type": "code",
   "execution_count": 10,
   "id": "005605b5",
   "metadata": {
    "execution": {
     "iopub.execute_input": "2022-07-23T14:32:04.401560Z",
     "iopub.status.busy": "2022-07-23T14:32:04.400785Z",
     "iopub.status.idle": "2022-07-23T14:32:04.411085Z",
     "shell.execute_reply": "2022-07-23T14:32:04.409967Z"
    },
    "papermill": {
     "duration": 0.022154,
     "end_time": "2022-07-23T14:32:04.413709",
     "exception": false,
     "start_time": "2022-07-23T14:32:04.391555",
     "status": "completed"
    },
    "tags": []
   },
   "outputs": [
    {
     "data": {
      "text/plain": [
       "PassengerId    0\n",
       "Survived       0\n",
       "Pclass         0\n",
       "Name           0\n",
       "Sex            0\n",
       "Age            0\n",
       "SibSp          0\n",
       "Parch          0\n",
       "Ticket         0\n",
       "Fare           0\n",
       "Embarked       0\n",
       "dtype: int64"
      ]
     },
     "execution_count": 10,
     "metadata": {},
     "output_type": "execute_result"
    }
   ],
   "source": [
    "df_train.isna().sum()"
   ]
  },
  {
   "cell_type": "code",
   "execution_count": 11,
   "id": "f1c63524",
   "metadata": {
    "execution": {
     "iopub.execute_input": "2022-07-23T14:32:04.432678Z",
     "iopub.status.busy": "2022-07-23T14:32:04.431622Z",
     "iopub.status.idle": "2022-07-23T14:32:04.441087Z",
     "shell.execute_reply": "2022-07-23T14:32:04.440103Z"
    },
    "papermill": {
     "duration": 0.021519,
     "end_time": "2022-07-23T14:32:04.443339",
     "exception": false,
     "start_time": "2022-07-23T14:32:04.421820",
     "status": "completed"
    },
    "tags": []
   },
   "outputs": [
    {
     "data": {
      "text/plain": [
       "PassengerId      0\n",
       "Pclass           0\n",
       "Name             0\n",
       "Sex              0\n",
       "Age             86\n",
       "SibSp            0\n",
       "Parch            0\n",
       "Ticket           0\n",
       "Fare             1\n",
       "Cabin          327\n",
       "Embarked         0\n",
       "dtype: int64"
      ]
     },
     "execution_count": 11,
     "metadata": {},
     "output_type": "execute_result"
    }
   ],
   "source": [
    "df_test.isna().sum()"
   ]
  },
  {
   "cell_type": "code",
   "execution_count": 12,
   "id": "dee533b4",
   "metadata": {
    "execution": {
     "iopub.execute_input": "2022-07-23T14:32:04.461534Z",
     "iopub.status.busy": "2022-07-23T14:32:04.461086Z",
     "iopub.status.idle": "2022-07-23T14:32:04.469434Z",
     "shell.execute_reply": "2022-07-23T14:32:04.468384Z"
    },
    "papermill": {
     "duration": 0.020107,
     "end_time": "2022-07-23T14:32:04.471630",
     "exception": false,
     "start_time": "2022-07-23T14:32:04.451523",
     "status": "completed"
    },
    "tags": []
   },
   "outputs": [],
   "source": [
    "df_test = df_test.drop(columns='Cabin', axis=1)\n",
    "df_test.Age.fillna(df_test.Age.mean(), inplace=True)\n",
    "df_test.Fare.fillna(df_test.Fare.mean(), inplace=True)"
   ]
  },
  {
   "cell_type": "code",
   "execution_count": 13,
   "id": "11d027e3",
   "metadata": {
    "execution": {
     "iopub.execute_input": "2022-07-23T14:32:04.490588Z",
     "iopub.status.busy": "2022-07-23T14:32:04.489857Z",
     "iopub.status.idle": "2022-07-23T14:32:04.498934Z",
     "shell.execute_reply": "2022-07-23T14:32:04.497945Z"
    },
    "papermill": {
     "duration": 0.021231,
     "end_time": "2022-07-23T14:32:04.501044",
     "exception": false,
     "start_time": "2022-07-23T14:32:04.479813",
     "status": "completed"
    },
    "tags": []
   },
   "outputs": [
    {
     "data": {
      "text/plain": [
       "PassengerId    0\n",
       "Pclass         0\n",
       "Name           0\n",
       "Sex            0\n",
       "Age            0\n",
       "SibSp          0\n",
       "Parch          0\n",
       "Ticket         0\n",
       "Fare           0\n",
       "Embarked       0\n",
       "dtype: int64"
      ]
     },
     "execution_count": 13,
     "metadata": {},
     "output_type": "execute_result"
    }
   ],
   "source": [
    "df_test.isna().sum()"
   ]
  },
  {
   "cell_type": "code",
   "execution_count": 14,
   "id": "2b27e953",
   "metadata": {
    "execution": {
     "iopub.execute_input": "2022-07-23T14:32:04.520223Z",
     "iopub.status.busy": "2022-07-23T14:32:04.519447Z",
     "iopub.status.idle": "2022-07-23T14:32:04.526640Z",
     "shell.execute_reply": "2022-07-23T14:32:04.525461Z"
    },
    "papermill": {
     "duration": 0.019406,
     "end_time": "2022-07-23T14:32:04.528847",
     "exception": false,
     "start_time": "2022-07-23T14:32:04.509441",
     "status": "completed"
    },
    "tags": []
   },
   "outputs": [
    {
     "data": {
      "text/plain": [
       "((891, 11), (418, 10))"
      ]
     },
     "execution_count": 14,
     "metadata": {},
     "output_type": "execute_result"
    }
   ],
   "source": [
    "df_train.shape, df_test.shape"
   ]
  },
  {
   "cell_type": "markdown",
   "id": "4c874f28",
   "metadata": {
    "papermill": {
     "duration": 0.008108,
     "end_time": "2022-07-23T14:32:04.545335",
     "exception": false,
     "start_time": "2022-07-23T14:32:04.537227",
     "status": "completed"
    },
    "tags": []
   },
   "source": [
    "# **Data Viz**"
   ]
  },
  {
   "cell_type": "code",
   "execution_count": 15,
   "id": "fee18ddd",
   "metadata": {
    "execution": {
     "iopub.execute_input": "2022-07-23T14:32:04.564134Z",
     "iopub.status.busy": "2022-07-23T14:32:04.563377Z",
     "iopub.status.idle": "2022-07-23T14:32:05.022457Z",
     "shell.execute_reply": "2022-07-23T14:32:05.021501Z"
    },
    "papermill": {
     "duration": 0.471539,
     "end_time": "2022-07-23T14:32:05.025171",
     "exception": false,
     "start_time": "2022-07-23T14:32:04.553632",
     "status": "completed"
    },
    "tags": []
   },
   "outputs": [
    {
     "data": {
      "text/plain": [
       "<AxesSubplot:xlabel='Age', ylabel='Fare'>"
      ]
     },
     "execution_count": 15,
     "metadata": {},
     "output_type": "execute_result"
    },
    {
     "data": {
      "image/png": "[encoded data removed]",
      "text/plain": [
       "<Figure size 1080x720 with 1 Axes>"
      ]
     },
     "metadata": {
      "needs_background": "light"
     },
     "output_type": "display_data"
    }
   ],
   "source": [
    "f, ax = plt.subplots(figsize=(15, 10))\n",
    "sns.scatterplot(x=\"Age\", y=\"Fare\",\n",
    "                hue=\"Survived\", size=\"Sex\",\n",
    "                palette=\"ch:r=-.2,d=.3_r\",\n",
    "                sizes=(50, 100), linewidth=1,\n",
    "                data=df_train, ax=ax)"
   ]
  },
  {
   "cell_type": "code",
   "execution_count": 16,
   "id": "fc38aa0a",
   "metadata": {
    "execution": {
     "iopub.execute_input": "2022-07-23T14:32:05.047912Z",
     "iopub.status.busy": "2022-07-23T14:32:05.046782Z",
     "iopub.status.idle": "2022-07-23T14:32:05.293440Z",
     "shell.execute_reply": "2022-07-23T14:32:05.292352Z"
    },
    "papermill": {
     "duration": 0.260462,
     "end_time": "2022-07-23T14:32:05.295861",
     "exception": false,
     "start_time": "2022-07-23T14:32:05.035399",
     "status": "completed"
    },
    "tags": []
   },
   "outputs": [
    {
     "data": {
      "text/plain": [
       "<AxesSubplot:xlabel='Sex', ylabel='Survived'>"
      ]
     },
     "execution_count": 16,
     "metadata": {},
     "output_type": "execute_result"
    },
    {
     "data": {
      "image/png": "[encoded data removed]",
      "text/plain": [
       "<Figure size 432x288 with 1 Axes>"
      ]
     },
     "metadata": {
      "needs_background": "light"
     },
     "output_type": "display_data"
    }
   ],
   "source": [
    "sns.barplot(x = 'Sex', y = 'Survived',data=df_train)"
   ]
  },
  {
   "cell_type": "code",
   "execution_count": 17,
   "id": "9981744b",
   "metadata": {
    "execution": {
     "iopub.execute_input": "2022-07-23T14:32:05.318408Z",
     "iopub.status.busy": "2022-07-23T14:32:05.317967Z",
     "iopub.status.idle": "2022-07-23T14:32:06.835929Z",
     "shell.execute_reply": "2022-07-23T14:32:06.834719Z"
    },
    "papermill": {
     "duration": 1.532424,
     "end_time": "2022-07-23T14:32:06.838832",
     "exception": false,
     "start_time": "2022-07-23T14:32:05.306408",
     "status": "completed"
    },
    "tags": []
   },
   "outputs": [
    {
     "name": "stderr",
     "output_type": "stream",
     "text": [
      "/opt/conda/lib/python3.7/site-packages/seaborn/categorical.py:1296: UserWarning: 26.3% of the points cannot be placed; you may want to decrease the size of the markers or use stripplot.\n",
      "  warnings.warn(msg, UserWarning)\n",
      "/opt/conda/lib/python3.7/site-packages/seaborn/categorical.py:1296: UserWarning: 14.6% of the points cannot be placed; you may want to decrease the size of the markers or use stripplot.\n",
      "  warnings.warn(msg, UserWarning)\n"
     ]
    },
    {
     "data": {
      "text/plain": [
       "<seaborn.axisgrid.FacetGrid at 0x7fdf7304cbd0>"
      ]
     },
     "execution_count": 17,
     "metadata": {},
     "output_type": "execute_result"
    },
    {
     "data": {
      "image/png": "[encoded data removed]",
      "text/plain": [
       "<Figure size 418.25x360 with 1 Axes>"
      ]
     },
     "metadata": {
      "needs_background": "light"
     },
     "output_type": "display_data"
    }
   ],
   "source": [
    "sns.catplot(x= 'Sex', y= 'Age', hue= 'Embarked', kind = 'swarm',data=df_train)"
   ]
  },
  {
   "cell_type": "code",
   "execution_count": 18,
   "id": "0dc38223",
   "metadata": {
    "execution": {
     "iopub.execute_input": "2022-07-23T14:32:06.864843Z",
     "iopub.status.busy": "2022-07-23T14:32:06.864418Z",
     "iopub.status.idle": "2022-07-23T14:32:06.888724Z",
     "shell.execute_reply": "2022-07-23T14:32:06.887643Z"
    },
    "papermill": {
     "duration": 0.039957,
     "end_time": "2022-07-23T14:32:06.890895",
     "exception": false,
     "start_time": "2022-07-23T14:32:06.850938",
     "status": "completed"
    },
    "tags": []
   },
   "outputs": [
    {
     "data": {
      "text/html": [
       "<div>\n",
       "<style scoped>\n",
       "    .dataframe tbody tr th:only-of-type {\n",
       "        vertical-align: middle;\n",
       "    }\n",
       "\n",
       "    .dataframe tbody tr th {\n",
       "        vertical-align: top;\n",
       "    }\n",
       "\n",
       "    .dataframe thead th {\n",
       "        text-align: right;\n",
       "    }\n",
       "</style>\n",
       "<table border=\"1\" class=\"dataframe\">\n",
       "  <thead>\n",
       "    <tr style=\"text-align: right;\">\n",
       "      <th></th>\n",
       "      <th>PassengerId</th>\n",
       "      <th>Survived</th>\n",
       "      <th>Pclass</th>\n",
       "      <th>Sex</th>\n",
       "      <th>Age</th>\n",
       "      <th>SibSp</th>\n",
       "      <th>Parch</th>\n",
       "      <th>Ticket</th>\n",
       "      <th>Fare</th>\n",
       "      <th>Embarked</th>\n",
       "    </tr>\n",
       "  </thead>\n",
       "  <tbody>\n",
       "    <tr>\n",
       "      <th>0</th>\n",
       "      <td>1</td>\n",
       "      <td>0</td>\n",
       "      <td>3</td>\n",
       "      <td>male</td>\n",
       "      <td>22.000000</td>\n",
       "      <td>1</td>\n",
       "      <td>0</td>\n",
       "      <td>A/5 21171</td>\n",
       "      <td>7.2500</td>\n",
       "      <td>S</td>\n",
       "    </tr>\n",
       "    <tr>\n",
       "      <th>1</th>\n",
       "      <td>2</td>\n",
       "      <td>1</td>\n",
       "      <td>1</td>\n",
       "      <td>female</td>\n",
       "      <td>38.000000</td>\n",
       "      <td>1</td>\n",
       "      <td>0</td>\n",
       "      <td>PC 17599</td>\n",
       "      <td>71.2833</td>\n",
       "      <td>C</td>\n",
       "    </tr>\n",
       "    <tr>\n",
       "      <th>2</th>\n",
       "      <td>3</td>\n",
       "      <td>1</td>\n",
       "      <td>3</td>\n",
       "      <td>female</td>\n",
       "      <td>26.000000</td>\n",
       "      <td>0</td>\n",
       "      <td>0</td>\n",
       "      <td>STON/O2. 3101282</td>\n",
       "      <td>7.9250</td>\n",
       "      <td>S</td>\n",
       "    </tr>\n",
       "    <tr>\n",
       "      <th>3</th>\n",
       "      <td>4</td>\n",
       "      <td>1</td>\n",
       "      <td>1</td>\n",
       "      <td>female</td>\n",
       "      <td>35.000000</td>\n",
       "      <td>1</td>\n",
       "      <td>0</td>\n",
       "      <td>113803</td>\n",
       "      <td>53.1000</td>\n",
       "      <td>S</td>\n",
       "    </tr>\n",
       "    <tr>\n",
       "      <th>4</th>\n",
       "      <td>5</td>\n",
       "      <td>0</td>\n",
       "      <td>3</td>\n",
       "      <td>male</td>\n",
       "      <td>35.000000</td>\n",
       "      <td>0</td>\n",
       "      <td>0</td>\n",
       "      <td>373450</td>\n",
       "      <td>8.0500</td>\n",
       "      <td>S</td>\n",
       "    </tr>\n",
       "    <tr>\n",
       "      <th>...</th>\n",
       "      <td>...</td>\n",
       "      <td>...</td>\n",
       "      <td>...</td>\n",
       "      <td>...</td>\n",
       "      <td>...</td>\n",
       "      <td>...</td>\n",
       "      <td>...</td>\n",
       "      <td>...</td>\n",
       "      <td>...</td>\n",
       "      <td>...</td>\n",
       "    </tr>\n",
       "    <tr>\n",
       "      <th>886</th>\n",
       "      <td>887</td>\n",
       "      <td>0</td>\n",
       "      <td>2</td>\n",
       "      <td>male</td>\n",
       "      <td>27.000000</td>\n",
       "      <td>0</td>\n",
       "      <td>0</td>\n",
       "      <td>211536</td>\n",
       "      <td>13.0000</td>\n",
       "      <td>S</td>\n",
       "    </tr>\n",
       "    <tr>\n",
       "      <th>887</th>\n",
       "      <td>888</td>\n",
       "      <td>1</td>\n",
       "      <td>1</td>\n",
       "      <td>female</td>\n",
       "      <td>19.000000</td>\n",
       "      <td>0</td>\n",
       "      <td>0</td>\n",
       "      <td>112053</td>\n",
       "      <td>30.0000</td>\n",
       "      <td>S</td>\n",
       "    </tr>\n",
       "    <tr>\n",
       "      <th>888</th>\n",
       "      <td>889</td>\n",
       "      <td>0</td>\n",
       "      <td>3</td>\n",
       "      <td>female</td>\n",
       "      <td>29.699118</td>\n",
       "      <td>1</td>\n",
       "      <td>2</td>\n",
       "      <td>W./C. 6607</td>\n",
       "      <td>23.4500</td>\n",
       "      <td>S</td>\n",
       "    </tr>\n",
       "    <tr>\n",
       "      <th>889</th>\n",
       "      <td>890</td>\n",
       "      <td>1</td>\n",
       "      <td>1</td>\n",
       "      <td>male</td>\n",
       "      <td>26.000000</td>\n",
       "      <td>0</td>\n",
       "      <td>0</td>\n",
       "      <td>111369</td>\n",
       "      <td>30.0000</td>\n",
       "      <td>C</td>\n",
       "    </tr>\n",
       "    <tr>\n",
       "      <th>890</th>\n",
       "      <td>891</td>\n",
       "      <td>0</td>\n",
       "      <td>3</td>\n",
       "      <td>male</td>\n",
       "      <td>32.000000</td>\n",
       "      <td>0</td>\n",
       "      <td>0</td>\n",
       "      <td>370376</td>\n",
       "      <td>7.7500</td>\n",
       "      <td>Q</td>\n",
       "    </tr>\n",
       "  </tbody>\n",
       "</table>\n",
       "<p>891 rows × 10 columns</p>\n",
       "</div>"
      ],
      "text/plain": [
       "     PassengerId  Survived  Pclass     Sex        Age  SibSp  Parch  \\\n",
       "0              1         0       3    male  22.000000      1      0   \n",
       "1              2         1       1  female  38.000000      1      0   \n",
       "2              3         1       3  female  26.000000      0      0   \n",
       "3              4         1       1  female  35.000000      1      0   \n",
       "4              5         0       3    male  35.000000      0      0   \n",
       "..           ...       ...     ...     ...        ...    ...    ...   \n",
       "886          887         0       2    male  27.000000      0      0   \n",
       "887          888         1       1  female  19.000000      0      0   \n",
       "888          889         0       3  female  29.699118      1      2   \n",
       "889          890         1       1    male  26.000000      0      0   \n",
       "890          891         0       3    male  32.000000      0      0   \n",
       "\n",
       "               Ticket     Fare Embarked  \n",
       "0           A/5 21171   7.2500        S  \n",
       "1            PC 17599  71.2833        C  \n",
       "2    STON/O2. 3101282   7.9250        S  \n",
       "3              113803  53.1000        S  \n",
       "4              373450   8.0500        S  \n",
       "..                ...      ...      ...  \n",
       "886            211536  13.0000        S  \n",
       "887            112053  30.0000        S  \n",
       "888        W./C. 6607  23.4500        S  \n",
       "889            111369  30.0000        C  \n",
       "890            370376   7.7500        Q  \n",
       "\n",
       "[891 rows x 10 columns]"
      ]
     },
     "execution_count": 18,
     "metadata": {},
     "output_type": "execute_result"
    }
   ],
   "source": [
    "df_train2 = df_train.drop('Name', axis = 1)\n",
    "df_train2"
   ]
  },
  {
   "cell_type": "markdown",
   "id": "5b9cfdd8",
   "metadata": {
    "papermill": {
     "duration": 0.011806,
     "end_time": "2022-07-23T14:32:06.915159",
     "exception": false,
     "start_time": "2022-07-23T14:32:06.903353",
     "status": "completed"
    },
    "tags": []
   },
   "source": [
    "# **PreProcessing**"
   ]
  },
  {
   "cell_type": "code",
   "execution_count": 19,
   "id": "51144a75",
   "metadata": {
    "execution": {
     "iopub.execute_input": "2022-07-23T14:32:06.941866Z",
     "iopub.status.busy": "2022-07-23T14:32:06.941431Z",
     "iopub.status.idle": "2022-07-23T14:32:06.948523Z",
     "shell.execute_reply": "2022-07-23T14:32:06.947356Z"
    },
    "papermill": {
     "duration": 0.024222,
     "end_time": "2022-07-23T14:32:06.951475",
     "exception": false,
     "start_time": "2022-07-23T14:32:06.927253",
     "status": "completed"
    },
    "tags": []
   },
   "outputs": [
    {
     "name": "stdout",
     "output_type": "stream",
     "text": [
      "Categorical variables:\n",
      "['Sex', 'Ticket', 'Embarked']\n"
     ]
    }
   ],
   "source": [
    "s = (df_train2.dtypes == 'object')\n",
    "object_cols = list(s[s].index)\n",
    "\n",
    "print(\"Categorical variables:\")\n",
    "print(object_cols)"
   ]
  },
  {
   "cell_type": "code",
   "execution_count": 20,
   "id": "a58541e5",
   "metadata": {
    "execution": {
     "iopub.execute_input": "2022-07-23T14:32:06.977876Z",
     "iopub.status.busy": "2022-07-23T14:32:06.977415Z",
     "iopub.status.idle": "2022-07-23T14:32:07.017206Z",
     "shell.execute_reply": "2022-07-23T14:32:07.015938Z"
    },
    "papermill": {
     "duration": 0.055999,
     "end_time": "2022-07-23T14:32:07.019811",
     "exception": false,
     "start_time": "2022-07-23T14:32:06.963812",
     "status": "completed"
    },
    "tags": []
   },
   "outputs": [],
   "source": [
    "# Apply one-hot encoder to each column with categorical data\n",
    "OH_encoder = OneHotEncoder(handle_unknown='ignore', sparse=False)\n",
    "OH_cols_train = pd.DataFrame(OH_encoder.fit_transform(df_train[object_cols]))\n",
    "OH_cols_test = pd.DataFrame(OH_encoder.transform(df_test[object_cols]))\n",
    "\n",
    "# One-hot encoding removed index; put it back\n",
    "OH_cols_train.index = df_train.index\n",
    "OH_cols_test.index = df_test.index\n",
    "\n",
    "# Remove categorical columns (will replace with one-hot encoding)\n",
    "num_df_train = df_train.drop(object_cols, axis=1)\n",
    "num_df_test = df_test.drop(object_cols, axis=1)\n",
    "\n",
    "# Add one-hot encoded columns to numerical features\n",
    "OH_X_train = pd.concat([num_df_train, OH_cols_train], axis=1)\n",
    "OH_X_valid = pd.concat([num_df_test, OH_cols_test], axis=1)\n",
    "\n",
    "# print(\"MAE from Approach 3 (One-Hot Encoding):\") \n",
    "# print(score_dataset(OH_X_train, OH_X_valid, y_train, y_valid))"
   ]
  },
  {
   "cell_type": "code",
   "execution_count": 21,
   "id": "d50312a3",
   "metadata": {
    "execution": {
     "iopub.execute_input": "2022-07-23T14:32:07.046678Z",
     "iopub.status.busy": "2022-07-23T14:32:07.046167Z",
     "iopub.status.idle": "2022-07-23T14:32:07.057212Z",
     "shell.execute_reply": "2022-07-23T14:32:07.056367Z"
    },
    "papermill": {
     "duration": 0.027406,
     "end_time": "2022-07-23T14:32:07.059544",
     "exception": false,
     "start_time": "2022-07-23T14:32:07.032138",
     "status": "completed"
    },
    "tags": []
   },
   "outputs": [],
   "source": [
    "categorical_cols = [cname for cname in df_train2.columns if df_train2[cname].nunique() < 10 and \n",
    "                        df_train2[cname].dtype == \"object\"]\n",
    "\n",
    "numerical_cols = [cname for cname in df_train2.columns if df_train2[cname].dtype in ['int64', 'float64']]"
   ]
  },
  {
   "cell_type": "code",
   "execution_count": 22,
   "id": "c23b8347",
   "metadata": {
    "execution": {
     "iopub.execute_input": "2022-07-23T14:32:07.087228Z",
     "iopub.status.busy": "2022-07-23T14:32:07.086260Z",
     "iopub.status.idle": "2022-07-23T14:32:07.094145Z",
     "shell.execute_reply": "2022-07-23T14:32:07.093376Z"
    },
    "papermill": {
     "duration": 0.023945,
     "end_time": "2022-07-23T14:32:07.096156",
     "exception": false,
     "start_time": "2022-07-23T14:32:07.072211",
     "status": "completed"
    },
    "tags": []
   },
   "outputs": [],
   "source": [
    "numerical_transformer = SimpleImputer(strategy ='constant')\n",
    "\n",
    "categorical_transformer = Pipeline(steps = [\n",
    "    ('imputer', SimpleImputer(strategy = 'most_frequent')),\n",
    "    ('onehot', OneHotEncoder(handle_unknown = 'ignore'))\n",
    "])\n",
    "\n",
    "preprocessor = ColumnTransformer(transformers=[\n",
    "    ('num', numerical_transformer, numerical_cols),\n",
    "    ('cat', categorical_transformer, categorical_cols)\n",
    "])\n",
    "\n",
    "my_cols = categorical_cols + numerical_cols\n",
    "df_train2 = df_train2[my_cols].copy()\n",
    "# df_test2 = df_test[my_cols].copy()"
   ]
  },
  {
   "cell_type": "markdown",
   "id": "7297edec",
   "metadata": {
    "papermill": {
     "duration": 0.013706,
     "end_time": "2022-07-23T14:32:07.122255",
     "exception": false,
     "start_time": "2022-07-23T14:32:07.108549",
     "status": "completed"
    },
    "tags": []
   },
   "source": [
    "# **Model**"
   ]
  },
  {
   "cell_type": "code",
   "execution_count": 23,
   "id": "f0e61715",
   "metadata": {
    "execution": {
     "iopub.execute_input": "2022-07-23T14:32:07.149113Z",
     "iopub.status.busy": "2022-07-23T14:32:07.148681Z",
     "iopub.status.idle": "2022-07-23T14:32:07.154169Z",
     "shell.execute_reply": "2022-07-23T14:32:07.153150Z"
    },
    "papermill": {
     "duration": 0.021396,
     "end_time": "2022-07-23T14:32:07.156461",
     "exception": false,
     "start_time": "2022-07-23T14:32:07.135065",
     "status": "completed"
    },
    "tags": []
   },
   "outputs": [],
   "source": [
    "# model = RandomForestRegressor()\n",
    "model = LinearRegression(n_jobs = 10)\n",
    "\n",
    "pipeline_lr = Pipeline(steps =[\n",
    "    ('preprocessor', preprocessor),\n",
    "    ('model', model)\n",
    "])"
   ]
  },
  {
   "cell_type": "code",
   "execution_count": 24,
   "id": "01723811",
   "metadata": {
    "execution": {
     "iopub.execute_input": "2022-07-23T14:32:07.184146Z",
     "iopub.status.busy": "2022-07-23T14:32:07.183167Z",
     "iopub.status.idle": "2022-07-23T14:32:07.188533Z",
     "shell.execute_reply": "2022-07-23T14:32:07.187392Z"
    },
    "papermill": {
     "duration": 0.022051,
     "end_time": "2022-07-23T14:32:07.191153",
     "exception": false,
     "start_time": "2022-07-23T14:32:07.169102",
     "status": "completed"
    },
    "tags": []
   },
   "outputs": [],
   "source": [
    "## TO BE RESOLVED ''\n",
    "\n",
    "# df_train2, df_test, y_train, y_test = train_test_split(X_train, y, \n",
    "#                                                        train_size=0.8, test_size=0.2, \n",
    "#                                                        random_state=0)"
   ]
  },
  {
   "cell_type": "code",
   "execution_count": 25,
   "id": "2801bc84",
   "metadata": {
    "execution": {
     "iopub.execute_input": "2022-07-23T14:32:07.217931Z",
     "iopub.status.busy": "2022-07-23T14:32:07.217530Z",
     "iopub.status.idle": "2022-07-23T14:32:07.222559Z",
     "shell.execute_reply": "2022-07-23T14:32:07.221340Z"
    },
    "papermill": {
     "duration": 0.021669,
     "end_time": "2022-07-23T14:32:07.225069",
     "exception": false,
     "start_time": "2022-07-23T14:32:07.203400",
     "status": "completed"
    },
    "tags": []
   },
   "outputs": [],
   "source": [
    "# pipeline_lr.fit()"
   ]
  }
 ],
 "metadata": {
  "kernelspec": {
   "display_name": "Python 3",
   "language": "python",
   "name": "python3"
  },
  "language_info": {
   "codemirror_mode": {
    "name": "ipython",
    "version": 3
   },
   "file_extension": ".py",
   "mimetype": "text/x-python",
   "name": "python",
   "nbconvert_exporter": "python",
   "pygments_lexer": "ipython3",
   "version": "3.7.12"
  },
  "papermill": {
   "default_parameters": {},
   "duration": 16.623031,
   "end_time": "2022-07-23T14:32:08.060827",
   "environment_variables": {},
   "exception": null,
   "input_path": "__notebook__.ipynb",
   "output_path": "__notebook__.ipynb",
   "parameters": {},
   "start_time": "2022-07-23T14:31:51.437796",
   "version": "2.3.4"
  }
 },
 "nbformat": 4,
 "nbformat_minor": 5
}
