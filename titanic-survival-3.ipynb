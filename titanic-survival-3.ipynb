{
 "cells": [
  {
   "cell_type": "code",
   "execution_count": 1,
   "id": "be977631",
   "metadata": {
    "execution": {
     "iopub.execute_input": "2022-07-27T11:18:17.977890Z",
     "iopub.status.busy": "2022-07-27T11:18:17.977177Z",
     "iopub.status.idle": "2022-07-27T11:18:17.999674Z",
     "shell.execute_reply": "2022-07-27T11:18:17.998289Z"
    },
    "papermill": {
     "duration": 0.047488,
     "end_time": "2022-07-27T11:18:18.002659",
     "exception": false,
     "start_time": "2022-07-27T11:18:17.955171",
     "status": "completed"
    },
    "tags": []
   },
   "outputs": [
    {
     "name": "stdout",
     "output_type": "stream",
     "text": [
      "/kaggle/input/titanic/train.csv\n",
      "/kaggle/input/titanic/test.csv\n",
      "/kaggle/input/titanic/gender_submission.csv\n"
     ]
    }
   ],
   "source": [
    "# This Python 3 environment comes with many helpful analytics libraries installed\n",
    "# It is defined by the kaggle/python Docker image: https://github.com/kaggle/docker-python\n",
    "# For example, here's several helpful packages to load\n",
    "\n",
    "import numpy as np # linear algebra\n",
    "import pandas as pd # data processing, CSV file I/O (e.g. pd.read_csv)\n",
    "\n",
    "# Input data files are available in the read-only \"../input/\" directory\n",
    "# For example, running this (by clicking run or pressing Shift+Enter) will list all files under the input directory\n",
    "\n",
    "import os\n",
    "for dirname, _, filenames in os.walk('/kaggle/input'):\n",
    "    for filename in filenames:\n",
    "        print(os.path.join(dirname, filename))\n",
    "\n",
    "# You can write up to 20GB to the current directory (/kaggle/working/) that gets preserved as output when you create a version using \"Save & Run All\" \n",
    "# You can also write temporary files to /kaggle/temp/, but they won't be saved outside of the current session"
   ]
  },
  {
   "cell_type": "markdown",
   "id": "a04a4b55",
   "metadata": {
    "papermill": {
     "duration": 0.01391,
     "end_time": "2022-07-27T11:18:18.031827",
     "exception": false,
     "start_time": "2022-07-27T11:18:18.017917",
     "status": "completed"
    },
    "tags": []
   },
   "source": [
    "# **Importing Packages**"
   ]
  },
  {
   "cell_type": "code",
   "execution_count": 2,
   "id": "3639b1de",
   "metadata": {
    "execution": {
     "iopub.execute_input": "2022-07-27T11:18:18.062153Z",
     "iopub.status.busy": "2022-07-27T11:18:18.061426Z",
     "iopub.status.idle": "2022-07-27T11:18:19.581963Z",
     "shell.execute_reply": "2022-07-27T11:18:19.581268Z"
    },
    "papermill": {
     "duration": 1.538196,
     "end_time": "2022-07-27T11:18:19.584183",
     "exception": false,
     "start_time": "2022-07-27T11:18:18.045987",
     "status": "completed"
    },
    "tags": []
   },
   "outputs": [],
   "source": [
    "import seaborn as sns\n",
    "import matplotlib.pyplot as plt\n",
    "from sklearn.linear_model import LinearRegression\n",
    "from sklearn.linear_model import LogisticRegression\n",
    "from sklearn.ensemble import RandomForestRegressor\n",
    "from sklearn.tree import DecisionTreeClassifier\n",
    "from sklearn.svm import SVC\n",
    "from sklearn.ensemble import GradientBoostingClassifier\n",
    "from sklearn.model_selection import GridSearchCV, RandomizedSearchCV\n",
    "\n",
    "from sklearn.preprocessing import OneHotEncoder\n",
    "from sklearn.pipeline import Pipeline\n",
    "from sklearn.compose import ColumnTransformer\n",
    "from sklearn.impute import SimpleImputer\n",
    "\n",
    "from sklearn.model_selection import train_test_split\n",
    "\n",
    "from sklearn.metrics import classification_report\n",
    "from sklearn.metrics import mean_absolute_error\n"
   ]
  },
  {
   "cell_type": "markdown",
   "id": "23e21ef6",
   "metadata": {
    "papermill": {
     "duration": 0.014393,
     "end_time": "2022-07-27T11:18:19.613157",
     "exception": false,
     "start_time": "2022-07-27T11:18:19.598764",
     "status": "completed"
    },
    "tags": []
   },
   "source": [
    "# **Importing the Dataset**"
   ]
  },
  {
   "cell_type": "code",
   "execution_count": 3,
   "id": "95558d03",
   "metadata": {
    "execution": {
     "iopub.execute_input": "2022-07-27T11:18:19.644283Z",
     "iopub.status.busy": "2022-07-27T11:18:19.643589Z",
     "iopub.status.idle": "2022-07-27T11:18:19.674754Z",
     "shell.execute_reply": "2022-07-27T11:18:19.673763Z"
    },
    "papermill": {
     "duration": 0.049781,
     "end_time": "2022-07-27T11:18:19.677255",
     "exception": false,
     "start_time": "2022-07-27T11:18:19.627474",
     "status": "completed"
    },
    "tags": []
   },
   "outputs": [],
   "source": [
    "## Using the base knowledge make a predition model without using a pipeline. ##\n",
    "df_train = pd.read_csv('../input/titanic/train.csv')\n",
    "df_test = pd.read_csv('../input/titanic/test.csv')"
   ]
  },
  {
   "cell_type": "code",
   "execution_count": 4,
   "id": "18039c17",
   "metadata": {
    "execution": {
     "iopub.execute_input": "2022-07-27T11:18:19.707873Z",
     "iopub.status.busy": "2022-07-27T11:18:19.707473Z",
     "iopub.status.idle": "2022-07-27T11:18:19.735829Z",
     "shell.execute_reply": "2022-07-27T11:18:19.734825Z"
    },
    "papermill": {
     "duration": 0.047646,
     "end_time": "2022-07-27T11:18:19.739338",
     "exception": false,
     "start_time": "2022-07-27T11:18:19.691692",
     "status": "completed"
    },
    "tags": []
   },
   "outputs": [
    {
     "name": "stdout",
     "output_type": "stream",
     "text": [
      "<class 'pandas.core.frame.DataFrame'>\n",
      "RangeIndex: 891 entries, 0 to 890\n",
      "Data columns (total 12 columns):\n",
      " #   Column       Non-Null Count  Dtype  \n",
      "---  ------       --------------  -----  \n",
      " 0   PassengerId  891 non-null    int64  \n",
      " 1   Survived     891 non-null    int64  \n",
      " 2   Pclass       891 non-null    int64  \n",
      " 3   Name         891 non-null    object \n",
      " 4   Sex          891 non-null    object \n",
      " 5   Age          714 non-null    float64\n",
      " 6   SibSp        891 non-null    int64  \n",
      " 7   Parch        891 non-null    int64  \n",
      " 8   Ticket       891 non-null    object \n",
      " 9   Fare         891 non-null    float64\n",
      " 10  Cabin        204 non-null    object \n",
      " 11  Embarked     889 non-null    object \n",
      "dtypes: float64(2), int64(5), object(5)\n",
      "memory usage: 83.7+ KB\n"
     ]
    }
   ],
   "source": [
    "df_train.info()\n",
    "# df_test.info()"
   ]
  },
  {
   "cell_type": "code",
   "execution_count": 5,
   "id": "20ae878b",
   "metadata": {
    "execution": {
     "iopub.execute_input": "2022-07-27T11:18:19.772128Z",
     "iopub.status.busy": "2022-07-27T11:18:19.771271Z",
     "iopub.status.idle": "2022-07-27T11:18:19.794232Z",
     "shell.execute_reply": "2022-07-27T11:18:19.793224Z"
    },
    "papermill": {
     "duration": 0.040782,
     "end_time": "2022-07-27T11:18:19.796496",
     "exception": false,
     "start_time": "2022-07-27T11:18:19.755714",
     "status": "completed"
    },
    "tags": []
   },
   "outputs": [
    {
     "data": {
      "text/html": [
       "<div>\n",
       "<style scoped>\n",
       "    .dataframe tbody tr th:only-of-type {\n",
       "        vertical-align: middle;\n",
       "    }\n",
       "\n",
       "    .dataframe tbody tr th {\n",
       "        vertical-align: top;\n",
       "    }\n",
       "\n",
       "    .dataframe thead th {\n",
       "        text-align: right;\n",
       "    }\n",
       "</style>\n",
       "<table border=\"1\" class=\"dataframe\">\n",
       "  <thead>\n",
       "    <tr style=\"text-align: right;\">\n",
       "      <th></th>\n",
       "      <th>PassengerId</th>\n",
       "      <th>Survived</th>\n",
       "      <th>Pclass</th>\n",
       "      <th>Name</th>\n",
       "      <th>Sex</th>\n",
       "      <th>Age</th>\n",
       "      <th>SibSp</th>\n",
       "      <th>Parch</th>\n",
       "      <th>Ticket</th>\n",
       "      <th>Fare</th>\n",
       "      <th>Cabin</th>\n",
       "      <th>Embarked</th>\n",
       "    </tr>\n",
       "  </thead>\n",
       "  <tbody>\n",
       "    <tr>\n",
       "      <th>0</th>\n",
       "      <td>1</td>\n",
       "      <td>0</td>\n",
       "      <td>3</td>\n",
       "      <td>Braund, Mr. Owen Harris</td>\n",
       "      <td>male</td>\n",
       "      <td>22.0</td>\n",
       "      <td>1</td>\n",
       "      <td>0</td>\n",
       "      <td>A/5 21171</td>\n",
       "      <td>7.2500</td>\n",
       "      <td>NaN</td>\n",
       "      <td>S</td>\n",
       "    </tr>\n",
       "    <tr>\n",
       "      <th>1</th>\n",
       "      <td>2</td>\n",
       "      <td>1</td>\n",
       "      <td>1</td>\n",
       "      <td>Cumings, Mrs. John Bradley (Florence Briggs Th...</td>\n",
       "      <td>female</td>\n",
       "      <td>38.0</td>\n",
       "      <td>1</td>\n",
       "      <td>0</td>\n",
       "      <td>PC 17599</td>\n",
       "      <td>71.2833</td>\n",
       "      <td>C85</td>\n",
       "      <td>C</td>\n",
       "    </tr>\n",
       "    <tr>\n",
       "      <th>2</th>\n",
       "      <td>3</td>\n",
       "      <td>1</td>\n",
       "      <td>3</td>\n",
       "      <td>Heikkinen, Miss. Laina</td>\n",
       "      <td>female</td>\n",
       "      <td>26.0</td>\n",
       "      <td>0</td>\n",
       "      <td>0</td>\n",
       "      <td>STON/O2. 3101282</td>\n",
       "      <td>7.9250</td>\n",
       "      <td>NaN</td>\n",
       "      <td>S</td>\n",
       "    </tr>\n",
       "    <tr>\n",
       "      <th>3</th>\n",
       "      <td>4</td>\n",
       "      <td>1</td>\n",
       "      <td>1</td>\n",
       "      <td>Futrelle, Mrs. Jacques Heath (Lily May Peel)</td>\n",
       "      <td>female</td>\n",
       "      <td>35.0</td>\n",
       "      <td>1</td>\n",
       "      <td>0</td>\n",
       "      <td>113803</td>\n",
       "      <td>53.1000</td>\n",
       "      <td>C123</td>\n",
       "      <td>S</td>\n",
       "    </tr>\n",
       "    <tr>\n",
       "      <th>4</th>\n",
       "      <td>5</td>\n",
       "      <td>0</td>\n",
       "      <td>3</td>\n",
       "      <td>Allen, Mr. William Henry</td>\n",
       "      <td>male</td>\n",
       "      <td>35.0</td>\n",
       "      <td>0</td>\n",
       "      <td>0</td>\n",
       "      <td>373450</td>\n",
       "      <td>8.0500</td>\n",
       "      <td>NaN</td>\n",
       "      <td>S</td>\n",
       "    </tr>\n",
       "  </tbody>\n",
       "</table>\n",
       "</div>"
      ],
      "text/plain": [
       "   PassengerId  Survived  Pclass  \\\n",
       "0            1         0       3   \n",
       "1            2         1       1   \n",
       "2            3         1       3   \n",
       "3            4         1       1   \n",
       "4            5         0       3   \n",
       "\n",
       "                                                Name     Sex   Age  SibSp  \\\n",
       "0                            Braund, Mr. Owen Harris    male  22.0      1   \n",
       "1  Cumings, Mrs. John Bradley (Florence Briggs Th...  female  38.0      1   \n",
       "2                             Heikkinen, Miss. Laina  female  26.0      0   \n",
       "3       Futrelle, Mrs. Jacques Heath (Lily May Peel)  female  35.0      1   \n",
       "4                           Allen, Mr. William Henry    male  35.0      0   \n",
       "\n",
       "   Parch            Ticket     Fare Cabin Embarked  \n",
       "0      0         A/5 21171   7.2500   NaN        S  \n",
       "1      0          PC 17599  71.2833   C85        C  \n",
       "2      0  STON/O2. 3101282   7.9250   NaN        S  \n",
       "3      0            113803  53.1000  C123        S  \n",
       "4      0            373450   8.0500   NaN        S  "
      ]
     },
     "execution_count": 5,
     "metadata": {},
     "output_type": "execute_result"
    }
   ],
   "source": [
    "df_train.head()"
   ]
  },
  {
   "cell_type": "code",
   "execution_count": 6,
   "id": "14447e12",
   "metadata": {
    "execution": {
     "iopub.execute_input": "2022-07-27T11:18:19.827230Z",
     "iopub.status.busy": "2022-07-27T11:18:19.826827Z",
     "iopub.status.idle": "2022-07-27T11:18:19.834498Z",
     "shell.execute_reply": "2022-07-27T11:18:19.833418Z"
    },
    "papermill": {
     "duration": 0.025537,
     "end_time": "2022-07-27T11:18:19.836609",
     "exception": false,
     "start_time": "2022-07-27T11:18:19.811072",
     "status": "completed"
    },
    "tags": []
   },
   "outputs": [
    {
     "data": {
      "text/plain": [
       "0    549\n",
       "1    342\n",
       "Name: Survived, dtype: int64"
      ]
     },
     "execution_count": 6,
     "metadata": {},
     "output_type": "execute_result"
    }
   ],
   "source": [
    "df_train.Survived.value_counts()"
   ]
  },
  {
   "cell_type": "code",
   "execution_count": 7,
   "id": "cb67768f",
   "metadata": {
    "execution": {
     "iopub.execute_input": "2022-07-27T11:18:19.868393Z",
     "iopub.status.busy": "2022-07-27T11:18:19.867671Z",
     "iopub.status.idle": "2022-07-27T11:18:19.878406Z",
     "shell.execute_reply": "2022-07-27T11:18:19.877394Z"
    },
    "papermill": {
     "duration": 0.029347,
     "end_time": "2022-07-27T11:18:19.880499",
     "exception": false,
     "start_time": "2022-07-27T11:18:19.851152",
     "status": "completed"
    },
    "tags": []
   },
   "outputs": [
    {
     "name": "stdout",
     "output_type": "stream",
     "text": [
      "Not Survive Percentage: 61.62%\n",
      "Survive Percentage: 38.38%\n"
     ]
    }
   ],
   "source": [
    "countNotSurvive = len(df_train[df_train.Survived == 0])\n",
    "countSurvive = len(df_train[df_train.Survived == 1])\n",
    "print(\"Not Survive Percentage: {:.2f}%\".format((countNotSurvive / (len(df_train.Survived))*100)))\n",
    "print(\"Survive Percentage: {:.2f}%\".format((countSurvive / (len(df_train.Survived))*100)))"
   ]
  },
  {
   "cell_type": "code",
   "execution_count": 8,
   "id": "1320cc6b",
   "metadata": {
    "execution": {
     "iopub.execute_input": "2022-07-27T11:18:19.911897Z",
     "iopub.status.busy": "2022-07-27T11:18:19.911306Z",
     "iopub.status.idle": "2022-07-27T11:18:20.106925Z",
     "shell.execute_reply": "2022-07-27T11:18:20.106018Z"
    },
    "papermill": {
     "duration": 0.213635,
     "end_time": "2022-07-27T11:18:20.108941",
     "exception": false,
     "start_time": "2022-07-27T11:18:19.895306",
     "status": "completed"
    },
    "tags": []
   },
   "outputs": [
    {
     "data": {
      "image/png": "[encoded data removed]",
      "text/plain": [
       "<Figure size 432x288 with 1 Axes>"
      ]
     },
     "metadata": {
      "needs_background": "light"
     },
     "output_type": "display_data"
    }
   ],
   "source": [
    "sns.countplot(x='Sex', data=df_train, palette=\"bwr\")\n",
    "plt.xlabel(\"Sex\")\n",
    "plt.show()"
   ]
  },
  {
   "cell_type": "code",
   "execution_count": 9,
   "id": "65660192",
   "metadata": {
    "execution": {
     "iopub.execute_input": "2022-07-27T11:18:20.140913Z",
     "iopub.status.busy": "2022-07-27T11:18:20.140389Z",
     "iopub.status.idle": "2022-07-27T11:18:20.147901Z",
     "shell.execute_reply": "2022-07-27T11:18:20.147261Z"
    },
    "papermill": {
     "duration": 0.025937,
     "end_time": "2022-07-27T11:18:20.149916",
     "exception": false,
     "start_time": "2022-07-27T11:18:20.123979",
     "status": "completed"
    },
    "tags": []
   },
   "outputs": [
    {
     "name": "stdout",
     "output_type": "stream",
     "text": [
      "Female Percentage: 35.24%\n",
      "Male Percentage: 64.76%\n"
     ]
    }
   ],
   "source": [
    "countFemale = len(df_train[df_train.Sex == \"female\"])\n",
    "countMale = len(df_train[df_train.Sex == \"male\"])\n",
    "print(\"Female Percentage: {:.2f}%\".format((countFemale / (len(df_train.Sex))*100)))\n",
    "print(\"Male Percentage: {:.2f}%\".format((countMale / (len(df_train.Sex))*100)))"
   ]
  },
  {
   "cell_type": "code",
   "execution_count": 10,
   "id": "38c68536",
   "metadata": {
    "execution": {
     "iopub.execute_input": "2022-07-27T11:18:20.182033Z",
     "iopub.status.busy": "2022-07-27T11:18:20.181455Z",
     "iopub.status.idle": "2022-07-27T11:18:20.407745Z",
     "shell.execute_reply": "2022-07-27T11:18:20.406840Z"
    },
    "papermill": {
     "duration": 0.244905,
     "end_time": "2022-07-27T11:18:20.410057",
     "exception": false,
     "start_time": "2022-07-27T11:18:20.165152",
     "status": "completed"
    },
    "tags": []
   },
   "outputs": [
    {
     "data": {
      "image/png": "[encoded data removed]",
      "text/plain": [
       "<Figure size 720x432 with 1 Axes>"
      ]
     },
     "metadata": {
      "needs_background": "light"
     },
     "output_type": "display_data"
    }
   ],
   "source": [
    "pd.crosstab(df_train.Sex,df_train.Survived).plot(kind=\"bar\",figsize=(10,6))\n",
    "plt.title('Survived status based on Gender')\n",
    "plt.xlabel('Gender')\n",
    "plt.xticks(rotation=0)\n",
    "plt.legend([\"Not Survived\", \"Survived\"])\n",
    "plt.ylabel('Frequency')\n",
    "plt.show()"
   ]
  },
  {
   "cell_type": "markdown",
   "id": "23a23c45",
   "metadata": {
    "papermill": {
     "duration": 0.014989,
     "end_time": "2022-07-27T11:18:20.441074",
     "exception": false,
     "start_time": "2022-07-27T11:18:20.426085",
     "status": "completed"
    },
    "tags": []
   },
   "source": [
    "# **Tackling the null values Problem**"
   ]
  },
  {
   "cell_type": "code",
   "execution_count": 11,
   "id": "e8854236",
   "metadata": {
    "execution": {
     "iopub.execute_input": "2022-07-27T11:18:20.474048Z",
     "iopub.status.busy": "2022-07-27T11:18:20.473179Z",
     "iopub.status.idle": "2022-07-27T11:18:20.484133Z",
     "shell.execute_reply": "2022-07-27T11:18:20.483402Z"
    },
    "papermill": {
     "duration": 0.029792,
     "end_time": "2022-07-27T11:18:20.486221",
     "exception": false,
     "start_time": "2022-07-27T11:18:20.456429",
     "status": "completed"
    },
    "tags": []
   },
   "outputs": [
    {
     "data": {
      "text/plain": [
       "PassengerId      0\n",
       "Survived         0\n",
       "Pclass           0\n",
       "Name             0\n",
       "Sex              0\n",
       "Age            177\n",
       "SibSp            0\n",
       "Parch            0\n",
       "Ticket           0\n",
       "Fare             0\n",
       "Cabin          687\n",
       "Embarked         2\n",
       "dtype: int64"
      ]
     },
     "execution_count": 11,
     "metadata": {},
     "output_type": "execute_result"
    }
   ],
   "source": [
    "null_cols = df_train.isna().sum()\n",
    "null_cols"
   ]
  },
  {
   "cell_type": "code",
   "execution_count": 12,
   "id": "e631920c",
   "metadata": {
    "execution": {
     "iopub.execute_input": "2022-07-27T11:18:20.519353Z",
     "iopub.status.busy": "2022-07-27T11:18:20.518914Z",
     "iopub.status.idle": "2022-07-27T11:18:20.524401Z",
     "shell.execute_reply": "2022-07-27T11:18:20.523465Z"
    },
    "papermill": {
     "duration": 0.024388,
     "end_time": "2022-07-27T11:18:20.526335",
     "exception": false,
     "start_time": "2022-07-27T11:18:20.501947",
     "status": "completed"
    },
    "tags": []
   },
   "outputs": [],
   "source": [
    "df_train = df_train.drop(columns='Cabin', axis=1)"
   ]
  },
  {
   "cell_type": "code",
   "execution_count": 13,
   "id": "7910bc6b",
   "metadata": {
    "execution": {
     "iopub.execute_input": "2022-07-27T11:18:20.559061Z",
     "iopub.status.busy": "2022-07-27T11:18:20.558461Z",
     "iopub.status.idle": "2022-07-27T11:18:20.564181Z",
     "shell.execute_reply": "2022-07-27T11:18:20.563314Z"
    },
    "papermill": {
     "duration": 0.024299,
     "end_time": "2022-07-27T11:18:20.566146",
     "exception": false,
     "start_time": "2022-07-27T11:18:20.541847",
     "status": "completed"
    },
    "tags": []
   },
   "outputs": [],
   "source": [
    "df_train.Age.fillna(df_train.Age.mean(), inplace=True)"
   ]
  },
  {
   "cell_type": "code",
   "execution_count": 14,
   "id": "845cc4df",
   "metadata": {
    "execution": {
     "iopub.execute_input": "2022-07-27T11:18:20.598499Z",
     "iopub.status.busy": "2022-07-27T11:18:20.598086Z",
     "iopub.status.idle": "2022-07-27T11:18:20.604608Z",
     "shell.execute_reply": "2022-07-27T11:18:20.603643Z"
    },
    "papermill": {
     "duration": 0.025091,
     "end_time": "2022-07-27T11:18:20.606636",
     "exception": false,
     "start_time": "2022-07-27T11:18:20.581545",
     "status": "completed"
    },
    "tags": []
   },
   "outputs": [],
   "source": [
    "df_train.Embarked.fillna(df_train.Embarked.mode()[0], inplace=True)"
   ]
  },
  {
   "cell_type": "code",
   "execution_count": 15,
   "id": "55b67c4e",
   "metadata": {
    "execution": {
     "iopub.execute_input": "2022-07-27T11:18:20.639650Z",
     "iopub.status.busy": "2022-07-27T11:18:20.639020Z",
     "iopub.status.idle": "2022-07-27T11:18:20.644922Z",
     "shell.execute_reply": "2022-07-27T11:18:20.644321Z"
    },
    "papermill": {
     "duration": 0.024368,
     "end_time": "2022-07-27T11:18:20.646778",
     "exception": false,
     "start_time": "2022-07-27T11:18:20.622410",
     "status": "completed"
    },
    "tags": []
   },
   "outputs": [],
   "source": [
    "df_train1 = df_train['Age'] = df_train['Age'].fillna(df_train['Age'].mean())\n",
    "df_test1 = df_test['Age'] = df_test['Age'].fillna(df_test['Age'].mean())"
   ]
  },
  {
   "cell_type": "code",
   "execution_count": 16,
   "id": "8c259474",
   "metadata": {
    "execution": {
     "iopub.execute_input": "2022-07-27T11:18:20.679810Z",
     "iopub.status.busy": "2022-07-27T11:18:20.679288Z",
     "iopub.status.idle": "2022-07-27T11:18:20.687234Z",
     "shell.execute_reply": "2022-07-27T11:18:20.686460Z"
    },
    "papermill": {
     "duration": 0.026402,
     "end_time": "2022-07-27T11:18:20.689062",
     "exception": false,
     "start_time": "2022-07-27T11:18:20.662660",
     "status": "completed"
    },
    "tags": []
   },
   "outputs": [
    {
     "data": {
      "text/plain": [
       "PassengerId    0\n",
       "Survived       0\n",
       "Pclass         0\n",
       "Name           0\n",
       "Sex            0\n",
       "Age            0\n",
       "SibSp          0\n",
       "Parch          0\n",
       "Ticket         0\n",
       "Fare           0\n",
       "Embarked       0\n",
       "dtype: int64"
      ]
     },
     "execution_count": 16,
     "metadata": {},
     "output_type": "execute_result"
    }
   ],
   "source": [
    "df_train.isna().sum()"
   ]
  },
  {
   "cell_type": "code",
   "execution_count": 17,
   "id": "d3136f99",
   "metadata": {
    "execution": {
     "iopub.execute_input": "2022-07-27T11:18:20.721785Z",
     "iopub.status.busy": "2022-07-27T11:18:20.721277Z",
     "iopub.status.idle": "2022-07-27T11:18:20.728464Z",
     "shell.execute_reply": "2022-07-27T11:18:20.727839Z"
    },
    "papermill": {
     "duration": 0.025599,
     "end_time": "2022-07-27T11:18:20.730155",
     "exception": false,
     "start_time": "2022-07-27T11:18:20.704556",
     "status": "completed"
    },
    "tags": []
   },
   "outputs": [
    {
     "data": {
      "text/plain": [
       "PassengerId      0\n",
       "Pclass           0\n",
       "Name             0\n",
       "Sex              0\n",
       "Age              0\n",
       "SibSp            0\n",
       "Parch            0\n",
       "Ticket           0\n",
       "Fare             1\n",
       "Cabin          327\n",
       "Embarked         0\n",
       "dtype: int64"
      ]
     },
     "execution_count": 17,
     "metadata": {},
     "output_type": "execute_result"
    }
   ],
   "source": [
    "df_test.isna().sum()"
   ]
  },
  {
   "cell_type": "code",
   "execution_count": 18,
   "id": "cde21164",
   "metadata": {
    "execution": {
     "iopub.execute_input": "2022-07-27T11:18:20.763118Z",
     "iopub.status.busy": "2022-07-27T11:18:20.762628Z",
     "iopub.status.idle": "2022-07-27T11:18:20.769056Z",
     "shell.execute_reply": "2022-07-27T11:18:20.768407Z"
    },
    "papermill": {
     "duration": 0.025159,
     "end_time": "2022-07-27T11:18:20.770914",
     "exception": false,
     "start_time": "2022-07-27T11:18:20.745755",
     "status": "completed"
    },
    "tags": []
   },
   "outputs": [],
   "source": [
    "df_test = df_test.drop(columns='Cabin', axis=1)\n",
    "df_test.Age.fillna(df_test.Age.mean(), inplace=True)\n",
    "df_test.Fare.fillna(df_test.Fare.mean(), inplace=True)"
   ]
  },
  {
   "cell_type": "code",
   "execution_count": 19,
   "id": "0fbc9157",
   "metadata": {
    "execution": {
     "iopub.execute_input": "2022-07-27T11:18:20.803802Z",
     "iopub.status.busy": "2022-07-27T11:18:20.803289Z",
     "iopub.status.idle": "2022-07-27T11:18:20.810501Z",
     "shell.execute_reply": "2022-07-27T11:18:20.809714Z"
    },
    "papermill": {
     "duration": 0.025838,
     "end_time": "2022-07-27T11:18:20.812273",
     "exception": false,
     "start_time": "2022-07-27T11:18:20.786435",
     "status": "completed"
    },
    "tags": []
   },
   "outputs": [
    {
     "data": {
      "text/plain": [
       "PassengerId    0\n",
       "Pclass         0\n",
       "Name           0\n",
       "Sex            0\n",
       "Age            0\n",
       "SibSp          0\n",
       "Parch          0\n",
       "Ticket         0\n",
       "Fare           0\n",
       "Embarked       0\n",
       "dtype: int64"
      ]
     },
     "execution_count": 19,
     "metadata": {},
     "output_type": "execute_result"
    }
   ],
   "source": [
    "df_test.isna().sum()"
   ]
  },
  {
   "cell_type": "code",
   "execution_count": 20,
   "id": "d1e6bcd7",
   "metadata": {
    "execution": {
     "iopub.execute_input": "2022-07-27T11:18:20.845693Z",
     "iopub.status.busy": "2022-07-27T11:18:20.845174Z",
     "iopub.status.idle": "2022-07-27T11:18:20.849880Z",
     "shell.execute_reply": "2022-07-27T11:18:20.849328Z"
    },
    "papermill": {
     "duration": 0.023544,
     "end_time": "2022-07-27T11:18:20.851553",
     "exception": false,
     "start_time": "2022-07-27T11:18:20.828009",
     "status": "completed"
    },
    "tags": []
   },
   "outputs": [
    {
     "data": {
      "text/plain": [
       "((891, 11), (418, 10))"
      ]
     },
     "execution_count": 20,
     "metadata": {},
     "output_type": "execute_result"
    }
   ],
   "source": [
    "df_train.shape, df_test.shape"
   ]
  },
  {
   "cell_type": "code",
   "execution_count": 21,
   "id": "d391bda2",
   "metadata": {
    "execution": {
     "iopub.execute_input": "2022-07-27T11:18:20.885625Z",
     "iopub.status.busy": "2022-07-27T11:18:20.885093Z",
     "iopub.status.idle": "2022-07-27T11:18:20.890616Z",
     "shell.execute_reply": "2022-07-27T11:18:20.889779Z"
    },
    "papermill": {
     "duration": 0.025082,
     "end_time": "2022-07-27T11:18:20.892474",
     "exception": false,
     "start_time": "2022-07-27T11:18:20.867392",
     "status": "completed"
    },
    "tags": []
   },
   "outputs": [],
   "source": [
    "df_train.Fare = np.sqrt(df_train.Fare)\n",
    "df_test.Fare = np.sqrt(df_train.Fare)"
   ]
  },
  {
   "cell_type": "code",
   "execution_count": 22,
   "id": "b28c4b89",
   "metadata": {
    "execution": {
     "iopub.execute_input": "2022-07-27T11:18:20.926397Z",
     "iopub.status.busy": "2022-07-27T11:18:20.925846Z",
     "iopub.status.idle": "2022-07-27T11:18:20.930762Z",
     "shell.execute_reply": "2022-07-27T11:18:20.930169Z"
    },
    "papermill": {
     "duration": 0.024021,
     "end_time": "2022-07-27T11:18:20.932482",
     "exception": false,
     "start_time": "2022-07-27T11:18:20.908461",
     "status": "completed"
    },
    "tags": []
   },
   "outputs": [],
   "source": [
    "df_train.SibSp = np.sqrt(df_train.SibSp)\n",
    "df_test.SibSp = np.sqrt(df_test.SibSp)"
   ]
  },
  {
   "cell_type": "code",
   "execution_count": 23,
   "id": "37ac8750",
   "metadata": {
    "execution": {
     "iopub.execute_input": "2022-07-27T11:18:20.966822Z",
     "iopub.status.busy": "2022-07-27T11:18:20.966310Z",
     "iopub.status.idle": "2022-07-27T11:18:20.971330Z",
     "shell.execute_reply": "2022-07-27T11:18:20.970637Z"
    },
    "papermill": {
     "duration": 0.024646,
     "end_time": "2022-07-27T11:18:20.973394",
     "exception": false,
     "start_time": "2022-07-27T11:18:20.948748",
     "status": "completed"
    },
    "tags": []
   },
   "outputs": [],
   "source": [
    "df_train.Parch = np.sqrt(df_train.Parch)\n",
    "df_test.Parch = np.sqrt(df_test.Parch)"
   ]
  },
  {
   "cell_type": "markdown",
   "id": "99f48953",
   "metadata": {
    "papermill": {
     "duration": 0.016087,
     "end_time": "2022-07-27T11:18:21.005680",
     "exception": false,
     "start_time": "2022-07-27T11:18:20.989593",
     "status": "completed"
    },
    "tags": []
   },
   "source": [
    "# **Data Viz**"
   ]
  },
  {
   "cell_type": "code",
   "execution_count": 24,
   "id": "cdd321ea",
   "metadata": {
    "execution": {
     "iopub.execute_input": "2022-07-27T11:18:21.040662Z",
     "iopub.status.busy": "2022-07-27T11:18:21.040123Z",
     "iopub.status.idle": "2022-07-27T11:18:21.187659Z",
     "shell.execute_reply": "2022-07-27T11:18:21.186874Z"
    },
    "papermill": {
     "duration": 0.166858,
     "end_time": "2022-07-27T11:18:21.189531",
     "exception": false,
     "start_time": "2022-07-27T11:18:21.022673",
     "status": "completed"
    },
    "tags": []
   },
   "outputs": [
    {
     "data": {
      "image/png": "[encoded data removed]",
      "text/plain": [
       "<Figure size 432x288 with 1 Axes>"
      ]
     },
     "metadata": {
      "needs_background": "light"
     },
     "output_type": "display_data"
    }
   ],
   "source": [
    "sns.countplot(x='Survived', data = df_train)\n",
    "plt.xlabel('Survived (0=No, 1=Yes)')\n",
    "plt.show()"
   ]
  },
  {
   "cell_type": "code",
   "execution_count": 25,
   "id": "50e87717",
   "metadata": {
    "execution": {
     "iopub.execute_input": "2022-07-27T11:18:21.223648Z",
     "iopub.status.busy": "2022-07-27T11:18:21.223093Z",
     "iopub.status.idle": "2022-07-27T11:18:21.607605Z",
     "shell.execute_reply": "2022-07-27T11:18:21.606691Z"
    },
    "papermill": {
     "duration": 0.404359,
     "end_time": "2022-07-27T11:18:21.610078",
     "exception": false,
     "start_time": "2022-07-27T11:18:21.205719",
     "status": "completed"
    },
    "tags": []
   },
   "outputs": [
    {
     "data": {
      "text/plain": [
       "<AxesSubplot:xlabel='Age', ylabel='Fare'>"
      ]
     },
     "execution_count": 25,
     "metadata": {},
     "output_type": "execute_result"
    },
    {
     "data": {
      "image/png": "[encoded data removed]",
      "text/plain": [
       "<Figure size 1080x720 with 1 Axes>"
      ]
     },
     "metadata": {
      "needs_background": "light"
     },
     "output_type": "display_data"
    }
   ],
   "source": [
    "f, ax = plt.subplots(figsize=(15, 10))\n",
    "sns.scatterplot(x=\"Age\", y=\"Fare\",\n",
    "                hue=\"Survived\", size=\"Sex\",\n",
    "                palette=\"ch:r=-.2,d=.3_r\",\n",
    "                sizes=(50, 100), linewidth=1,\n",
    "                data=df_train, ax=ax)"
   ]
  },
  {
   "cell_type": "code",
   "execution_count": 26,
   "id": "6095d57c",
   "metadata": {
    "execution": {
     "iopub.execute_input": "2022-07-27T11:18:21.647900Z",
     "iopub.status.busy": "2022-07-27T11:18:21.647475Z",
     "iopub.status.idle": "2022-07-27T11:18:21.890588Z",
     "shell.execute_reply": "2022-07-27T11:18:21.889642Z"
    },
    "papermill": {
     "duration": 0.265285,
     "end_time": "2022-07-27T11:18:21.893330",
     "exception": false,
     "start_time": "2022-07-27T11:18:21.628045",
     "status": "completed"
    },
    "tags": []
   },
   "outputs": [
    {
     "data": {
      "text/plain": [
       "<AxesSubplot:xlabel='Sex', ylabel='Survived'>"
      ]
     },
     "execution_count": 26,
     "metadata": {},
     "output_type": "execute_result"
    },
    {
     "data": {
      "image/png": "[encoded data removed]",
      "text/plain": [
       "<Figure size 432x288 with 1 Axes>"
      ]
     },
     "metadata": {
      "needs_background": "light"
     },
     "output_type": "display_data"
    }
   ],
   "source": [
    "sns.barplot(x = 'Sex', y = 'Survived',data=df_train)"
   ]
  },
  {
   "cell_type": "code",
   "execution_count": 27,
   "id": "7cb96f7a",
   "metadata": {
    "execution": {
     "iopub.execute_input": "2022-07-27T11:18:21.932919Z",
     "iopub.status.busy": "2022-07-27T11:18:21.932290Z",
     "iopub.status.idle": "2022-07-27T11:18:23.651190Z",
     "shell.execute_reply": "2022-07-27T11:18:23.650297Z"
    },
    "papermill": {
     "duration": 1.742012,
     "end_time": "2022-07-27T11:18:23.654132",
     "exception": false,
     "start_time": "2022-07-27T11:18:21.912120",
     "status": "completed"
    },
    "tags": []
   },
   "outputs": [
    {
     "name": "stderr",
     "output_type": "stream",
     "text": [
      "/opt/conda/lib/python3.7/site-packages/seaborn/categorical.py:1296: UserWarning: 26.3% of the points cannot be placed; you may want to decrease the size of the markers or use stripplot.\n",
      "  warnings.warn(msg, UserWarning)\n",
      "/opt/conda/lib/python3.7/site-packages/seaborn/categorical.py:1296: UserWarning: 14.6% of the points cannot be placed; you may want to decrease the size of the markers or use stripplot.\n",
      "  warnings.warn(msg, UserWarning)\n"
     ]
    },
    {
     "data": {
      "text/plain": [
       "<seaborn.axisgrid.FacetGrid at 0x7effe80ee650>"
      ]
     },
     "execution_count": 27,
     "metadata": {},
     "output_type": "execute_result"
    },
    {
     "data": {
      "image/png": "[encoded data removed]",
      "text/plain": [
       "<Figure size 418.25x360 with 1 Axes>"
      ]
     },
     "metadata": {
      "needs_background": "light"
     },
     "output_type": "display_data"
    }
   ],
   "source": [
    "sns.catplot(x= 'Sex', y= 'Age', hue= 'Embarked', kind = 'swarm',data=df_train)"
   ]
  },
  {
   "cell_type": "markdown",
   "id": "252d544c",
   "metadata": {
    "papermill": {
     "duration": 0.02128,
     "end_time": "2022-07-27T11:18:23.696767",
     "exception": false,
     "start_time": "2022-07-27T11:18:23.675487",
     "status": "completed"
    },
    "tags": []
   },
   "source": [
    "# **Dropping Columns**"
   ]
  },
  {
   "cell_type": "code",
   "execution_count": 28,
   "id": "69731d84",
   "metadata": {
    "execution": {
     "iopub.execute_input": "2022-07-27T11:18:23.739359Z",
     "iopub.status.busy": "2022-07-27T11:18:23.738606Z",
     "iopub.status.idle": "2022-07-27T11:18:23.759731Z",
     "shell.execute_reply": "2022-07-27T11:18:23.758677Z"
    },
    "papermill": {
     "duration": 0.044571,
     "end_time": "2022-07-27T11:18:23.761976",
     "exception": false,
     "start_time": "2022-07-27T11:18:23.717405",
     "status": "completed"
    },
    "tags": []
   },
   "outputs": [
    {
     "data": {
      "text/html": [
       "<div>\n",
       "<style scoped>\n",
       "    .dataframe tbody tr th:only-of-type {\n",
       "        vertical-align: middle;\n",
       "    }\n",
       "\n",
       "    .dataframe tbody tr th {\n",
       "        vertical-align: top;\n",
       "    }\n",
       "\n",
       "    .dataframe thead th {\n",
       "        text-align: right;\n",
       "    }\n",
       "</style>\n",
       "<table border=\"1\" class=\"dataframe\">\n",
       "  <thead>\n",
       "    <tr style=\"text-align: right;\">\n",
       "      <th></th>\n",
       "      <th>PassengerId</th>\n",
       "      <th>Survived</th>\n",
       "      <th>Pclass</th>\n",
       "      <th>Sex</th>\n",
       "      <th>Age</th>\n",
       "      <th>SibSp</th>\n",
       "      <th>Parch</th>\n",
       "      <th>Fare</th>\n",
       "      <th>Embarked</th>\n",
       "    </tr>\n",
       "  </thead>\n",
       "  <tbody>\n",
       "    <tr>\n",
       "      <th>0</th>\n",
       "      <td>1</td>\n",
       "      <td>0</td>\n",
       "      <td>3</td>\n",
       "      <td>male</td>\n",
       "      <td>22.000000</td>\n",
       "      <td>1.0</td>\n",
       "      <td>0.000000</td>\n",
       "      <td>2.692582</td>\n",
       "      <td>S</td>\n",
       "    </tr>\n",
       "    <tr>\n",
       "      <th>1</th>\n",
       "      <td>2</td>\n",
       "      <td>1</td>\n",
       "      <td>1</td>\n",
       "      <td>female</td>\n",
       "      <td>38.000000</td>\n",
       "      <td>1.0</td>\n",
       "      <td>0.000000</td>\n",
       "      <td>8.442944</td>\n",
       "      <td>C</td>\n",
       "    </tr>\n",
       "    <tr>\n",
       "      <th>2</th>\n",
       "      <td>3</td>\n",
       "      <td>1</td>\n",
       "      <td>3</td>\n",
       "      <td>female</td>\n",
       "      <td>26.000000</td>\n",
       "      <td>0.0</td>\n",
       "      <td>0.000000</td>\n",
       "      <td>2.815138</td>\n",
       "      <td>S</td>\n",
       "    </tr>\n",
       "    <tr>\n",
       "      <th>3</th>\n",
       "      <td>4</td>\n",
       "      <td>1</td>\n",
       "      <td>1</td>\n",
       "      <td>female</td>\n",
       "      <td>35.000000</td>\n",
       "      <td>1.0</td>\n",
       "      <td>0.000000</td>\n",
       "      <td>7.286975</td>\n",
       "      <td>S</td>\n",
       "    </tr>\n",
       "    <tr>\n",
       "      <th>4</th>\n",
       "      <td>5</td>\n",
       "      <td>0</td>\n",
       "      <td>3</td>\n",
       "      <td>male</td>\n",
       "      <td>35.000000</td>\n",
       "      <td>0.0</td>\n",
       "      <td>0.000000</td>\n",
       "      <td>2.837252</td>\n",
       "      <td>S</td>\n",
       "    </tr>\n",
       "    <tr>\n",
       "      <th>...</th>\n",
       "      <td>...</td>\n",
       "      <td>...</td>\n",
       "      <td>...</td>\n",
       "      <td>...</td>\n",
       "      <td>...</td>\n",
       "      <td>...</td>\n",
       "      <td>...</td>\n",
       "      <td>...</td>\n",
       "      <td>...</td>\n",
       "    </tr>\n",
       "    <tr>\n",
       "      <th>886</th>\n",
       "      <td>887</td>\n",
       "      <td>0</td>\n",
       "      <td>2</td>\n",
       "      <td>male</td>\n",
       "      <td>27.000000</td>\n",
       "      <td>0.0</td>\n",
       "      <td>0.000000</td>\n",
       "      <td>3.605551</td>\n",
       "      <td>S</td>\n",
       "    </tr>\n",
       "    <tr>\n",
       "      <th>887</th>\n",
       "      <td>888</td>\n",
       "      <td>1</td>\n",
       "      <td>1</td>\n",
       "      <td>female</td>\n",
       "      <td>19.000000</td>\n",
       "      <td>0.0</td>\n",
       "      <td>0.000000</td>\n",
       "      <td>5.477226</td>\n",
       "      <td>S</td>\n",
       "    </tr>\n",
       "    <tr>\n",
       "      <th>888</th>\n",
       "      <td>889</td>\n",
       "      <td>0</td>\n",
       "      <td>3</td>\n",
       "      <td>female</td>\n",
       "      <td>29.699118</td>\n",
       "      <td>1.0</td>\n",
       "      <td>1.414214</td>\n",
       "      <td>4.842520</td>\n",
       "      <td>S</td>\n",
       "    </tr>\n",
       "    <tr>\n",
       "      <th>889</th>\n",
       "      <td>890</td>\n",
       "      <td>1</td>\n",
       "      <td>1</td>\n",
       "      <td>male</td>\n",
       "      <td>26.000000</td>\n",
       "      <td>0.0</td>\n",
       "      <td>0.000000</td>\n",
       "      <td>5.477226</td>\n",
       "      <td>C</td>\n",
       "    </tr>\n",
       "    <tr>\n",
       "      <th>890</th>\n",
       "      <td>891</td>\n",
       "      <td>0</td>\n",
       "      <td>3</td>\n",
       "      <td>male</td>\n",
       "      <td>32.000000</td>\n",
       "      <td>0.0</td>\n",
       "      <td>0.000000</td>\n",
       "      <td>2.783882</td>\n",
       "      <td>Q</td>\n",
       "    </tr>\n",
       "  </tbody>\n",
       "</table>\n",
       "<p>891 rows × 9 columns</p>\n",
       "</div>"
      ],
      "text/plain": [
       "     PassengerId  Survived  Pclass     Sex        Age  SibSp     Parch  \\\n",
       "0              1         0       3    male  22.000000    1.0  0.000000   \n",
       "1              2         1       1  female  38.000000    1.0  0.000000   \n",
       "2              3         1       3  female  26.000000    0.0  0.000000   \n",
       "3              4         1       1  female  35.000000    1.0  0.000000   \n",
       "4              5         0       3    male  35.000000    0.0  0.000000   \n",
       "..           ...       ...     ...     ...        ...    ...       ...   \n",
       "886          887         0       2    male  27.000000    0.0  0.000000   \n",
       "887          888         1       1  female  19.000000    0.0  0.000000   \n",
       "888          889         0       3  female  29.699118    1.0  1.414214   \n",
       "889          890         1       1    male  26.000000    0.0  0.000000   \n",
       "890          891         0       3    male  32.000000    0.0  0.000000   \n",
       "\n",
       "         Fare Embarked  \n",
       "0    2.692582        S  \n",
       "1    8.442944        C  \n",
       "2    2.815138        S  \n",
       "3    7.286975        S  \n",
       "4    2.837252        S  \n",
       "..        ...      ...  \n",
       "886  3.605551        S  \n",
       "887  5.477226        S  \n",
       "888  4.842520        S  \n",
       "889  5.477226        C  \n",
       "890  2.783882        Q  \n",
       "\n",
       "[891 rows x 9 columns]"
      ]
     },
     "execution_count": 28,
     "metadata": {},
     "output_type": "execute_result"
    }
   ],
   "source": [
    "df_train2 = df_train.drop(['Name', 'Ticket'], axis = 1)\n",
    "# df_train2 = df_train.drop(['Cabin'], axis = 1)\n",
    "df_train2"
   ]
  },
  {
   "cell_type": "markdown",
   "id": "5158e963",
   "metadata": {
    "papermill": {
     "duration": 0.020222,
     "end_time": "2022-07-27T11:18:23.802613",
     "exception": false,
     "start_time": "2022-07-27T11:18:23.782391",
     "status": "completed"
    },
    "tags": []
   },
   "source": [
    "# **PreProcessing**"
   ]
  },
  {
   "cell_type": "code",
   "execution_count": 29,
   "id": "46c08881",
   "metadata": {
    "execution": {
     "iopub.execute_input": "2022-07-27T11:18:23.846008Z",
     "iopub.status.busy": "2022-07-27T11:18:23.845287Z",
     "iopub.status.idle": "2022-07-27T11:18:23.853814Z",
     "shell.execute_reply": "2022-07-27T11:18:23.853129Z"
    },
    "papermill": {
     "duration": 0.032508,
     "end_time": "2022-07-27T11:18:23.855877",
     "exception": false,
     "start_time": "2022-07-27T11:18:23.823369",
     "status": "completed"
    },
    "tags": []
   },
   "outputs": [],
   "source": [
    "## IMPORTANT!!!! TO CONVERT CATEGORICAL DATA INTO NUMERICAL ##\n",
    "    ## USE \".get_dummies\" FOR THIS CONVERSION ##\n",
    "\n",
    "df_train3 = pd.get_dummies(df_train2, columns=['Sex', 'Embarked'])"
   ]
  },
  {
   "cell_type": "code",
   "execution_count": 30,
   "id": "4fc4c270",
   "metadata": {
    "execution": {
     "iopub.execute_input": "2022-07-27T11:18:23.897970Z",
     "iopub.status.busy": "2022-07-27T11:18:23.897569Z",
     "iopub.status.idle": "2022-07-27T11:18:23.910820Z",
     "shell.execute_reply": "2022-07-27T11:18:23.910109Z"
    },
    "papermill": {
     "duration": 0.037952,
     "end_time": "2022-07-27T11:18:23.913992",
     "exception": false,
     "start_time": "2022-07-27T11:18:23.876040",
     "status": "completed"
    },
    "tags": []
   },
   "outputs": [
    {
     "name": "stdout",
     "output_type": "stream",
     "text": [
      "<class 'pandas.core.frame.DataFrame'>\n",
      "RangeIndex: 891 entries, 0 to 890\n",
      "Data columns (total 12 columns):\n",
      " #   Column       Non-Null Count  Dtype  \n",
      "---  ------       --------------  -----  \n",
      " 0   PassengerId  891 non-null    int64  \n",
      " 1   Survived     891 non-null    int64  \n",
      " 2   Pclass       891 non-null    int64  \n",
      " 3   Age          891 non-null    float64\n",
      " 4   SibSp        891 non-null    float64\n",
      " 5   Parch        891 non-null    float64\n",
      " 6   Fare         891 non-null    float64\n",
      " 7   Sex_female   891 non-null    uint8  \n",
      " 8   Sex_male     891 non-null    uint8  \n",
      " 9   Embarked_C   891 non-null    uint8  \n",
      " 10  Embarked_Q   891 non-null    uint8  \n",
      " 11  Embarked_S   891 non-null    uint8  \n",
      "dtypes: float64(4), int64(3), uint8(5)\n",
      "memory usage: 53.2 KB\n"
     ]
    }
   ],
   "source": [
    "df_train3.info()"
   ]
  },
  {
   "cell_type": "code",
   "execution_count": 31,
   "id": "29d94fdd",
   "metadata": {
    "execution": {
     "iopub.execute_input": "2022-07-27T11:18:23.957596Z",
     "iopub.status.busy": "2022-07-27T11:18:23.956988Z",
     "iopub.status.idle": "2022-07-27T11:18:23.962809Z",
     "shell.execute_reply": "2022-07-27T11:18:23.962094Z"
    },
    "papermill": {
     "duration": 0.02992,
     "end_time": "2022-07-27T11:18:23.964597",
     "exception": false,
     "start_time": "2022-07-27T11:18:23.934677",
     "status": "completed"
    },
    "tags": []
   },
   "outputs": [
    {
     "data": {
      "text/plain": [
       "Index(['PassengerId', 'Survived', 'Pclass', 'Age', 'SibSp', 'Parch', 'Fare',\n",
       "       'Sex_female', 'Sex_male', 'Embarked_C', 'Embarked_Q', 'Embarked_S'],\n",
       "      dtype='object')"
      ]
     },
     "execution_count": 31,
     "metadata": {},
     "output_type": "execute_result"
    }
   ],
   "source": [
    "df_train3.columns"
   ]
  },
  {
   "cell_type": "code",
   "execution_count": 32,
   "id": "cb01d595",
   "metadata": {
    "execution": {
     "iopub.execute_input": "2022-07-27T11:18:24.007532Z",
     "iopub.status.busy": "2022-07-27T11:18:24.006901Z",
     "iopub.status.idle": "2022-07-27T11:18:24.012736Z",
     "shell.execute_reply": "2022-07-27T11:18:24.012032Z"
    },
    "papermill": {
     "duration": 0.029771,
     "end_time": "2022-07-27T11:18:24.014864",
     "exception": false,
     "start_time": "2022-07-27T11:18:23.985093",
     "status": "completed"
    },
    "tags": []
   },
   "outputs": [
    {
     "name": "stdout",
     "output_type": "stream",
     "text": [
      "Categorical variables:\n",
      "[]\n"
     ]
    }
   ],
   "source": [
    "s = (df_train3.dtypes == 'object')\n",
    "object_cols = list(s[s].index)\n",
    "\n",
    "print(\"Categorical variables:\")\n",
    "print(object_cols)"
   ]
  },
  {
   "cell_type": "code",
   "execution_count": 33,
   "id": "9a0a3397",
   "metadata": {
    "execution": {
     "iopub.execute_input": "2022-07-27T11:18:24.057713Z",
     "iopub.status.busy": "2022-07-27T11:18:24.057313Z",
     "iopub.status.idle": "2022-07-27T11:18:24.071403Z",
     "shell.execute_reply": "2022-07-27T11:18:24.070579Z"
    },
    "papermill": {
     "duration": 0.037999,
     "end_time": "2022-07-27T11:18:24.073530",
     "exception": false,
     "start_time": "2022-07-27T11:18:24.035531",
     "status": "completed"
    },
    "tags": []
   },
   "outputs": [],
   "source": [
    "# Apply one-hot encoder to each column with categorical data\n",
    "OH_encoder = OneHotEncoder(handle_unknown='ignore', sparse=False)\n",
    "OH_cols_train = pd.DataFrame(OH_encoder.fit_transform(df_train3[object_cols]))\n",
    "OH_cols_test = pd.DataFrame(OH_encoder.transform(df_test[object_cols]))\n",
    "\n",
    "# One-hot encoding removed index; put it back\n",
    "OH_cols_train.index = df_train3.index\n",
    "OH_cols_test.index = df_test.index\n",
    "\n",
    "# Remove categorical columns (will replace with one-hot encoding)\n",
    "num_df_train = df_train3.drop(object_cols, axis=1)\n",
    "num_df_test = df_test.drop(object_cols, axis=1)\n",
    "\n",
    "# Add one-hot encoded columns to numerical features\n",
    "OH_X_train = pd.concat([num_df_train, OH_cols_train], axis=1)\n",
    "OH_X_valid = pd.concat([num_df_test, OH_cols_test], axis=1)\n",
    "\n",
    "# print(\"MAE from Approach 3 (One-Hot Encoding):\") \n",
    "# print(score_dataset(OH_X_train, OH_X_valid, y_train, y_valid))"
   ]
  },
  {
   "cell_type": "code",
   "execution_count": 34,
   "id": "d885e776",
   "metadata": {
    "execution": {
     "iopub.execute_input": "2022-07-27T11:18:24.117749Z",
     "iopub.status.busy": "2022-07-27T11:18:24.116886Z",
     "iopub.status.idle": "2022-07-27T11:18:24.127558Z",
     "shell.execute_reply": "2022-07-27T11:18:24.126779Z"
    },
    "papermill": {
     "duration": 0.034923,
     "end_time": "2022-07-27T11:18:24.129606",
     "exception": false,
     "start_time": "2022-07-27T11:18:24.094683",
     "status": "completed"
    },
    "tags": []
   },
   "outputs": [],
   "source": [
    "# categorical_cols = ['Sex', 'Embarked']\n",
    "\n",
    "categorical_cols = [cname for cname in df_train3.columns if df_train3[cname].nunique() < 10 and df_train3[cname].dtype == \"object\"]\n",
    "\n",
    "# numerical_cols = ['PassengerId', 'Survived','Pclass', 'Age', 'SibSp', 'Parch', 'Fare']\n",
    "numerical_cols = [cname for cname in df_train3.columns if \n",
    "                df_train3[cname].dtype in ['int64', 'float64']]"
   ]
  },
  {
   "cell_type": "code",
   "execution_count": 35,
   "id": "8d79e6c9",
   "metadata": {
    "execution": {
     "iopub.execute_input": "2022-07-27T11:18:24.174435Z",
     "iopub.status.busy": "2022-07-27T11:18:24.174015Z",
     "iopub.status.idle": "2022-07-27T11:18:24.181982Z",
     "shell.execute_reply": "2022-07-27T11:18:24.181166Z"
    },
    "papermill": {
     "duration": 0.032473,
     "end_time": "2022-07-27T11:18:24.184110",
     "exception": false,
     "start_time": "2022-07-27T11:18:24.151637",
     "status": "completed"
    },
    "tags": []
   },
   "outputs": [],
   "source": [
    "numerical_transformer = SimpleImputer(strategy ='constant')\n",
    "\n",
    "categorical_transformer = Pipeline(steps = [\n",
    "    ('imputer', SimpleImputer(strategy = 'most_frequent')),\n",
    "    ('onehot', OneHotEncoder(handle_unknown = 'ignore'))\n",
    "])\n",
    "\n",
    "preprocessor = ColumnTransformer(\n",
    "    transformers=[\n",
    "    ('num', numerical_transformer, numerical_cols),\n",
    "    ('cat', categorical_transformer, categorical_cols)\n",
    "])\n",
    "\n",
    "my_cols = categorical_cols + numerical_cols\n",
    "df_train3 = df_train2[my_cols].copy()\n",
    "# df_test2 = df_test[my_cols].copy()"
   ]
  },
  {
   "cell_type": "markdown",
   "id": "7063b660",
   "metadata": {
    "papermill": {
     "duration": 0.021189,
     "end_time": "2022-07-27T11:18:24.226347",
     "exception": false,
     "start_time": "2022-07-27T11:18:24.205158",
     "status": "completed"
    },
    "tags": []
   },
   "source": [
    "# **Model**"
   ]
  },
  {
   "cell_type": "code",
   "execution_count": 36,
   "id": "0e0b16aa",
   "metadata": {
    "execution": {
     "iopub.execute_input": "2022-07-27T11:18:24.270142Z",
     "iopub.status.busy": "2022-07-27T11:18:24.269396Z",
     "iopub.status.idle": "2022-07-27T11:18:24.276817Z",
     "shell.execute_reply": "2022-07-27T11:18:24.276144Z"
    },
    "papermill": {
     "duration": 0.031379,
     "end_time": "2022-07-27T11:18:24.278774",
     "exception": false,
     "start_time": "2022-07-27T11:18:24.247395",
     "status": "completed"
    },
    "tags": []
   },
   "outputs": [],
   "source": [
    "train_X = df_train3.drop([\"Survived\"], axis=1)\n",
    "train_y = df_train3[\"Survived\"]\n",
    "X_train, X_test, y_train, y_test = train_test_split(train_X, train_y, test_size = 0.2, random_state = 0)"
   ]
  },
  {
   "cell_type": "code",
   "execution_count": 37,
   "id": "a0d6d217",
   "metadata": {
    "execution": {
     "iopub.execute_input": "2022-07-27T11:18:24.323397Z",
     "iopub.status.busy": "2022-07-27T11:18:24.322772Z",
     "iopub.status.idle": "2022-07-27T11:18:24.328390Z",
     "shell.execute_reply": "2022-07-27T11:18:24.327671Z"
    },
    "papermill": {
     "duration": 0.030759,
     "end_time": "2022-07-27T11:18:24.330338",
     "exception": false,
     "start_time": "2022-07-27T11:18:24.299579",
     "status": "completed"
    },
    "tags": []
   },
   "outputs": [],
   "source": [
    "\n",
    "# model = LinearRegression()\n",
    "\n",
    "# pipeline_lr = Pipeline(steps =[\n",
    "#     ('preprocessor', preprocessor),\n",
    "#     ('model', model)\n",
    "# ])\n",
    "\n",
    "# lr = LinearRegression()\n",
    "# lr.fit(X_train, y_train)\n",
    "\n",
    "# preds = lr.predict(X_test)\n",
    "\n",
    "\n",
    "# print('Logistic regression accuracy:', mean_absolute_error(y_test, preds)*100)"
   ]
  },
  {
   "cell_type": "code",
   "execution_count": 38,
   "id": "9cdb5a50",
   "metadata": {
    "execution": {
     "iopub.execute_input": "2022-07-27T11:18:24.373362Z",
     "iopub.status.busy": "2022-07-27T11:18:24.372454Z",
     "iopub.status.idle": "2022-07-27T11:18:24.400183Z",
     "shell.execute_reply": "2022-07-27T11:18:24.399453Z"
    },
    "papermill": {
     "duration": 0.051584,
     "end_time": "2022-07-27T11:18:24.402540",
     "exception": false,
     "start_time": "2022-07-27T11:18:24.350956",
     "status": "completed"
    },
    "tags": []
   },
   "outputs": [
    {
     "name": "stdout",
     "output_type": "stream",
     "text": [
      "Linear regression accuracy: 38.97374017880924\n"
     ]
    }
   ],
   "source": [
    "## Linear Regression\n",
    "\n",
    "model_lr = LinearRegression()\n",
    "model_lr.fit(X_train, y_train)\n",
    "pred_lr = model_lr.predict(X_test)\n",
    "\n",
    "l_r =  mean_absolute_error(y_test, pred_lr)*100\n",
    "\n",
    "print('Linear regression accuracy:', l_r)"
   ]
  },
  {
   "cell_type": "code",
   "execution_count": 39,
   "id": "e25fcd48",
   "metadata": {
    "execution": {
     "iopub.execute_input": "2022-07-27T11:18:24.446547Z",
     "iopub.status.busy": "2022-07-27T11:18:24.445711Z",
     "iopub.status.idle": "2022-07-27T11:18:37.941190Z",
     "shell.execute_reply": "2022-07-27T11:18:37.939975Z"
    },
    "papermill": {
     "duration": 13.519724,
     "end_time": "2022-07-27T11:18:37.943545",
     "exception": false,
     "start_time": "2022-07-27T11:18:24.423821",
     "status": "completed"
    },
    "tags": []
   },
   "outputs": [
    {
     "name": "stdout",
     "output_type": "stream",
     "text": [
      "Random Forest accuracy: 33.64837988826816\n"
     ]
    }
   ],
   "source": [
    "## Random Forest\n",
    "\n",
    "model_rfr = RandomForestRegressor(n_estimators=5000, random_state=0)\n",
    "model_rfr.fit(X_train, y_train)\n",
    "pred_rfr = model_rfr.predict(X_test)\n",
    "\n",
    "r_f = mean_absolute_error(y_test, pred_rfr)*100\n",
    "\n",
    "print('Random Forest accuracy:', r_f)"
   ]
  },
  {
   "cell_type": "code",
   "execution_count": 40,
   "id": "fbb71c6a",
   "metadata": {
    "execution": {
     "iopub.execute_input": "2022-07-27T11:18:37.988456Z",
     "iopub.status.busy": "2022-07-27T11:18:37.988064Z",
     "iopub.status.idle": "2022-07-27T11:18:38.002563Z",
     "shell.execute_reply": "2022-07-27T11:18:38.001195Z"
    },
    "papermill": {
     "duration": 0.040672,
     "end_time": "2022-07-27T11:18:38.005528",
     "exception": false,
     "start_time": "2022-07-27T11:18:37.964856",
     "status": "completed"
    },
    "tags": []
   },
   "outputs": [
    {
     "name": "stdout",
     "output_type": "stream",
     "text": [
      "Logistic regression accuracy: 24.581005586592177\n"
     ]
    }
   ],
   "source": [
    "## Logistic Regression\n",
    "\n",
    "model_lor = LogisticRegression(solver='liblinear', max_iter = 5000, random_state = 0)\n",
    "model_lor.fit(X_train, y_train)\n",
    "pred_lor = model_lor.predict(X_test)\n",
    "\n",
    "lo_r = mean_absolute_error(y_test, pred_lor)*100\n",
    "\n",
    "print('Logistic regression accuracy:', lo_r)"
   ]
  },
  {
   "cell_type": "code",
   "execution_count": 41,
   "id": "cc2cceed",
   "metadata": {
    "execution": {
     "iopub.execute_input": "2022-07-27T11:18:38.050162Z",
     "iopub.status.busy": "2022-07-27T11:18:38.049804Z",
     "iopub.status.idle": "2022-07-27T11:18:38.062857Z",
     "shell.execute_reply": "2022-07-27T11:18:38.061678Z"
    },
    "papermill": {
     "duration": 0.037948,
     "end_time": "2022-07-27T11:18:38.065037",
     "exception": false,
     "start_time": "2022-07-27T11:18:38.027089",
     "status": "completed"
    },
    "tags": []
   },
   "outputs": [
    {
     "name": "stdout",
     "output_type": "stream",
     "text": [
      "Descision Tree accuracy: 32.402234636871505\n"
     ]
    }
   ],
   "source": [
    "## Decision Tree\n",
    "\n",
    "model_dt = DecisionTreeClassifier(max_depth = 50, random_state = 0)\n",
    "model_dt.fit(X_train, y_train)\n",
    "pred_dt = model_dt.predict(X_test)\n",
    "\n",
    "d_t = mean_absolute_error(y_test, pred_dt)*100\n",
    "\n",
    "print('Descision Tree accuracy:', d_t)"
   ]
  },
  {
   "cell_type": "code",
   "execution_count": 42,
   "id": "6afe7840",
   "metadata": {
    "execution": {
     "iopub.execute_input": "2022-07-27T11:18:38.109109Z",
     "iopub.status.busy": "2022-07-27T11:18:38.108698Z",
     "iopub.status.idle": "2022-07-27T11:18:53.965295Z",
     "shell.execute_reply": "2022-07-27T11:18:53.964508Z"
    },
    "papermill": {
     "duration": 15.880793,
     "end_time": "2022-07-27T11:18:53.967310",
     "exception": false,
     "start_time": "2022-07-27T11:18:38.086517",
     "status": "completed"
    },
    "tags": []
   },
   "outputs": [
    {
     "name": "stdout",
     "output_type": "stream",
     "text": [
      "Support Vector Classifier accuracy: 25.139664804469277\n"
     ]
    }
   ],
   "source": [
    "## Support Vector Clssifier(SVC)\n",
    "\n",
    "model_svc = SVC(kernel='linear', random_state = 0)\n",
    "model_svc.fit(X_train, y_train)\n",
    "pred_svc = model_svc.predict(X_test)\n",
    "\n",
    "sv_c = mean_absolute_error(y_test, pred_svc)*100\n",
    "\n",
    "print('Support Vector Classifier accuracy:', sv_c)"
   ]
  },
  {
   "cell_type": "code",
   "execution_count": 43,
   "id": "7e15c371",
   "metadata": {
    "execution": {
     "iopub.execute_input": "2022-07-27T11:18:54.011784Z",
     "iopub.status.busy": "2022-07-27T11:18:54.010812Z",
     "iopub.status.idle": "2022-07-27T11:18:54.016514Z",
     "shell.execute_reply": "2022-07-27T11:18:54.015847Z"
    },
    "papermill": {
     "duration": 0.029903,
     "end_time": "2022-07-27T11:18:54.018402",
     "exception": false,
     "start_time": "2022-07-27T11:18:53.988499",
     "status": "completed"
    },
    "tags": []
   },
   "outputs": [],
   "source": [
    "params = {'n_estimators':[100,200,300,400,500],\n",
    "         'max_depth':[1,2,3,4,5],\n",
    "         'max_leaf_nodes':[2,5,10,20,30,40,50]}"
   ]
  },
  {
   "cell_type": "code",
   "execution_count": 44,
   "id": "4059d59c",
   "metadata": {
    "execution": {
     "iopub.execute_input": "2022-07-27T11:18:54.063504Z",
     "iopub.status.busy": "2022-07-27T11:18:54.062686Z",
     "iopub.status.idle": "2022-07-27T11:19:32.593478Z",
     "shell.execute_reply": "2022-07-27T11:19:32.592742Z"
    },
    "papermill": {
     "duration": 38.576116,
     "end_time": "2022-07-27T11:19:32.616196",
     "exception": false,
     "start_time": "2022-07-27T11:18:54.040080",
     "status": "completed"
    },
    "tags": []
   },
   "outputs": [
    {
     "data": {
      "text/plain": [
       "RandomizedSearchCV(cv=10, estimator=GradientBoostingClassifier(),\n",
       "                   param_distributions={'max_depth': [1, 2, 3, 4, 5],\n",
       "                                        'max_leaf_nodes': [2, 5, 10, 20, 30, 40,\n",
       "                                                           50],\n",
       "                                        'n_estimators': [100, 200, 300, 400,\n",
       "                                                         500]})"
      ]
     },
     "execution_count": 44,
     "metadata": {},
     "output_type": "execute_result"
    }
   ],
   "source": [
    "GB = RandomizedSearchCV(GradientBoostingClassifier(), params, cv=10)\n",
    "GB.fit(X_train,y_train)"
   ]
  },
  {
   "cell_type": "code",
   "execution_count": 45,
   "id": "cea96b89",
   "metadata": {
    "execution": {
     "iopub.execute_input": "2022-07-27T11:19:32.661308Z",
     "iopub.status.busy": "2022-07-27T11:19:32.660327Z",
     "iopub.status.idle": "2022-07-27T11:19:32.668709Z",
     "shell.execute_reply": "2022-07-27T11:19:32.666892Z"
    },
    "papermill": {
     "duration": 0.033194,
     "end_time": "2022-07-27T11:19:32.671000",
     "exception": false,
     "start_time": "2022-07-27T11:19:32.637806",
     "status": "completed"
    },
    "tags": []
   },
   "outputs": [
    {
     "name": "stdout",
     "output_type": "stream",
     "text": [
      "GradientBoostingClassifier(max_depth=4, max_leaf_nodes=2)\n",
      "0.6967136150234742\n",
      "{'n_estimators': 100, 'max_leaf_nodes': 2, 'max_depth': 4}\n",
      "4\n"
     ]
    }
   ],
   "source": [
    "print(GB.best_estimator_)\n",
    "print(GB.best_score_)\n",
    "print(GB.best_params_)\n",
    "print(GB.best_index_)"
   ]
  },
  {
   "cell_type": "code",
   "execution_count": 46,
   "id": "b1c36390",
   "metadata": {
    "execution": {
     "iopub.execute_input": "2022-07-27T11:19:32.716602Z",
     "iopub.status.busy": "2022-07-27T11:19:32.716181Z",
     "iopub.status.idle": "2022-07-27T11:19:33.235614Z",
     "shell.execute_reply": "2022-07-27T11:19:33.234587Z"
    },
    "papermill": {
     "duration": 0.545147,
     "end_time": "2022-07-27T11:19:33.238043",
     "exception": false,
     "start_time": "2022-07-27T11:19:32.692896",
     "status": "completed"
    },
    "tags": []
   },
   "outputs": [],
   "source": [
    "GBclassifier = GradientBoostingClassifier(n_estimators=400, max_depth=3, max_leaf_nodes=10)\n",
    "GBclassifier.fit(X_train, y_train)\n",
    "\n",
    "y_pred_gb = GBclassifier.predict(X_test)"
   ]
  },
  {
   "cell_type": "code",
   "execution_count": 47,
   "id": "b8f1ff94",
   "metadata": {
    "execution": {
     "iopub.execute_input": "2022-07-27T11:19:33.283567Z",
     "iopub.status.busy": "2022-07-27T11:19:33.283172Z",
     "iopub.status.idle": "2022-07-27T11:19:33.288624Z",
     "shell.execute_reply": "2022-07-27T11:19:33.287642Z"
    },
    "papermill": {
     "duration": 0.03146,
     "end_time": "2022-07-27T11:19:33.291643",
     "exception": false,
     "start_time": "2022-07-27T11:19:33.260183",
     "status": "completed"
    },
    "tags": []
   },
   "outputs": [
    {
     "name": "stdout",
     "output_type": "stream",
     "text": [
      "Support Vector Classifier accuracy: 27.932960893854748\n"
     ]
    }
   ],
   "source": [
    " g_b=  mean_absolute_error(y_test, y_pred_gb)*100\n",
    "\n",
    "print('Support Vector Classifier accuracy:', g_b)"
   ]
  },
  {
   "cell_type": "code",
   "execution_count": 48,
   "id": "2f81ada9",
   "metadata": {
    "execution": {
     "iopub.execute_input": "2022-07-27T11:19:33.336878Z",
     "iopub.status.busy": "2022-07-27T11:19:33.336108Z",
     "iopub.status.idle": "2022-07-27T11:19:33.349314Z",
     "shell.execute_reply": "2022-07-27T11:19:33.348296Z"
    },
    "papermill": {
     "duration": 0.037506,
     "end_time": "2022-07-27T11:19:33.351426",
     "exception": false,
     "start_time": "2022-07-27T11:19:33.313920",
     "status": "completed"
    },
    "tags": []
   },
   "outputs": [
    {
     "data": {
      "text/html": [
       "<div>\n",
       "<style scoped>\n",
       "    .dataframe tbody tr th:only-of-type {\n",
       "        vertical-align: middle;\n",
       "    }\n",
       "\n",
       "    .dataframe tbody tr th {\n",
       "        vertical-align: top;\n",
       "    }\n",
       "\n",
       "    .dataframe thead th {\n",
       "        text-align: right;\n",
       "    }\n",
       "</style>\n",
       "<table border=\"1\" class=\"dataframe\">\n",
       "  <thead>\n",
       "    <tr style=\"text-align: right;\">\n",
       "      <th></th>\n",
       "      <th>Model</th>\n",
       "      <th>Accuracy</th>\n",
       "    </tr>\n",
       "  </thead>\n",
       "  <tbody>\n",
       "    <tr>\n",
       "      <th>3</th>\n",
       "      <td>Linear Regression</td>\n",
       "      <td>38.973740</td>\n",
       "    </tr>\n",
       "    <tr>\n",
       "      <th>4</th>\n",
       "      <td>Random Forest</td>\n",
       "      <td>33.648380</td>\n",
       "    </tr>\n",
       "    <tr>\n",
       "      <th>1</th>\n",
       "      <td>Decision Tree</td>\n",
       "      <td>32.402235</td>\n",
       "    </tr>\n",
       "    <tr>\n",
       "      <th>5</th>\n",
       "      <td>Gradient Boosting</td>\n",
       "      <td>27.932961</td>\n",
       "    </tr>\n",
       "    <tr>\n",
       "      <th>2</th>\n",
       "      <td>SVC</td>\n",
       "      <td>25.139665</td>\n",
       "    </tr>\n",
       "    <tr>\n",
       "      <th>0</th>\n",
       "      <td>Logistic Regression</td>\n",
       "      <td>24.581006</td>\n",
       "    </tr>\n",
       "  </tbody>\n",
       "</table>\n",
       "</div>"
      ],
      "text/plain": [
       "                 Model   Accuracy\n",
       "3    Linear Regression  38.973740\n",
       "4        Random Forest  33.648380\n",
       "1        Decision Tree  32.402235\n",
       "5    Gradient Boosting  27.932961\n",
       "2                  SVC  25.139665\n",
       "0  Logistic Regression  24.581006"
      ]
     },
     "execution_count": 48,
     "metadata": {},
     "output_type": "execute_result"
    }
   ],
   "source": [
    "compare = pd.DataFrame({'Model': ['Logistic Regression', 'Decision Tree', 'SVC', 'Linear Regression',\n",
    "                                 'Random Forest', 'Gradient Boosting'], \n",
    "                        'Accuracy': [lo_r, d_t, sv_c, l_r, r_f, g_b]})\n",
    "compare.sort_values(by='Accuracy', ascending=False)"
   ]
  },
  {
   "cell_type": "code",
   "execution_count": 49,
   "id": "1733d0de",
   "metadata": {
    "execution": {
     "iopub.execute_input": "2022-07-27T11:19:33.397049Z",
     "iopub.status.busy": "2022-07-27T11:19:33.396327Z",
     "iopub.status.idle": "2022-07-27T11:19:33.407415Z",
     "shell.execute_reply": "2022-07-27T11:19:33.406120Z"
    },
    "papermill": {
     "duration": 0.037049,
     "end_time": "2022-07-27T11:19:33.410312",
     "exception": false,
     "start_time": "2022-07-27T11:19:33.373263",
     "status": "completed"
    },
    "tags": []
   },
   "outputs": [
    {
     "name": "stdout",
     "output_type": "stream",
     "text": [
      "Linear regression accuracy: 38.97374017880924\n"
     ]
    }
   ],
   "source": [
    "lr = LinearRegression()\n",
    "lr.fit(X_train, y_train)\n",
    "p_lr = lr.predict(X_test)\n",
    "\n",
    "l_r1 =  mean_absolute_error(y_test, pred_lr)*100\n",
    "\n",
    "print('Linear regression accuracy:', l_r1)"
   ]
  },
  {
   "cell_type": "code",
   "execution_count": null,
   "id": "28234439",
   "metadata": {
    "papermill": {
     "duration": 0.020803,
     "end_time": "2022-07-27T11:19:33.452782",
     "exception": false,
     "start_time": "2022-07-27T11:19:33.431979",
     "status": "completed"
    },
    "tags": []
   },
   "outputs": [],
   "source": []
  }
 ],
 "metadata": {
  "kernelspec": {
   "display_name": "Python 3",
   "language": "python",
   "name": "python3"
  },
  "language_info": {
   "codemirror_mode": {
    "name": "ipython",
    "version": 3
   },
   "file_extension": ".py",
   "mimetype": "text/x-python",
   "name": "python",
   "nbconvert_exporter": "python",
   "pygments_lexer": "ipython3",
   "version": "3.7.12"
  },
  "papermill": {
   "default_parameters": {},
   "duration": 86.288188,
   "end_time": "2022-07-27T11:19:34.294899",
   "environment_variables": {},
   "exception": null,
   "input_path": "__notebook__.ipynb",
   "output_path": "__notebook__.ipynb",
   "parameters": {},
   "start_time": "2022-07-27T11:18:08.006711",
   "version": "2.3.4"
  }
 },
 "nbformat": 4,
 "nbformat_minor": 5
}
