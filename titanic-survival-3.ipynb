{
 "cells": [
  {
   "cell_type": "code",
   "execution_count": 1,
   "id": "2b3ca51f",
   "metadata": {
    "execution": {
     "iopub.execute_input": "2022-06-14T15:37:39.479523Z",
     "iopub.status.busy": "2022-06-14T15:37:39.479006Z",
     "iopub.status.idle": "2022-06-14T15:37:39.498975Z",
     "shell.execute_reply": "2022-06-14T15:37:39.497374Z"
    },
    "papermill": {
     "duration": 0.035487,
     "end_time": "2022-06-14T15:37:39.502964",
     "exception": false,
     "start_time": "2022-06-14T15:37:39.467477",
     "status": "completed"
    },
    "tags": []
   },
   "outputs": [
    {
     "name": "stdout",
     "output_type": "stream",
     "text": [
      "/kaggle/input/titanic/train.csv\n",
      "/kaggle/input/titanic/test.csv\n",
      "/kaggle/input/titanic/gender_submission.csv\n"
     ]
    }
   ],
   "source": [
    "# This Python 3 environment comes with many helpful analytics libraries installed\n",
    "# It is defined by the kaggle/python Docker image: https://github.com/kaggle/docker-python\n",
    "# For example, here's several helpful packages to load\n",
    "\n",
    "import numpy as np # linear algebra\n",
    "import pandas as pd # data processing, CSV file I/O (e.g. pd.read_csv)\n",
    "\n",
    "# Input data files are available in the read-only \"../input/\" directory\n",
    "# For example, running this (by clicking run or pressing Shift+Enter) will list all files under the input directory\n",
    "\n",
    "import os\n",
    "for dirname, _, filenames in os.walk('/kaggle/input'):\n",
    "    for filename in filenames:\n",
    "        print(os.path.join(dirname, filename))\n",
    "\n",
    "# You can write up to 20GB to the current directory (/kaggle/working/) that gets preserved as output when you create a version using \"Save & Run All\" \n",
    "# You can also write temporary files to /kaggle/temp/, but they won't be saved outside of the current session"
   ]
  },
  {
   "cell_type": "markdown",
   "id": "d1a198c7",
   "metadata": {
    "papermill": {
     "duration": 0.007068,
     "end_time": "2022-06-14T15:37:39.518506",
     "exception": false,
     "start_time": "2022-06-14T15:37:39.511438",
     "status": "completed"
    },
    "tags": []
   },
   "source": [
    "# **Importing Packages**"
   ]
  },
  {
   "cell_type": "code",
   "execution_count": 2,
   "id": "c5b5550d",
   "metadata": {
    "execution": {
     "iopub.execute_input": "2022-06-14T15:37:39.535003Z",
     "iopub.status.busy": "2022-06-14T15:37:39.533803Z",
     "iopub.status.idle": "2022-06-14T15:37:40.951224Z",
     "shell.execute_reply": "2022-06-14T15:37:40.949763Z"
    },
    "papermill": {
     "duration": 1.428248,
     "end_time": "2022-06-14T15:37:40.954076",
     "exception": false,
     "start_time": "2022-06-14T15:37:39.525828",
     "status": "completed"
    },
    "tags": []
   },
   "outputs": [],
   "source": [
    "import seaborn as sns\n",
    "import matplotlib.pyplot as plt"
   ]
  },
  {
   "cell_type": "markdown",
   "id": "490ae998",
   "metadata": {
    "papermill": {
     "duration": 0.007053,
     "end_time": "2022-06-14T15:37:40.968565",
     "exception": false,
     "start_time": "2022-06-14T15:37:40.961512",
     "status": "completed"
    },
    "tags": []
   },
   "source": [
    "# **Importing the Dataset**"
   ]
  },
  {
   "cell_type": "code",
   "execution_count": 3,
   "id": "c886a716",
   "metadata": {
    "execution": {
     "iopub.execute_input": "2022-06-14T15:37:40.983957Z",
     "iopub.status.busy": "2022-06-14T15:37:40.983507Z",
     "iopub.status.idle": "2022-06-14T15:37:41.014985Z",
     "shell.execute_reply": "2022-06-14T15:37:41.014152Z"
    },
    "papermill": {
     "duration": 0.042115,
     "end_time": "2022-06-14T15:37:41.017277",
     "exception": false,
     "start_time": "2022-06-14T15:37:40.975162",
     "status": "completed"
    },
    "tags": []
   },
   "outputs": [],
   "source": [
    "## Using the base knowledge make a predition model without using a pipeline. ##\n",
    "df_train = pd.read_csv('../input/titanic/train.csv')\n",
    "df_test = pd.read_csv('../input/titanic/test.csv')"
   ]
  },
  {
   "cell_type": "code",
   "execution_count": 4,
   "id": "ac101b2c",
   "metadata": {
    "execution": {
     "iopub.execute_input": "2022-06-14T15:37:41.034442Z",
     "iopub.status.busy": "2022-06-14T15:37:41.033434Z",
     "iopub.status.idle": "2022-06-14T15:37:41.063620Z",
     "shell.execute_reply": "2022-06-14T15:37:41.062441Z"
    },
    "papermill": {
     "duration": 0.041817,
     "end_time": "2022-06-14T15:37:41.067204",
     "exception": false,
     "start_time": "2022-06-14T15:37:41.025387",
     "status": "completed"
    },
    "tags": []
   },
   "outputs": [
    {
     "name": "stdout",
     "output_type": "stream",
     "text": [
      "<class 'pandas.core.frame.DataFrame'>\n",
      "RangeIndex: 891 entries, 0 to 890\n",
      "Data columns (total 12 columns):\n",
      " #   Column       Non-Null Count  Dtype  \n",
      "---  ------       --------------  -----  \n",
      " 0   PassengerId  891 non-null    int64  \n",
      " 1   Survived     891 non-null    int64  \n",
      " 2   Pclass       891 non-null    int64  \n",
      " 3   Name         891 non-null    object \n",
      " 4   Sex          891 non-null    object \n",
      " 5   Age          714 non-null    float64\n",
      " 6   SibSp        891 non-null    int64  \n",
      " 7   Parch        891 non-null    int64  \n",
      " 8   Ticket       891 non-null    object \n",
      " 9   Fare         891 non-null    float64\n",
      " 10  Cabin        204 non-null    object \n",
      " 11  Embarked     889 non-null    object \n",
      "dtypes: float64(2), int64(5), object(5)\n",
      "memory usage: 83.7+ KB\n"
     ]
    }
   ],
   "source": [
    "df_train.info()\n",
    "# df_test.info()"
   ]
  },
  {
   "cell_type": "code",
   "execution_count": 5,
   "id": "68b809fb",
   "metadata": {
    "execution": {
     "iopub.execute_input": "2022-06-14T15:37:41.084991Z",
     "iopub.status.busy": "2022-06-14T15:37:41.083312Z",
     "iopub.status.idle": "2022-06-14T15:37:41.111708Z",
     "shell.execute_reply": "2022-06-14T15:37:41.110655Z"
    },
    "papermill": {
     "duration": 0.039636,
     "end_time": "2022-06-14T15:37:41.114482",
     "exception": false,
     "start_time": "2022-06-14T15:37:41.074846",
     "status": "completed"
    },
    "tags": []
   },
   "outputs": [
    {
     "data": {
      "text/html": [
       "<div>\n",
       "<style scoped>\n",
       "    .dataframe tbody tr th:only-of-type {\n",
       "        vertical-align: middle;\n",
       "    }\n",
       "\n",
       "    .dataframe tbody tr th {\n",
       "        vertical-align: top;\n",
       "    }\n",
       "\n",
       "    .dataframe thead th {\n",
       "        text-align: right;\n",
       "    }\n",
       "</style>\n",
       "<table border=\"1\" class=\"dataframe\">\n",
       "  <thead>\n",
       "    <tr style=\"text-align: right;\">\n",
       "      <th></th>\n",
       "      <th>PassengerId</th>\n",
       "      <th>Survived</th>\n",
       "      <th>Pclass</th>\n",
       "      <th>Name</th>\n",
       "      <th>Sex</th>\n",
       "      <th>Age</th>\n",
       "      <th>SibSp</th>\n",
       "      <th>Parch</th>\n",
       "      <th>Ticket</th>\n",
       "      <th>Fare</th>\n",
       "      <th>Cabin</th>\n",
       "      <th>Embarked</th>\n",
       "    </tr>\n",
       "  </thead>\n",
       "  <tbody>\n",
       "    <tr>\n",
       "      <th>0</th>\n",
       "      <td>1</td>\n",
       "      <td>0</td>\n",
       "      <td>3</td>\n",
       "      <td>Braund, Mr. Owen Harris</td>\n",
       "      <td>male</td>\n",
       "      <td>22.0</td>\n",
       "      <td>1</td>\n",
       "      <td>0</td>\n",
       "      <td>A/5 21171</td>\n",
       "      <td>7.2500</td>\n",
       "      <td>NaN</td>\n",
       "      <td>S</td>\n",
       "    </tr>\n",
       "    <tr>\n",
       "      <th>1</th>\n",
       "      <td>2</td>\n",
       "      <td>1</td>\n",
       "      <td>1</td>\n",
       "      <td>Cumings, Mrs. John Bradley (Florence Briggs Th...</td>\n",
       "      <td>female</td>\n",
       "      <td>38.0</td>\n",
       "      <td>1</td>\n",
       "      <td>0</td>\n",
       "      <td>PC 17599</td>\n",
       "      <td>71.2833</td>\n",
       "      <td>C85</td>\n",
       "      <td>C</td>\n",
       "    </tr>\n",
       "    <tr>\n",
       "      <th>2</th>\n",
       "      <td>3</td>\n",
       "      <td>1</td>\n",
       "      <td>3</td>\n",
       "      <td>Heikkinen, Miss. Laina</td>\n",
       "      <td>female</td>\n",
       "      <td>26.0</td>\n",
       "      <td>0</td>\n",
       "      <td>0</td>\n",
       "      <td>STON/O2. 3101282</td>\n",
       "      <td>7.9250</td>\n",
       "      <td>NaN</td>\n",
       "      <td>S</td>\n",
       "    </tr>\n",
       "    <tr>\n",
       "      <th>3</th>\n",
       "      <td>4</td>\n",
       "      <td>1</td>\n",
       "      <td>1</td>\n",
       "      <td>Futrelle, Mrs. Jacques Heath (Lily May Peel)</td>\n",
       "      <td>female</td>\n",
       "      <td>35.0</td>\n",
       "      <td>1</td>\n",
       "      <td>0</td>\n",
       "      <td>113803</td>\n",
       "      <td>53.1000</td>\n",
       "      <td>C123</td>\n",
       "      <td>S</td>\n",
       "    </tr>\n",
       "    <tr>\n",
       "      <th>4</th>\n",
       "      <td>5</td>\n",
       "      <td>0</td>\n",
       "      <td>3</td>\n",
       "      <td>Allen, Mr. William Henry</td>\n",
       "      <td>male</td>\n",
       "      <td>35.0</td>\n",
       "      <td>0</td>\n",
       "      <td>0</td>\n",
       "      <td>373450</td>\n",
       "      <td>8.0500</td>\n",
       "      <td>NaN</td>\n",
       "      <td>S</td>\n",
       "    </tr>\n",
       "  </tbody>\n",
       "</table>\n",
       "</div>"
      ],
      "text/plain": [
       "   PassengerId  Survived  Pclass  \\\n",
       "0            1         0       3   \n",
       "1            2         1       1   \n",
       "2            3         1       3   \n",
       "3            4         1       1   \n",
       "4            5         0       3   \n",
       "\n",
       "                                                Name     Sex   Age  SibSp  \\\n",
       "0                            Braund, Mr. Owen Harris    male  22.0      1   \n",
       "1  Cumings, Mrs. John Bradley (Florence Briggs Th...  female  38.0      1   \n",
       "2                             Heikkinen, Miss. Laina  female  26.0      0   \n",
       "3       Futrelle, Mrs. Jacques Heath (Lily May Peel)  female  35.0      1   \n",
       "4                           Allen, Mr. William Henry    male  35.0      0   \n",
       "\n",
       "   Parch            Ticket     Fare Cabin Embarked  \n",
       "0      0         A/5 21171   7.2500   NaN        S  \n",
       "1      0          PC 17599  71.2833   C85        C  \n",
       "2      0  STON/O2. 3101282   7.9250   NaN        S  \n",
       "3      0            113803  53.1000  C123        S  \n",
       "4      0            373450   8.0500   NaN        S  "
      ]
     },
     "execution_count": 5,
     "metadata": {},
     "output_type": "execute_result"
    }
   ],
   "source": [
    "df_train.head()"
   ]
  },
  {
   "cell_type": "markdown",
   "id": "49e8616a",
   "metadata": {
    "papermill": {
     "duration": 0.006795,
     "end_time": "2022-06-14T15:37:41.128197",
     "exception": false,
     "start_time": "2022-06-14T15:37:41.121402",
     "status": "completed"
    },
    "tags": []
   },
   "source": [
    "# **Tackling the null values Problem**"
   ]
  },
  {
   "cell_type": "code",
   "execution_count": 6,
   "id": "df9f3eee",
   "metadata": {
    "execution": {
     "iopub.execute_input": "2022-06-14T15:37:41.144121Z",
     "iopub.status.busy": "2022-06-14T15:37:41.143405Z",
     "iopub.status.idle": "2022-06-14T15:37:41.153020Z",
     "shell.execute_reply": "2022-06-14T15:37:41.152105Z"
    },
    "papermill": {
     "duration": 0.019905,
     "end_time": "2022-06-14T15:37:41.155093",
     "exception": false,
     "start_time": "2022-06-14T15:37:41.135188",
     "status": "completed"
    },
    "tags": []
   },
   "outputs": [
    {
     "data": {
      "text/plain": [
       "PassengerId      0\n",
       "Survived         0\n",
       "Pclass           0\n",
       "Name             0\n",
       "Sex              0\n",
       "Age            177\n",
       "SibSp            0\n",
       "Parch            0\n",
       "Ticket           0\n",
       "Fare             0\n",
       "Cabin          687\n",
       "Embarked         2\n",
       "dtype: int64"
      ]
     },
     "execution_count": 6,
     "metadata": {},
     "output_type": "execute_result"
    }
   ],
   "source": [
    "null_cols = df_train.isna().sum()\n",
    "null_cols"
   ]
  },
  {
   "cell_type": "code",
   "execution_count": 7,
   "id": "258c72c2",
   "metadata": {
    "execution": {
     "iopub.execute_input": "2022-06-14T15:37:41.171199Z",
     "iopub.status.busy": "2022-06-14T15:37:41.170526Z",
     "iopub.status.idle": "2022-06-14T15:37:41.177923Z",
     "shell.execute_reply": "2022-06-14T15:37:41.177161Z"
    },
    "papermill": {
     "duration": 0.017533,
     "end_time": "2022-06-14T15:37:41.179936",
     "exception": false,
     "start_time": "2022-06-14T15:37:41.162403",
     "status": "completed"
    },
    "tags": []
   },
   "outputs": [],
   "source": [
    "df_train = df_train.drop(columns='Cabin', axis=1)"
   ]
  },
  {
   "cell_type": "code",
   "execution_count": 8,
   "id": "fb3cfcbf",
   "metadata": {
    "execution": {
     "iopub.execute_input": "2022-06-14T15:37:41.195637Z",
     "iopub.status.busy": "2022-06-14T15:37:41.194902Z",
     "iopub.status.idle": "2022-06-14T15:37:41.200635Z",
     "shell.execute_reply": "2022-06-14T15:37:41.199717Z"
    },
    "papermill": {
     "duration": 0.015966,
     "end_time": "2022-06-14T15:37:41.202882",
     "exception": false,
     "start_time": "2022-06-14T15:37:41.186916",
     "status": "completed"
    },
    "tags": []
   },
   "outputs": [],
   "source": [
    "df_train.Age.fillna(df_train.Age.mean(), inplace=True)"
   ]
  },
  {
   "cell_type": "code",
   "execution_count": 9,
   "id": "691c68f1",
   "metadata": {
    "execution": {
     "iopub.execute_input": "2022-06-14T15:37:41.218733Z",
     "iopub.status.busy": "2022-06-14T15:37:41.218341Z",
     "iopub.status.idle": "2022-06-14T15:37:41.224574Z",
     "shell.execute_reply": "2022-06-14T15:37:41.223456Z"
    },
    "papermill": {
     "duration": 0.01696,
     "end_time": "2022-06-14T15:37:41.226779",
     "exception": false,
     "start_time": "2022-06-14T15:37:41.209819",
     "status": "completed"
    },
    "tags": []
   },
   "outputs": [],
   "source": [
    "df_train.Embarked.fillna(df_train.Embarked.mode()[0], inplace=True)"
   ]
  },
  {
   "cell_type": "code",
   "execution_count": 10,
   "id": "e41e0e7c",
   "metadata": {
    "execution": {
     "iopub.execute_input": "2022-06-14T15:37:41.242993Z",
     "iopub.status.busy": "2022-06-14T15:37:41.241904Z",
     "iopub.status.idle": "2022-06-14T15:37:41.252939Z",
     "shell.execute_reply": "2022-06-14T15:37:41.251872Z"
    },
    "papermill": {
     "duration": 0.02152,
     "end_time": "2022-06-14T15:37:41.255265",
     "exception": false,
     "start_time": "2022-06-14T15:37:41.233745",
     "status": "completed"
    },
    "tags": []
   },
   "outputs": [
    {
     "data": {
      "text/plain": [
       "PassengerId    0\n",
       "Survived       0\n",
       "Pclass         0\n",
       "Name           0\n",
       "Sex            0\n",
       "Age            0\n",
       "SibSp          0\n",
       "Parch          0\n",
       "Ticket         0\n",
       "Fare           0\n",
       "Embarked       0\n",
       "dtype: int64"
      ]
     },
     "execution_count": 10,
     "metadata": {},
     "output_type": "execute_result"
    }
   ],
   "source": [
    "df_train.isna().sum()"
   ]
  },
  {
   "cell_type": "code",
   "execution_count": 11,
   "id": "6f788b82",
   "metadata": {
    "execution": {
     "iopub.execute_input": "2022-06-14T15:37:41.271989Z",
     "iopub.status.busy": "2022-06-14T15:37:41.271099Z",
     "iopub.status.idle": "2022-06-14T15:37:41.280081Z",
     "shell.execute_reply": "2022-06-14T15:37:41.279422Z"
    },
    "papermill": {
     "duration": 0.019191,
     "end_time": "2022-06-14T15:37:41.281919",
     "exception": false,
     "start_time": "2022-06-14T15:37:41.262728",
     "status": "completed"
    },
    "tags": []
   },
   "outputs": [
    {
     "data": {
      "text/plain": [
       "PassengerId      0\n",
       "Pclass           0\n",
       "Name             0\n",
       "Sex              0\n",
       "Age             86\n",
       "SibSp            0\n",
       "Parch            0\n",
       "Ticket           0\n",
       "Fare             1\n",
       "Cabin          327\n",
       "Embarked         0\n",
       "dtype: int64"
      ]
     },
     "execution_count": 11,
     "metadata": {},
     "output_type": "execute_result"
    }
   ],
   "source": [
    "df_test.isna().sum()"
   ]
  },
  {
   "cell_type": "code",
   "execution_count": 12,
   "id": "9c81aadd",
   "metadata": {
    "execution": {
     "iopub.execute_input": "2022-06-14T15:37:41.298171Z",
     "iopub.status.busy": "2022-06-14T15:37:41.297614Z",
     "iopub.status.idle": "2022-06-14T15:37:41.304668Z",
     "shell.execute_reply": "2022-06-14T15:37:41.303909Z"
    },
    "papermill": {
     "duration": 0.017739,
     "end_time": "2022-06-14T15:37:41.306851",
     "exception": false,
     "start_time": "2022-06-14T15:37:41.289112",
     "status": "completed"
    },
    "tags": []
   },
   "outputs": [],
   "source": [
    "df_test = df_test.drop(columns='Cabin', axis=1)\n",
    "df_test.Age.fillna(df_test.Age.mean(), inplace=True)\n",
    "df_test.Fare.fillna(df_test.Fare.mean(), inplace=True)"
   ]
  },
  {
   "cell_type": "code",
   "execution_count": 13,
   "id": "e639fa3f",
   "metadata": {
    "execution": {
     "iopub.execute_input": "2022-06-14T15:37:41.322824Z",
     "iopub.status.busy": "2022-06-14T15:37:41.322420Z",
     "iopub.status.idle": "2022-06-14T15:37:41.331697Z",
     "shell.execute_reply": "2022-06-14T15:37:41.330702Z"
    },
    "papermill": {
     "duration": 0.020163,
     "end_time": "2022-06-14T15:37:41.334184",
     "exception": false,
     "start_time": "2022-06-14T15:37:41.314021",
     "status": "completed"
    },
    "tags": []
   },
   "outputs": [
    {
     "data": {
      "text/plain": [
       "PassengerId    0\n",
       "Pclass         0\n",
       "Name           0\n",
       "Sex            0\n",
       "Age            0\n",
       "SibSp          0\n",
       "Parch          0\n",
       "Ticket         0\n",
       "Fare           0\n",
       "Embarked       0\n",
       "dtype: int64"
      ]
     },
     "execution_count": 13,
     "metadata": {},
     "output_type": "execute_result"
    }
   ],
   "source": [
    "df_test.isna().sum()"
   ]
  },
  {
   "cell_type": "code",
   "execution_count": 14,
   "id": "9d99b8ab",
   "metadata": {
    "execution": {
     "iopub.execute_input": "2022-06-14T15:37:41.352209Z",
     "iopub.status.busy": "2022-06-14T15:37:41.351561Z",
     "iopub.status.idle": "2022-06-14T15:37:41.357621Z",
     "shell.execute_reply": "2022-06-14T15:37:41.356469Z"
    },
    "papermill": {
     "duration": 0.01715,
     "end_time": "2022-06-14T15:37:41.359671",
     "exception": false,
     "start_time": "2022-06-14T15:37:41.342521",
     "status": "completed"
    },
    "tags": []
   },
   "outputs": [
    {
     "data": {
      "text/plain": [
       "((891, 11), (418, 10))"
      ]
     },
     "execution_count": 14,
     "metadata": {},
     "output_type": "execute_result"
    }
   ],
   "source": [
    "df_train.shape, df_test.shape"
   ]
  },
  {
   "cell_type": "markdown",
   "id": "a95306ac",
   "metadata": {
    "papermill": {
     "duration": 0.007801,
     "end_time": "2022-06-14T15:37:41.374948",
     "exception": false,
     "start_time": "2022-06-14T15:37:41.367147",
     "status": "completed"
    },
    "tags": []
   },
   "source": [
    "# **Data Viz**"
   ]
  },
  {
   "cell_type": "code",
   "execution_count": 15,
   "id": "c5c76a5f",
   "metadata": {
    "execution": {
     "iopub.execute_input": "2022-06-14T15:37:41.393161Z",
     "iopub.status.busy": "2022-06-14T15:37:41.392652Z",
     "iopub.status.idle": "2022-06-14T15:37:41.842739Z",
     "shell.execute_reply": "2022-06-14T15:37:41.841434Z"
    },
    "papermill": {
     "duration": 0.462552,
     "end_time": "2022-06-14T15:37:41.845591",
     "exception": false,
     "start_time": "2022-06-14T15:37:41.383039",
     "status": "completed"
    },
    "tags": []
   },
   "outputs": [
    {
     "data": {
      "text/plain": [
       "<AxesSubplot:xlabel='Age', ylabel='Fare'>"
      ]
     },
     "execution_count": 15,
     "metadata": {},
     "output_type": "execute_result"
    },
    {
     "data": {
      "image/png": "[encoded data removed]",
      "text/plain": [
       "<Figure size 1080x720 with 1 Axes>"
      ]
     },
     "metadata": {
      "needs_background": "light"
     },
     "output_type": "display_data"
    }
   ],
   "source": [
    "f, ax = plt.subplots(figsize=(15, 10))\n",
    "sns.scatterplot(x=\"Age\", y=\"Fare\",\n",
    "                hue=\"Survived\", size=\"Sex\",\n",
    "                palette=\"ch:r=-.2,d=.3_r\",\n",
    "                sizes=(50, 100), linewidth=1,\n",
    "                data=df_train, ax=ax)"
   ]
  },
  {
   "cell_type": "code",
   "execution_count": 16,
   "id": "84e6ba79",
   "metadata": {
    "execution": {
     "iopub.execute_input": "2022-06-14T15:37:41.868245Z",
     "iopub.status.busy": "2022-06-14T15:37:41.867675Z",
     "iopub.status.idle": "2022-06-14T15:37:42.133256Z",
     "shell.execute_reply": "2022-06-14T15:37:42.132060Z"
    },
    "papermill": {
     "duration": 0.279957,
     "end_time": "2022-06-14T15:37:42.135633",
     "exception": false,
     "start_time": "2022-06-14T15:37:41.855676",
     "status": "completed"
    },
    "tags": []
   },
   "outputs": [
    {
     "data": {
      "text/plain": [
       "<AxesSubplot:xlabel='Sex', ylabel='Survived'>"
      ]
     },
     "execution_count": 16,
     "metadata": {},
     "output_type": "execute_result"
    },
    {
     "data": {
      "image/png": "[encoded data removed]",
      "text/plain": [
       "<Figure size 432x288 with 1 Axes>"
      ]
     },
     "metadata": {
      "needs_background": "light"
     },
     "output_type": "display_data"
    }
   ],
   "source": [
    "sns.barplot(x = 'Sex', y = 'Survived',data=df_train)"
   ]
  },
  {
   "cell_type": "code",
   "execution_count": 17,
   "id": "de49d38b",
   "metadata": {
    "execution": {
     "iopub.execute_input": "2022-06-14T15:37:42.156643Z",
     "iopub.status.busy": "2022-06-14T15:37:42.156208Z",
     "iopub.status.idle": "2022-06-14T15:37:42.639557Z",
     "shell.execute_reply": "2022-06-14T15:37:42.638382Z"
    },
    "papermill": {
     "duration": 0.496838,
     "end_time": "2022-06-14T15:37:42.642078",
     "exception": false,
     "start_time": "2022-06-14T15:37:42.145240",
     "status": "completed"
    },
    "tags": []
   },
   "outputs": [
    {
     "data": {
      "text/plain": [
       "<seaborn.axisgrid.FacetGrid at 0x7f36668f1e10>"
      ]
     },
     "execution_count": 17,
     "metadata": {},
     "output_type": "execute_result"
    },
    {
     "data": {
      "image/png": "[encoded data removed]",
      "text/plain": [
       "<Figure size 418.25x360 with 1 Axes>"
      ]
     },
     "metadata": {
      "needs_background": "light"
     },
     "output_type": "display_data"
    }
   ],
   "source": [
    "sns.catplot(x= 'Sex', y= 'Age', hue= 'Embarked', kind = 'strip',data=df_train)"
   ]
  },
  {
   "cell_type": "code",
   "execution_count": null,
   "id": "8356958b",
   "metadata": {
    "papermill": {
     "duration": 0.009801,
     "end_time": "2022-06-14T15:37:42.662183",
     "exception": false,
     "start_time": "2022-06-14T15:37:42.652382",
     "status": "completed"
    },
    "tags": []
   },
   "outputs": [],
   "source": []
  }
 ],
 "metadata": {
  "kernelspec": {
   "display_name": "Python 3",
   "language": "python",
   "name": "python3"
  },
  "language_info": {
   "codemirror_mode": {
    "name": "ipython",
    "version": 3
   },
   "file_extension": ".py",
   "mimetype": "text/x-python",
   "name": "python",
   "nbconvert_exporter": "python",
   "pygments_lexer": "ipython3",
   "version": "3.7.12"
  },
  "papermill": {
   "default_parameters": {},
   "duration": 15.223794,
   "end_time": "2022-06-14T15:37:43.393775",
   "environment_variables": {},
   "exception": null,
   "input_path": "__notebook__.ipynb",
   "output_path": "__notebook__.ipynb",
   "parameters": {},
   "start_time": "2022-06-14T15:37:28.169981",
   "version": "2.3.4"
  }
 },
 "nbformat": 4,
 "nbformat_minor": 5
}
