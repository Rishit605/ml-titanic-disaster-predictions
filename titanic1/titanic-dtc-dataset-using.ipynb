{
 "cells": [
  {
   "cell_type": "code",
   "execution_count": 1,
   "id": "26f248a7",
   "metadata": {
    "_cell_guid": "b1076dfc-b9ad-4769-8c92-a6c4dae69d19",
    "_uuid": "8f2839f25d086af736a60e9eeb907d3b93b6e0e5",
    "execution": {
     "iopub.execute_input": "2022-06-04T06:05:06.364366Z",
     "iopub.status.busy": "2022-06-04T06:05:06.363827Z",
     "iopub.status.idle": "2022-06-04T06:05:06.379940Z",
     "shell.execute_reply": "2022-06-04T06:05:06.379302Z"
    },
    "papermill": {
     "duration": 0.034315,
     "end_time": "2022-06-04T06:05:06.381412",
     "exception": false,
     "start_time": "2022-06-04T06:05:06.347097",
     "status": "completed"
    },
    "tags": []
   },
   "outputs": [
    {
     "name": "stdout",
     "output_type": "stream",
     "text": [
      "/kaggle/input/titanic/train.csv\n",
      "/kaggle/input/titanic/test.csv\n",
      "/kaggle/input/titanic/gender_submission.csv\n"
     ]
    }
   ],
   "source": [
    "# This Python 3 environment comes with many helpful analytics libraries installed\n",
    "# It is defined by the kaggle/python Docker image: https://github.com/kaggle/docker-python\n",
    "# For example, here's several helpful packages to load\n",
    "\n",
    "import numpy as np # linear algebra\n",
    "import pandas as pd # data processing, CSV file I/O (e.g. pd.read_csv)\n",
    "\n",
    "# Input data files are available in the read-only \"../input/\" directory\n",
    "# For example, running this (by clicking run or pressing Shift+Enter) will list all files under the input directory\n",
    "\n",
    "import os\n",
    "for dirname, _, filenames in os.walk('/kaggle/input'):\n",
    "    for filename in filenames:\n",
    "        print(os.path.join(dirname, filename))\n",
    "\n",
    "# You can write up to 20GB to the current directory (/kaggle/working/) that gets preserved as output when you create a version using \"Save & Run All\" \n",
    "# You can also write temporary files to /kaggle/temp/, but they won't be saved outside of the current session"
   ]
  },
  {
   "cell_type": "markdown",
   "id": "f41aa1a9",
   "metadata": {
    "papermill": {
     "duration": 0.00539,
     "end_time": "2022-06-04T06:05:06.392680",
     "exception": false,
     "start_time": "2022-06-04T06:05:06.387290",
     "status": "completed"
    },
    "tags": []
   },
   "source": [
    "# **Importing Libraries and Dependencies**"
   ]
  },
  {
   "cell_type": "code",
   "execution_count": 2,
   "id": "52ae03fc",
   "metadata": {
    "execution": {
     "iopub.execute_input": "2022-06-04T06:05:06.405201Z",
     "iopub.status.busy": "2022-06-04T06:05:06.404630Z",
     "iopub.status.idle": "2022-06-04T06:05:07.988378Z",
     "shell.execute_reply": "2022-06-04T06:05:07.986800Z"
    },
    "papermill": {
     "duration": 1.592875,
     "end_time": "2022-06-04T06:05:07.990968",
     "exception": false,
     "start_time": "2022-06-04T06:05:06.398093",
     "status": "completed"
    },
    "tags": []
   },
   "outputs": [],
   "source": [
    "from sklearn.ensemble import RandomForestClassifier\n",
    "from sklearn.tree import DecisionTreeClassifier\n",
    "import seaborn as sns"
   ]
  },
  {
   "cell_type": "markdown",
   "id": "9fe0d56b",
   "metadata": {
    "papermill": {
     "duration": 0.0088,
     "end_time": "2022-06-04T06:05:08.009395",
     "exception": false,
     "start_time": "2022-06-04T06:05:08.000595",
     "status": "completed"
    },
    "tags": []
   },
   "source": [
    "# **Reading the Data**"
   ]
  },
  {
   "cell_type": "code",
   "execution_count": 3,
   "id": "e09b2c4e",
   "metadata": {
    "execution": {
     "iopub.execute_input": "2022-06-04T06:05:08.029442Z",
     "iopub.status.busy": "2022-06-04T06:05:08.028928Z",
     "iopub.status.idle": "2022-06-04T06:05:08.056156Z",
     "shell.execute_reply": "2022-06-04T06:05:08.055418Z"
    },
    "papermill": {
     "duration": 0.039939,
     "end_time": "2022-06-04T06:05:08.058478",
     "exception": false,
     "start_time": "2022-06-04T06:05:08.018539",
     "status": "completed"
    },
    "tags": []
   },
   "outputs": [],
   "source": [
    "tit_train = pd.read_csv('../input/titanic/train.csv')\n",
    "tit_test = pd.read_csv('../input/titanic/test.csv')"
   ]
  },
  {
   "cell_type": "code",
   "execution_count": 4,
   "id": "8d94fb58",
   "metadata": {
    "execution": {
     "iopub.execute_input": "2022-06-04T06:05:08.078677Z",
     "iopub.status.busy": "2022-06-04T06:05:08.078293Z",
     "iopub.status.idle": "2022-06-04T06:05:08.103835Z",
     "shell.execute_reply": "2022-06-04T06:05:08.103087Z"
    },
    "papermill": {
     "duration": 0.038124,
     "end_time": "2022-06-04T06:05:08.105856",
     "exception": false,
     "start_time": "2022-06-04T06:05:08.067732",
     "status": "completed"
    },
    "tags": []
   },
   "outputs": [
    {
     "name": "stdout",
     "output_type": "stream",
     "text": [
      "<class 'pandas.core.frame.DataFrame'>\n",
      "RangeIndex: 891 entries, 0 to 890\n",
      "Data columns (total 12 columns):\n",
      " #   Column       Non-Null Count  Dtype  \n",
      "---  ------       --------------  -----  \n",
      " 0   PassengerId  891 non-null    int64  \n",
      " 1   Survived     891 non-null    int64  \n",
      " 2   Pclass       891 non-null    int64  \n",
      " 3   Name         891 non-null    object \n",
      " 4   Sex          891 non-null    object \n",
      " 5   Age          714 non-null    float64\n",
      " 6   SibSp        891 non-null    int64  \n",
      " 7   Parch        891 non-null    int64  \n",
      " 8   Ticket       891 non-null    object \n",
      " 9   Fare         891 non-null    float64\n",
      " 10  Cabin        204 non-null    object \n",
      " 11  Embarked     889 non-null    object \n",
      "dtypes: float64(2), int64(5), object(5)\n",
      "memory usage: 83.7+ KB\n"
     ]
    }
   ],
   "source": [
    "tit_train.info()"
   ]
  },
  {
   "cell_type": "code",
   "execution_count": 5,
   "id": "f042539b",
   "metadata": {
    "execution": {
     "iopub.execute_input": "2022-06-04T06:05:08.125873Z",
     "iopub.status.busy": "2022-06-04T06:05:08.125362Z",
     "iopub.status.idle": "2022-06-04T06:05:08.141747Z",
     "shell.execute_reply": "2022-06-04T06:05:08.141040Z"
    },
    "papermill": {
     "duration": 0.028626,
     "end_time": "2022-06-04T06:05:08.143683",
     "exception": false,
     "start_time": "2022-06-04T06:05:08.115057",
     "status": "completed"
    },
    "tags": []
   },
   "outputs": [
    {
     "data": {
      "text/plain": [
       "(   PassengerId  Survived  Pclass  \\\n",
       " 0            1         0       3   \n",
       " 1            2         1       1   \n",
       " 2            3         1       3   \n",
       " 3            4         1       1   \n",
       " 4            5         0       3   \n",
       " \n",
       "                                                 Name     Sex   Age  SibSp  \\\n",
       " 0                            Braund, Mr. Owen Harris    male  22.0      1   \n",
       " 1  Cumings, Mrs. John Bradley (Florence Briggs Th...  female  38.0      1   \n",
       " 2                             Heikkinen, Miss. Laina  female  26.0      0   \n",
       " 3       Futrelle, Mrs. Jacques Heath (Lily May Peel)  female  35.0      1   \n",
       " 4                           Allen, Mr. William Henry    male  35.0      0   \n",
       " \n",
       "    Parch            Ticket     Fare Cabin Embarked  \n",
       " 0      0         A/5 21171   7.2500   NaN        S  \n",
       " 1      0          PC 17599  71.2833   C85        C  \n",
       " 2      0  STON/O2. 3101282   7.9250   NaN        S  \n",
       " 3      0            113803  53.1000  C123        S  \n",
       " 4      0            373450   8.0500   NaN        S  ,\n",
       " (891, 12))"
      ]
     },
     "execution_count": 5,
     "metadata": {},
     "output_type": "execute_result"
    }
   ],
   "source": [
    "tit_train.head(), tit_train.shape"
   ]
  },
  {
   "cell_type": "code",
   "execution_count": 6,
   "id": "72795c3d",
   "metadata": {
    "execution": {
     "iopub.execute_input": "2022-06-04T06:05:08.163825Z",
     "iopub.status.busy": "2022-06-04T06:05:08.163331Z",
     "iopub.status.idle": "2022-06-04T06:05:08.171402Z",
     "shell.execute_reply": "2022-06-04T06:05:08.170552Z"
    },
    "papermill": {
     "duration": 0.020614,
     "end_time": "2022-06-04T06:05:08.173286",
     "exception": false,
     "start_time": "2022-06-04T06:05:08.152672",
     "status": "completed"
    },
    "tags": []
   },
   "outputs": [
    {
     "data": {
      "text/plain": [
       "(PassengerId      0\n",
       " Survived         0\n",
       " Pclass           0\n",
       " Name             0\n",
       " Sex              0\n",
       " Age            177\n",
       " SibSp            0\n",
       " Parch            0\n",
       " Ticket           0\n",
       " Fare             0\n",
       " Cabin          687\n",
       " Embarked         2\n",
       " dtype: int64,\n",
       " Index(['PassengerId', 'Survived', 'Pclass', 'Name', 'Sex', 'Age', 'SibSp',\n",
       "        'Parch', 'Ticket', 'Fare', 'Cabin', 'Embarked'],\n",
       "       dtype='object'))"
      ]
     },
     "execution_count": 6,
     "metadata": {},
     "output_type": "execute_result"
    }
   ],
   "source": [
    "tit_train.isnull().sum(), tit_train.columns\n"
   ]
  },
  {
   "cell_type": "code",
   "execution_count": 7,
   "id": "0a8b835d",
   "metadata": {
    "execution": {
     "iopub.execute_input": "2022-06-04T06:05:08.186622Z",
     "iopub.status.busy": "2022-06-04T06:05:08.186024Z",
     "iopub.status.idle": "2022-06-04T06:05:08.194755Z",
     "shell.execute_reply": "2022-06-04T06:05:08.193807Z"
    },
    "papermill": {
     "duration": 0.017721,
     "end_time": "2022-06-04T06:05:08.196817",
     "exception": false,
     "start_time": "2022-06-04T06:05:08.179096",
     "status": "completed"
    },
    "tags": []
   },
   "outputs": [
    {
     "data": {
      "text/plain": [
       "(PassengerId      0\n",
       " Pclass           0\n",
       " Name             0\n",
       " Sex              0\n",
       " Age             86\n",
       " SibSp            0\n",
       " Parch            0\n",
       " Ticket           0\n",
       " Fare             1\n",
       " Cabin          327\n",
       " Embarked         0\n",
       " dtype: int64,\n",
       " Index(['PassengerId', 'Pclass', 'Name', 'Sex', 'Age', 'SibSp', 'Parch',\n",
       "        'Ticket', 'Fare', 'Cabin', 'Embarked'],\n",
       "       dtype='object'))"
      ]
     },
     "execution_count": 7,
     "metadata": {},
     "output_type": "execute_result"
    }
   ],
   "source": [
    "tit_test.isnull().sum(), tit_test.columns"
   ]
  },
  {
   "cell_type": "code",
   "execution_count": 8,
   "id": "301737a0",
   "metadata": {
    "execution": {
     "iopub.execute_input": "2022-06-04T06:05:08.211493Z",
     "iopub.status.busy": "2022-06-04T06:05:08.210889Z",
     "iopub.status.idle": "2022-06-04T06:05:08.215149Z",
     "shell.execute_reply": "2022-06-04T06:05:08.213622Z"
    },
    "papermill": {
     "duration": 0.013818,
     "end_time": "2022-06-04T06:05:08.216994",
     "exception": false,
     "start_time": "2022-06-04T06:05:08.203176",
     "status": "completed"
    },
    "tags": []
   },
   "outputs": [],
   "source": [
    "# titanic_missing_vals = (tit_train.isnull().sum())\n",
    "# print(titanic_missing_vals[titanic_missing_vals > 0])"
   ]
  },
  {
   "cell_type": "code",
   "execution_count": 9,
   "id": "27d0093e",
   "metadata": {
    "execution": {
     "iopub.execute_input": "2022-06-04T06:05:08.230981Z",
     "iopub.status.busy": "2022-06-04T06:05:08.230601Z",
     "iopub.status.idle": "2022-06-04T06:05:08.234645Z",
     "shell.execute_reply": "2022-06-04T06:05:08.233741Z"
    },
    "papermill": {
     "duration": 0.013038,
     "end_time": "2022-06-04T06:05:08.236091",
     "exception": false,
     "start_time": "2022-06-04T06:05:08.223053",
     "status": "completed"
    },
    "tags": []
   },
   "outputs": [],
   "source": [
    "# tit_train2 = tit_train.fillna(float(f\"NaN\")) # Could use a Range Value\n",
    "# tit_train2"
   ]
  },
  {
   "cell_type": "code",
   "execution_count": 10,
   "id": "5229a181",
   "metadata": {
    "execution": {
     "iopub.execute_input": "2022-06-04T06:05:08.249832Z",
     "iopub.status.busy": "2022-06-04T06:05:08.249454Z",
     "iopub.status.idle": "2022-06-04T06:05:08.253636Z",
     "shell.execute_reply": "2022-06-04T06:05:08.252385Z"
    },
    "papermill": {
     "duration": 0.013572,
     "end_time": "2022-06-04T06:05:08.255659",
     "exception": false,
     "start_time": "2022-06-04T06:05:08.242087",
     "status": "completed"
    },
    "tags": []
   },
   "outputs": [],
   "source": [
    "# tit_train3 = tit_train.dropna(subset = [\"Cabin\", \"Age\", \"Embarked\"], inplace=False)\n",
    "# tit_train3"
   ]
  },
  {
   "cell_type": "code",
   "execution_count": 11,
   "id": "89da6c54",
   "metadata": {
    "execution": {
     "iopub.execute_input": "2022-06-04T06:05:08.270773Z",
     "iopub.status.busy": "2022-06-04T06:05:08.269466Z",
     "iopub.status.idle": "2022-06-04T06:05:08.273930Z",
     "shell.execute_reply": "2022-06-04T06:05:08.273368Z"
    },
    "papermill": {
     "duration": 0.012821,
     "end_time": "2022-06-04T06:05:08.275373",
     "exception": false,
     "start_time": "2022-06-04T06:05:08.262552",
     "status": "completed"
    },
    "tags": []
   },
   "outputs": [],
   "source": [
    "# tit_train3.shape"
   ]
  },
  {
   "cell_type": "code",
   "execution_count": 12,
   "id": "dbfb1e6c",
   "metadata": {
    "execution": {
     "iopub.execute_input": "2022-06-04T06:05:08.288478Z",
     "iopub.status.busy": "2022-06-04T06:05:08.287817Z",
     "iopub.status.idle": "2022-06-04T06:05:08.320910Z",
     "shell.execute_reply": "2022-06-04T06:05:08.320306Z"
    },
    "papermill": {
     "duration": 0.041539,
     "end_time": "2022-06-04T06:05:08.322666",
     "exception": false,
     "start_time": "2022-06-04T06:05:08.281127",
     "status": "completed"
    },
    "tags": []
   },
   "outputs": [
    {
     "data": {
      "text/html": [
       "<div>\n",
       "<style scoped>\n",
       "    .dataframe tbody tr th:only-of-type {\n",
       "        vertical-align: middle;\n",
       "    }\n",
       "\n",
       "    .dataframe tbody tr th {\n",
       "        vertical-align: top;\n",
       "    }\n",
       "\n",
       "    .dataframe thead th {\n",
       "        text-align: right;\n",
       "    }\n",
       "</style>\n",
       "<table border=\"1\" class=\"dataframe\">\n",
       "  <thead>\n",
       "    <tr style=\"text-align: right;\">\n",
       "      <th></th>\n",
       "      <th>PassengerId</th>\n",
       "      <th>Survived</th>\n",
       "      <th>Pclass</th>\n",
       "      <th>Age</th>\n",
       "      <th>SibSp</th>\n",
       "      <th>Parch</th>\n",
       "      <th>Fare</th>\n",
       "    </tr>\n",
       "  </thead>\n",
       "  <tbody>\n",
       "    <tr>\n",
       "      <th>count</th>\n",
       "      <td>891.000000</td>\n",
       "      <td>891.000000</td>\n",
       "      <td>891.000000</td>\n",
       "      <td>714.000000</td>\n",
       "      <td>891.000000</td>\n",
       "      <td>891.000000</td>\n",
       "      <td>891.000000</td>\n",
       "    </tr>\n",
       "    <tr>\n",
       "      <th>mean</th>\n",
       "      <td>446.000000</td>\n",
       "      <td>0.383838</td>\n",
       "      <td>2.308642</td>\n",
       "      <td>29.699118</td>\n",
       "      <td>0.523008</td>\n",
       "      <td>0.381594</td>\n",
       "      <td>32.204208</td>\n",
       "    </tr>\n",
       "    <tr>\n",
       "      <th>std</th>\n",
       "      <td>257.353842</td>\n",
       "      <td>0.486592</td>\n",
       "      <td>0.836071</td>\n",
       "      <td>14.526497</td>\n",
       "      <td>1.102743</td>\n",
       "      <td>0.806057</td>\n",
       "      <td>49.693429</td>\n",
       "    </tr>\n",
       "    <tr>\n",
       "      <th>min</th>\n",
       "      <td>1.000000</td>\n",
       "      <td>0.000000</td>\n",
       "      <td>1.000000</td>\n",
       "      <td>0.420000</td>\n",
       "      <td>0.000000</td>\n",
       "      <td>0.000000</td>\n",
       "      <td>0.000000</td>\n",
       "    </tr>\n",
       "    <tr>\n",
       "      <th>25%</th>\n",
       "      <td>223.500000</td>\n",
       "      <td>0.000000</td>\n",
       "      <td>2.000000</td>\n",
       "      <td>20.125000</td>\n",
       "      <td>0.000000</td>\n",
       "      <td>0.000000</td>\n",
       "      <td>7.910400</td>\n",
       "    </tr>\n",
       "    <tr>\n",
       "      <th>50%</th>\n",
       "      <td>446.000000</td>\n",
       "      <td>0.000000</td>\n",
       "      <td>3.000000</td>\n",
       "      <td>28.000000</td>\n",
       "      <td>0.000000</td>\n",
       "      <td>0.000000</td>\n",
       "      <td>14.454200</td>\n",
       "    </tr>\n",
       "    <tr>\n",
       "      <th>75%</th>\n",
       "      <td>668.500000</td>\n",
       "      <td>1.000000</td>\n",
       "      <td>3.000000</td>\n",
       "      <td>38.000000</td>\n",
       "      <td>1.000000</td>\n",
       "      <td>0.000000</td>\n",
       "      <td>31.000000</td>\n",
       "    </tr>\n",
       "    <tr>\n",
       "      <th>max</th>\n",
       "      <td>891.000000</td>\n",
       "      <td>1.000000</td>\n",
       "      <td>3.000000</td>\n",
       "      <td>80.000000</td>\n",
       "      <td>8.000000</td>\n",
       "      <td>6.000000</td>\n",
       "      <td>512.329200</td>\n",
       "    </tr>\n",
       "  </tbody>\n",
       "</table>\n",
       "</div>"
      ],
      "text/plain": [
       "       PassengerId    Survived      Pclass         Age       SibSp  \\\n",
       "count   891.000000  891.000000  891.000000  714.000000  891.000000   \n",
       "mean    446.000000    0.383838    2.308642   29.699118    0.523008   \n",
       "std     257.353842    0.486592    0.836071   14.526497    1.102743   \n",
       "min       1.000000    0.000000    1.000000    0.420000    0.000000   \n",
       "25%     223.500000    0.000000    2.000000   20.125000    0.000000   \n",
       "50%     446.000000    0.000000    3.000000   28.000000    0.000000   \n",
       "75%     668.500000    1.000000    3.000000   38.000000    1.000000   \n",
       "max     891.000000    1.000000    3.000000   80.000000    8.000000   \n",
       "\n",
       "            Parch        Fare  \n",
       "count  891.000000  891.000000  \n",
       "mean     0.381594   32.204208  \n",
       "std      0.806057   49.693429  \n",
       "min      0.000000    0.000000  \n",
       "25%      0.000000    7.910400  \n",
       "50%      0.000000   14.454200  \n",
       "75%      0.000000   31.000000  \n",
       "max      6.000000  512.329200  "
      ]
     },
     "execution_count": 12,
     "metadata": {},
     "output_type": "execute_result"
    }
   ],
   "source": [
    "tit_train.describe()"
   ]
  },
  {
   "cell_type": "code",
   "execution_count": 13,
   "id": "791ecf1c",
   "metadata": {
    "execution": {
     "iopub.execute_input": "2022-06-04T06:05:08.344471Z",
     "iopub.status.busy": "2022-06-04T06:05:08.343675Z",
     "iopub.status.idle": "2022-06-04T06:05:08.350534Z",
     "shell.execute_reply": "2022-06-04T06:05:08.349521Z"
    },
    "papermill": {
     "duration": 0.021216,
     "end_time": "2022-06-04T06:05:08.353755",
     "exception": false,
     "start_time": "2022-06-04T06:05:08.332539",
     "status": "completed"
    },
    "tags": []
   },
   "outputs": [
    {
     "name": "stdout",
     "output_type": "stream",
     "text": [
      "% of women who survived: 0.7420382165605095\n"
     ]
    }
   ],
   "source": [
    "women = tit_train.loc[tit_train.Sex == 'female'][\"Survived\"]\n",
    "rate_women = sum(women)/len(women)\n",
    "\n",
    "print(\"% of women who survived:\", rate_women)"
   ]
  },
  {
   "cell_type": "code",
   "execution_count": 14,
   "id": "60e1ff62",
   "metadata": {
    "execution": {
     "iopub.execute_input": "2022-06-04T06:05:08.375402Z",
     "iopub.status.busy": "2022-06-04T06:05:08.374876Z",
     "iopub.status.idle": "2022-06-04T06:05:08.381649Z",
     "shell.execute_reply": "2022-06-04T06:05:08.380060Z"
    },
    "papermill": {
     "duration": 0.019857,
     "end_time": "2022-06-04T06:05:08.383870",
     "exception": false,
     "start_time": "2022-06-04T06:05:08.364013",
     "status": "completed"
    },
    "tags": []
   },
   "outputs": [
    {
     "name": "stdout",
     "output_type": "stream",
     "text": [
      "% of men who survived: 0.18890814558058924\n"
     ]
    }
   ],
   "source": [
    "men = tit_train.loc[tit_train.Sex == 'male'][\"Survived\"]\n",
    "rate_men = sum(men)/len(men)\n",
    "\n",
    "print(\"% of men who survived:\", rate_men)"
   ]
  },
  {
   "cell_type": "markdown",
   "id": "384c2422",
   "metadata": {
    "papermill": {
     "duration": 0.009188,
     "end_time": "2022-06-04T06:05:08.402744",
     "exception": false,
     "start_time": "2022-06-04T06:05:08.393556",
     "status": "completed"
    },
    "tags": []
   },
   "source": [
    "# **Graph Plotting**"
   ]
  },
  {
   "cell_type": "code",
   "execution_count": 15,
   "id": "52a1e772",
   "metadata": {
    "execution": {
     "iopub.execute_input": "2022-06-04T06:05:08.423093Z",
     "iopub.status.busy": "2022-06-04T06:05:08.422735Z",
     "iopub.status.idle": "2022-06-04T06:05:08.678954Z",
     "shell.execute_reply": "2022-06-04T06:05:08.678001Z"
    },
    "papermill": {
     "duration": 0.269124,
     "end_time": "2022-06-04T06:05:08.681168",
     "exception": false,
     "start_time": "2022-06-04T06:05:08.412044",
     "status": "completed"
    },
    "tags": []
   },
   "outputs": [
    {
     "data": {
      "image/png": "[encoded data removed]",
      "text/plain": [
       "<Figure size 432x288 with 1 Axes>"
      ]
     },
     "metadata": {
      "needs_background": "light"
     },
     "output_type": "display_data"
    }
   ],
   "source": [
    "ax = sns.stripplot(x='Sex', y='Age', hue = 'Embarked' ,data = tit_train)\n",
    "# ax = sns.displot(x='Age', y='Embarked',data = tit_train)"
   ]
  },
  {
   "cell_type": "markdown",
   "id": "25963cb3",
   "metadata": {
    "papermill": {
     "duration": 0.009808,
     "end_time": "2022-06-04T06:05:08.701228",
     "exception": false,
     "start_time": "2022-06-04T06:05:08.691420",
     "status": "completed"
    },
    "tags": []
   },
   "source": [
    "# **Training the model**"
   ]
  },
  {
   "cell_type": "code",
   "execution_count": 16,
   "id": "b547f337",
   "metadata": {
    "execution": {
     "iopub.execute_input": "2022-06-04T06:05:08.722351Z",
     "iopub.status.busy": "2022-06-04T06:05:08.722014Z",
     "iopub.status.idle": "2022-06-04T06:05:08.727357Z",
     "shell.execute_reply": "2022-06-04T06:05:08.726543Z"
    },
    "papermill": {
     "duration": 0.017973,
     "end_time": "2022-06-04T06:05:08.728954",
     "exception": false,
     "start_time": "2022-06-04T06:05:08.710981",
     "status": "completed"
    },
    "tags": []
   },
   "outputs": [
    {
     "data": {
      "text/plain": [
       "Index(['PassengerId', 'Survived', 'Pclass', 'Name', 'Sex', 'Age', 'SibSp',\n",
       "       'Parch', 'Ticket', 'Fare', 'Cabin', 'Embarked'],\n",
       "      dtype='object')"
      ]
     },
     "execution_count": 16,
     "metadata": {},
     "output_type": "execute_result"
    }
   ],
   "source": [
    "tit_train.columns"
   ]
  },
  {
   "cell_type": "code",
   "execution_count": 17,
   "id": "cd629b65",
   "metadata": {
    "execution": {
     "iopub.execute_input": "2022-06-04T06:05:08.743947Z",
     "iopub.status.busy": "2022-06-04T06:05:08.743331Z",
     "iopub.status.idle": "2022-06-04T06:05:08.753328Z",
     "shell.execute_reply": "2022-06-04T06:05:08.752813Z"
    },
    "papermill": {
     "duration": 0.019531,
     "end_time": "2022-06-04T06:05:08.755131",
     "exception": false,
     "start_time": "2022-06-04T06:05:08.735600",
     "status": "completed"
    },
    "tags": []
   },
   "outputs": [],
   "source": [
    "y = tit_train.Survived\n",
    "\n",
    "titanic_feat = [\"Pclass\", \"Sex\", \"SibSp\", \"Parch\"]\n",
    "\n",
    "\n",
    "X = pd.get_dummies(tit_train[titanic_feat])\n",
    "X_test = pd.get_dummies(tit_test[titanic_feat])"
   ]
  },
  {
   "cell_type": "code",
   "execution_count": 18,
   "id": "225ac5e8",
   "metadata": {
    "execution": {
     "iopub.execute_input": "2022-06-04T06:05:08.769963Z",
     "iopub.status.busy": "2022-06-04T06:05:08.769327Z",
     "iopub.status.idle": "2022-06-04T06:05:08.778025Z",
     "shell.execute_reply": "2022-06-04T06:05:08.776658Z"
    },
    "papermill": {
     "duration": 0.018376,
     "end_time": "2022-06-04T06:05:08.780128",
     "exception": false,
     "start_time": "2022-06-04T06:05:08.761752",
     "status": "completed"
    },
    "tags": []
   },
   "outputs": [
    {
     "data": {
      "text/html": [
       "<div>\n",
       "<style scoped>\n",
       "    .dataframe tbody tr th:only-of-type {\n",
       "        vertical-align: middle;\n",
       "    }\n",
       "\n",
       "    .dataframe tbody tr th {\n",
       "        vertical-align: top;\n",
       "    }\n",
       "\n",
       "    .dataframe thead th {\n",
       "        text-align: right;\n",
       "    }\n",
       "</style>\n",
       "<table border=\"1\" class=\"dataframe\">\n",
       "  <thead>\n",
       "    <tr style=\"text-align: right;\">\n",
       "      <th></th>\n",
       "      <th>Pclass</th>\n",
       "      <th>SibSp</th>\n",
       "      <th>Parch</th>\n",
       "      <th>Sex_female</th>\n",
       "      <th>Sex_male</th>\n",
       "    </tr>\n",
       "  </thead>\n",
       "  <tbody>\n",
       "    <tr>\n",
       "      <th>0</th>\n",
       "      <td>3</td>\n",
       "      <td>1</td>\n",
       "      <td>0</td>\n",
       "      <td>0</td>\n",
       "      <td>1</td>\n",
       "    </tr>\n",
       "    <tr>\n",
       "      <th>1</th>\n",
       "      <td>1</td>\n",
       "      <td>1</td>\n",
       "      <td>0</td>\n",
       "      <td>1</td>\n",
       "      <td>0</td>\n",
       "    </tr>\n",
       "    <tr>\n",
       "      <th>2</th>\n",
       "      <td>3</td>\n",
       "      <td>0</td>\n",
       "      <td>0</td>\n",
       "      <td>1</td>\n",
       "      <td>0</td>\n",
       "    </tr>\n",
       "    <tr>\n",
       "      <th>3</th>\n",
       "      <td>1</td>\n",
       "      <td>1</td>\n",
       "      <td>0</td>\n",
       "      <td>1</td>\n",
       "      <td>0</td>\n",
       "    </tr>\n",
       "    <tr>\n",
       "      <th>4</th>\n",
       "      <td>3</td>\n",
       "      <td>0</td>\n",
       "      <td>0</td>\n",
       "      <td>0</td>\n",
       "      <td>1</td>\n",
       "    </tr>\n",
       "  </tbody>\n",
       "</table>\n",
       "</div>"
      ],
      "text/plain": [
       "   Pclass  SibSp  Parch  Sex_female  Sex_male\n",
       "0       3      1      0           0         1\n",
       "1       1      1      0           1         0\n",
       "2       3      0      0           1         0\n",
       "3       1      1      0           1         0\n",
       "4       3      0      0           0         1"
      ]
     },
     "execution_count": 18,
     "metadata": {},
     "output_type": "execute_result"
    }
   ],
   "source": [
    "X.head()"
   ]
  },
  {
   "cell_type": "markdown",
   "id": "46cbd3e6",
   "metadata": {
    "papermill": {
     "duration": 0.006574,
     "end_time": "2022-06-04T06:05:08.793874",
     "exception": false,
     "start_time": "2022-06-04T06:05:08.787300",
     "status": "completed"
    },
    "tags": []
   },
   "source": [
    "# **Using RandomForestClassifier**"
   ]
  },
  {
   "cell_type": "code",
   "execution_count": 19,
   "id": "d4b28103",
   "metadata": {
    "execution": {
     "iopub.execute_input": "2022-06-04T06:05:08.809412Z",
     "iopub.status.busy": "2022-06-04T06:05:08.808802Z",
     "iopub.status.idle": "2022-06-04T06:05:09.812834Z",
     "shell.execute_reply": "2022-06-04T06:05:09.812090Z"
    },
    "papermill": {
     "duration": 1.013535,
     "end_time": "2022-06-04T06:05:09.814304",
     "exception": false,
     "start_time": "2022-06-04T06:05:08.800769",
     "status": "completed"
    },
    "tags": []
   },
   "outputs": [
    {
     "data": {
      "text/plain": [
       "array([0, 1, 0, 0, 0, 0, 1, 1, 1, 0, 0, 0, 1, 0, 1, 1, 0, 0, 1, 1, 0, 0,\n",
       "       1, 0, 1, 0, 1, 0, 0, 0, 0, 0, 0, 0, 0, 0, 1, 1, 0, 0, 0, 0, 0, 1,\n",
       "       1, 0, 0, 0, 1, 1, 0, 0, 1, 1, 0, 0, 0, 0, 0, 1, 0, 0, 0, 1, 1, 1,\n",
       "       1, 0, 0, 0, 1, 0, 1, 0, 1, 0, 0, 1, 0, 1, 0, 0, 0, 0, 0, 0, 1, 1,\n",
       "       1, 1, 1, 0, 1, 0, 0, 0, 1, 0, 1, 0, 1, 0, 0, 0, 0, 0, 0, 0, 0, 0,\n",
       "       0, 1, 1, 1, 1, 0, 0, 0, 0, 1, 1, 0, 1, 0, 0, 1, 0, 1, 0, 0, 0, 0,\n",
       "       0, 0, 0, 0, 0, 0, 1, 0, 0, 1, 1, 0, 0, 0, 0, 0, 0, 1, 1, 0, 0, 1,\n",
       "       0, 0, 1, 1, 0, 1, 1, 0, 1, 0, 0, 0, 0, 0, 1, 1, 0, 0, 0, 0, 0, 1,\n",
       "       1, 0, 1, 1, 0, 0, 1, 0, 1, 0, 1, 0, 0, 0, 0, 0, 0, 0, 1, 0, 1, 1,\n",
       "       0, 1, 1, 0, 0, 1, 0, 0, 1, 0, 1, 0, 0, 0, 0, 1, 0, 0, 1, 0, 1, 0,\n",
       "       1, 0, 1, 0, 1, 1, 0, 1, 0, 0, 0, 1, 0, 0, 0, 0, 0, 0, 1, 1, 1, 1,\n",
       "       0, 0, 0, 0, 1, 1, 1, 1, 1, 0, 0, 0, 0, 0, 0, 0, 1, 0, 0, 0, 1, 0,\n",
       "       0, 0, 0, 0, 1, 0, 0, 0, 1, 1, 0, 1, 0, 0, 0, 0, 1, 0, 1, 0, 0, 0,\n",
       "       0, 0, 0, 0, 0, 1, 0, 0, 0, 0, 1, 0, 0, 0, 0, 0, 0, 0, 1, 1, 1, 0,\n",
       "       0, 1, 0, 0, 0, 1, 1, 1, 0, 0, 0, 0, 0, 0, 0, 0, 1, 0, 1, 0, 0, 0,\n",
       "       1, 0, 0, 0, 0, 0, 0, 0, 0, 0, 0, 0, 0, 1, 0, 1, 0, 1, 0, 1, 1, 0,\n",
       "       0, 0, 0, 0, 1, 0, 0, 1, 0, 1, 1, 0, 1, 0, 0, 1, 1, 0, 0, 1, 0, 0,\n",
       "       1, 1, 1, 0, 0, 0, 0, 0, 1, 1, 0, 1, 0, 0, 0, 0, 0, 1, 0, 0, 0, 1,\n",
       "       0, 1, 0, 0, 1, 0, 1, 0, 0, 0, 0, 0, 1, 0, 1, 1, 1, 0, 1, 0, 0, 0])"
      ]
     },
     "execution_count": 19,
     "metadata": {},
     "output_type": "execute_result"
    }
   ],
   "source": [
    "y = tit_train[\"Survived\"]\n",
    "\n",
    "features = [\"Pclass\", \"Sex\", \"SibSp\", \"Parch\"]\n",
    "X = pd.get_dummies(tit_train[features])\n",
    "X_test = pd.get_dummies(tit_test[features])\n",
    "\n",
    "model = RandomForestClassifier(n_estimators=500, max_depth=10, random_state=1)\n",
    "model.fit(X, y)\n",
    "preds_rfc = model.predict(X_test)\n",
    "preds_rfc"
   ]
  },
  {
   "cell_type": "markdown",
   "id": "b1d59edf",
   "metadata": {
    "papermill": {
     "duration": 0.006369,
     "end_time": "2022-06-04T06:05:09.827540",
     "exception": false,
     "start_time": "2022-06-04T06:05:09.821171",
     "status": "completed"
    },
    "tags": []
   },
   "source": [
    "# **Using DecisionTreeClassifier**"
   ]
  },
  {
   "cell_type": "code",
   "execution_count": 20,
   "id": "7c15d1db",
   "metadata": {
    "execution": {
     "iopub.execute_input": "2022-06-04T06:05:09.842773Z",
     "iopub.status.busy": "2022-06-04T06:05:09.842235Z",
     "iopub.status.idle": "2022-06-04T06:05:09.845969Z",
     "shell.execute_reply": "2022-06-04T06:05:09.845444Z"
    },
    "papermill": {
     "duration": 0.013279,
     "end_time": "2022-06-04T06:05:09.847399",
     "exception": false,
     "start_time": "2022-06-04T06:05:09.834120",
     "status": "completed"
    },
    "tags": []
   },
   "outputs": [],
   "source": [
    "# y = tit_train[\"Survived\"]\n",
    "\n",
    "# features = [\"Pclass\", \"Sex\", \"SibSp\", \"Parch\"]\n",
    "# X = pd.get_dummies(tit_train[features])\n",
    "# X_test = pd.get_dummies(tit_test[features])\n",
    "\n",
    "# model = DecisionTreeClassifier(random_state=1)\n",
    "# model.fit(X, y)\n",
    "# preds_dtc = model.predict(X_test)\n",
    "# preds_dtc"
   ]
  },
  {
   "cell_type": "code",
   "execution_count": 21,
   "id": "63282ee2",
   "metadata": {
    "execution": {
     "iopub.execute_input": "2022-06-04T06:05:09.862210Z",
     "iopub.status.busy": "2022-06-04T06:05:09.861919Z",
     "iopub.status.idle": "2022-06-04T06:05:09.870208Z",
     "shell.execute_reply": "2022-06-04T06:05:09.869303Z"
    },
    "papermill": {
     "duration": 0.01775,
     "end_time": "2022-06-04T06:05:09.871979",
     "exception": false,
     "start_time": "2022-06-04T06:05:09.854229",
     "status": "completed"
    },
    "tags": []
   },
   "outputs": [
    {
     "name": "stdout",
     "output_type": "stream",
     "text": [
      "Your submission was successfully saved!\n"
     ]
    }
   ],
   "source": [
    "# output1 = pd.DataFrame({'PassengerId': tit_test.PassengerId, 'Survived': preds_rfc})\n",
    "# output1.to_csv('submission_rfc.csv', index=False)\n",
    "# print(\"Your submission was successfully saved!\")\n",
    "\n",
    "output2 = pd.DataFrame({'PassengerId': tit_test.PassengerId, 'Survived': preds_rfc})\n",
    "output2.to_csv('submission_rfc.csv', index=False)\n",
    "print(\"Your submission was successfully saved!\")"
   ]
  },
  {
   "cell_type": "code",
   "execution_count": null,
   "id": "d658f21e",
   "metadata": {
    "papermill": {
     "duration": 0.00645,
     "end_time": "2022-06-04T06:05:09.886052",
     "exception": false,
     "start_time": "2022-06-04T06:05:09.879602",
     "status": "completed"
    },
    "tags": []
   },
   "outputs": [],
   "source": []
  }
 ],
 "metadata": {
  "kernelspec": {
   "display_name": "Python 3",
   "language": "python",
   "name": "python3"
  },
  "language_info": {
   "codemirror_mode": {
    "name": "ipython",
    "version": 3
   },
   "file_extension": ".py",
   "mimetype": "text/x-python",
   "name": "python",
   "nbconvert_exporter": "python",
   "pygments_lexer": "ipython3",
   "version": "3.7.12"
  },
  "papermill": {
   "default_parameters": {},
   "duration": 14.85093,
   "end_time": "2022-06-04T06:05:10.612845",
   "environment_variables": {},
   "exception": null,
   "input_path": "__notebook__.ipynb",
   "output_path": "__notebook__.ipynb",
   "parameters": {},
   "start_time": "2022-06-04T06:04:55.761915",
   "version": "2.3.4"
  }
 },
 "nbformat": 4,
 "nbformat_minor": 5
}
