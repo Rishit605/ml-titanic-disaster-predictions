{
 "cells": [
  {
   "cell_type": "code",
   "execution_count": 1,
   "id": "6e3b0498",
   "metadata": {
    "_cell_guid": "b1076dfc-b9ad-4769-8c92-a6c4dae69d19",
    "_uuid": "8f2839f25d086af736a60e9eeb907d3b93b6e0e5",
    "execution": {
     "iopub.execute_input": "2022-06-04T05:57:15.967979Z",
     "iopub.status.busy": "2022-06-04T05:57:15.967519Z",
     "iopub.status.idle": "2022-06-04T05:57:15.982157Z",
     "shell.execute_reply": "2022-06-04T05:57:15.981167Z"
    },
    "papermill": {
     "duration": 0.026117,
     "end_time": "2022-06-04T05:57:15.984742",
     "exception": false,
     "start_time": "2022-06-04T05:57:15.958625",
     "status": "completed"
    },
    "tags": []
   },
   "outputs": [
    {
     "name": "stdout",
     "output_type": "stream",
     "text": [
      "/kaggle/input/titanic/train.csv\n",
      "/kaggle/input/titanic/test.csv\n",
      "/kaggle/input/titanic/gender_submission.csv\n"
     ]
    }
   ],
   "source": [
    "# This Python 3 environment comes with many helpful analytics libraries installed\n",
    "# It is defined by the kaggle/python Docker image: https://github.com/kaggle/docker-python\n",
    "# For example, here's several helpful packages to load\n",
    "\n",
    "import numpy as np # linear algebra\n",
    "import pandas as pd # data processing, CSV file I/O (e.g. pd.read_csv)\n",
    "\n",
    "# Input data files are available in the read-only \"../input/\" directory\n",
    "# For example, running this (by clicking run or pressing Shift+Enter) will list all files under the input directory\n",
    "\n",
    "import os\n",
    "for dirname, _, filenames in os.walk('/kaggle/input'):\n",
    "    for filename in filenames:\n",
    "        print(os.path.join(dirname, filename))\n",
    "\n",
    "# You can write up to 20GB to the current directory (/kaggle/working/) that gets preserved as output when you create a version using \"Save & Run All\" \n",
    "# You can also write temporary files to /kaggle/temp/, but they won't be saved outside of the current session"
   ]
  },
  {
   "cell_type": "markdown",
   "id": "3167c13b",
   "metadata": {
    "papermill": {
     "duration": 0.00827,
     "end_time": "2022-06-04T05:57:16.002756",
     "exception": false,
     "start_time": "2022-06-04T05:57:15.994486",
     "status": "completed"
    },
    "tags": []
   },
   "source": [
    "# **Importing Libraries and Dependencies**"
   ]
  },
  {
   "cell_type": "code",
   "execution_count": 2,
   "id": "094f262f",
   "metadata": {
    "execution": {
     "iopub.execute_input": "2022-06-04T05:57:16.022082Z",
     "iopub.status.busy": "2022-06-04T05:57:16.021491Z",
     "iopub.status.idle": "2022-06-04T05:57:17.533455Z",
     "shell.execute_reply": "2022-06-04T05:57:17.532787Z"
    },
    "papermill": {
     "duration": 1.524164,
     "end_time": "2022-06-04T05:57:17.535567",
     "exception": false,
     "start_time": "2022-06-04T05:57:16.011403",
     "status": "completed"
    },
    "tags": []
   },
   "outputs": [],
   "source": [
    "from sklearn.ensemble import RandomForestClassifier\n",
    "from sklearn.tree import DecisionTreeClassifier\n",
    "import seaborn as sns"
   ]
  },
  {
   "cell_type": "markdown",
   "id": "f45fbd9b",
   "metadata": {
    "papermill": {
     "duration": 0.008108,
     "end_time": "2022-06-04T05:57:17.552325",
     "exception": false,
     "start_time": "2022-06-04T05:57:17.544217",
     "status": "completed"
    },
    "tags": []
   },
   "source": [
    "# **Reading the Data**"
   ]
  },
  {
   "cell_type": "code",
   "execution_count": 3,
   "id": "364677c1",
   "metadata": {
    "execution": {
     "iopub.execute_input": "2022-06-04T05:57:17.571079Z",
     "iopub.status.busy": "2022-06-04T05:57:17.570329Z",
     "iopub.status.idle": "2022-06-04T05:57:17.599707Z",
     "shell.execute_reply": "2022-06-04T05:57:17.598826Z"
    },
    "papermill": {
     "duration": 0.041469,
     "end_time": "2022-06-04T05:57:17.602073",
     "exception": false,
     "start_time": "2022-06-04T05:57:17.560604",
     "status": "completed"
    },
    "tags": []
   },
   "outputs": [],
   "source": [
    "tit_train = pd.read_csv('../input/titanic/train.csv')\n",
    "tit_test = pd.read_csv('../input/titanic/test.csv')"
   ]
  },
  {
   "cell_type": "code",
   "execution_count": 4,
   "id": "dae72226",
   "metadata": {
    "execution": {
     "iopub.execute_input": "2022-06-04T05:57:17.620462Z",
     "iopub.status.busy": "2022-06-04T05:57:17.620101Z",
     "iopub.status.idle": "2022-06-04T05:57:17.644546Z",
     "shell.execute_reply": "2022-06-04T05:57:17.643652Z"
    },
    "papermill": {
     "duration": 0.035576,
     "end_time": "2022-06-04T05:57:17.646349",
     "exception": false,
     "start_time": "2022-06-04T05:57:17.610773",
     "status": "completed"
    },
    "tags": []
   },
   "outputs": [
    {
     "name": "stdout",
     "output_type": "stream",
     "text": [
      "<class 'pandas.core.frame.DataFrame'>\n",
      "RangeIndex: 891 entries, 0 to 890\n",
      "Data columns (total 12 columns):\n",
      " #   Column       Non-Null Count  Dtype  \n",
      "---  ------       --------------  -----  \n",
      " 0   PassengerId  891 non-null    int64  \n",
      " 1   Survived     891 non-null    int64  \n",
      " 2   Pclass       891 non-null    int64  \n",
      " 3   Name         891 non-null    object \n",
      " 4   Sex          891 non-null    object \n",
      " 5   Age          714 non-null    float64\n",
      " 6   SibSp        891 non-null    int64  \n",
      " 7   Parch        891 non-null    int64  \n",
      " 8   Ticket       891 non-null    object \n",
      " 9   Fare         891 non-null    float64\n",
      " 10  Cabin        204 non-null    object \n",
      " 11  Embarked     889 non-null    object \n",
      "dtypes: float64(2), int64(5), object(5)\n",
      "memory usage: 83.7+ KB\n"
     ]
    }
   ],
   "source": [
    "tit_train.info()"
   ]
  },
  {
   "cell_type": "code",
   "execution_count": 5,
   "id": "8d7e4582",
   "metadata": {
    "execution": {
     "iopub.execute_input": "2022-06-04T05:57:17.659568Z",
     "iopub.status.busy": "2022-06-04T05:57:17.659097Z",
     "iopub.status.idle": "2022-06-04T05:57:17.675287Z",
     "shell.execute_reply": "2022-06-04T05:57:17.674426Z"
    },
    "papermill": {
     "duration": 0.024342,
     "end_time": "2022-06-04T05:57:17.676953",
     "exception": false,
     "start_time": "2022-06-04T05:57:17.652611",
     "status": "completed"
    },
    "tags": []
   },
   "outputs": [
    {
     "data": {
      "text/plain": [
       "(   PassengerId  Survived  Pclass  \\\n",
       " 0            1         0       3   \n",
       " 1            2         1       1   \n",
       " 2            3         1       3   \n",
       " 3            4         1       1   \n",
       " 4            5         0       3   \n",
       " \n",
       "                                                 Name     Sex   Age  SibSp  \\\n",
       " 0                            Braund, Mr. Owen Harris    male  22.0      1   \n",
       " 1  Cumings, Mrs. John Bradley (Florence Briggs Th...  female  38.0      1   \n",
       " 2                             Heikkinen, Miss. Laina  female  26.0      0   \n",
       " 3       Futrelle, Mrs. Jacques Heath (Lily May Peel)  female  35.0      1   \n",
       " 4                           Allen, Mr. William Henry    male  35.0      0   \n",
       " \n",
       "    Parch            Ticket     Fare Cabin Embarked  \n",
       " 0      0         A/5 21171   7.2500   NaN        S  \n",
       " 1      0          PC 17599  71.2833   C85        C  \n",
       " 2      0  STON/O2. 3101282   7.9250   NaN        S  \n",
       " 3      0            113803  53.1000  C123        S  \n",
       " 4      0            373450   8.0500   NaN        S  ,\n",
       " (891, 12))"
      ]
     },
     "execution_count": 5,
     "metadata": {},
     "output_type": "execute_result"
    }
   ],
   "source": [
    "tit_train.head(), tit_train.shape"
   ]
  },
  {
   "cell_type": "code",
   "execution_count": 6,
   "id": "de882ae7",
   "metadata": {
    "execution": {
     "iopub.execute_input": "2022-06-04T05:57:17.690071Z",
     "iopub.status.busy": "2022-06-04T05:57:17.689709Z",
     "iopub.status.idle": "2022-06-04T05:57:17.699368Z",
     "shell.execute_reply": "2022-06-04T05:57:17.698493Z"
    },
    "papermill": {
     "duration": 0.018429,
     "end_time": "2022-06-04T05:57:17.700761",
     "exception": false,
     "start_time": "2022-06-04T05:57:17.682332",
     "status": "completed"
    },
    "tags": []
   },
   "outputs": [
    {
     "data": {
      "text/plain": [
       "(PassengerId      0\n",
       " Survived         0\n",
       " Pclass           0\n",
       " Name             0\n",
       " Sex              0\n",
       " Age            177\n",
       " SibSp            0\n",
       " Parch            0\n",
       " Ticket           0\n",
       " Fare             0\n",
       " Cabin          687\n",
       " Embarked         2\n",
       " dtype: int64,\n",
       " Index(['PassengerId', 'Survived', 'Pclass', 'Name', 'Sex', 'Age', 'SibSp',\n",
       "        'Parch', 'Ticket', 'Fare', 'Cabin', 'Embarked'],\n",
       "       dtype='object'))"
      ]
     },
     "execution_count": 6,
     "metadata": {},
     "output_type": "execute_result"
    }
   ],
   "source": [
    "tit_train.isnull().sum(), tit_train.columns\n"
   ]
  },
  {
   "cell_type": "code",
   "execution_count": 7,
   "id": "c8dfd361",
   "metadata": {
    "execution": {
     "iopub.execute_input": "2022-06-04T05:57:17.713719Z",
     "iopub.status.busy": "2022-06-04T05:57:17.713178Z",
     "iopub.status.idle": "2022-06-04T05:57:17.720669Z",
     "shell.execute_reply": "2022-06-04T05:57:17.720102Z"
    },
    "papermill": {
     "duration": 0.015704,
     "end_time": "2022-06-04T05:57:17.722045",
     "exception": false,
     "start_time": "2022-06-04T05:57:17.706341",
     "status": "completed"
    },
    "tags": []
   },
   "outputs": [
    {
     "data": {
      "text/plain": [
       "(PassengerId      0\n",
       " Pclass           0\n",
       " Name             0\n",
       " Sex              0\n",
       " Age             86\n",
       " SibSp            0\n",
       " Parch            0\n",
       " Ticket           0\n",
       " Fare             1\n",
       " Cabin          327\n",
       " Embarked         0\n",
       " dtype: int64,\n",
       " Index(['PassengerId', 'Pclass', 'Name', 'Sex', 'Age', 'SibSp', 'Parch',\n",
       "        'Ticket', 'Fare', 'Cabin', 'Embarked'],\n",
       "       dtype='object'))"
      ]
     },
     "execution_count": 7,
     "metadata": {},
     "output_type": "execute_result"
    }
   ],
   "source": [
    "tit_test.isnull().sum(), tit_test.columns"
   ]
  },
  {
   "cell_type": "code",
   "execution_count": 8,
   "id": "87a24722",
   "metadata": {
    "execution": {
     "iopub.execute_input": "2022-06-04T05:57:17.735241Z",
     "iopub.status.busy": "2022-06-04T05:57:17.734766Z",
     "iopub.status.idle": "2022-06-04T05:57:17.738049Z",
     "shell.execute_reply": "2022-06-04T05:57:17.737401Z"
    },
    "papermill": {
     "duration": 0.011628,
     "end_time": "2022-06-04T05:57:17.739460",
     "exception": false,
     "start_time": "2022-06-04T05:57:17.727832",
     "status": "completed"
    },
    "tags": []
   },
   "outputs": [],
   "source": [
    "# titanic_missing_vals = (tit_train.isnull().sum())\n",
    "# print(titanic_missing_vals[titanic_missing_vals > 0])"
   ]
  },
  {
   "cell_type": "code",
   "execution_count": 9,
   "id": "337ba608",
   "metadata": {
    "execution": {
     "iopub.execute_input": "2022-06-04T05:57:17.753766Z",
     "iopub.status.busy": "2022-06-04T05:57:17.753316Z",
     "iopub.status.idle": "2022-06-04T05:57:17.757038Z",
     "shell.execute_reply": "2022-06-04T05:57:17.756311Z"
    },
    "papermill": {
     "duration": 0.012406,
     "end_time": "2022-06-04T05:57:17.758908",
     "exception": false,
     "start_time": "2022-06-04T05:57:17.746502",
     "status": "completed"
    },
    "tags": []
   },
   "outputs": [],
   "source": [
    "# tit_train2 = tit_train.fillna(float(f\"NaN\")) # Could use a Range Value\n",
    "# tit_train2"
   ]
  },
  {
   "cell_type": "code",
   "execution_count": 10,
   "id": "4c167374",
   "metadata": {
    "execution": {
     "iopub.execute_input": "2022-06-04T05:57:17.772154Z",
     "iopub.status.busy": "2022-06-04T05:57:17.771641Z",
     "iopub.status.idle": "2022-06-04T05:57:17.774736Z",
     "shell.execute_reply": "2022-06-04T05:57:17.774189Z"
    },
    "papermill": {
     "duration": 0.011745,
     "end_time": "2022-06-04T05:57:17.776505",
     "exception": false,
     "start_time": "2022-06-04T05:57:17.764760",
     "status": "completed"
    },
    "tags": []
   },
   "outputs": [],
   "source": [
    "# tit_train3 = tit_train.dropna(subset = [\"Cabin\", \"Age\", \"Embarked\"], inplace=False)\n",
    "# tit_train3"
   ]
  },
  {
   "cell_type": "code",
   "execution_count": 11,
   "id": "8ac28154",
   "metadata": {
    "execution": {
     "iopub.execute_input": "2022-06-04T05:57:17.789233Z",
     "iopub.status.busy": "2022-06-04T05:57:17.788867Z",
     "iopub.status.idle": "2022-06-04T05:57:17.792436Z",
     "shell.execute_reply": "2022-06-04T05:57:17.791600Z"
    },
    "papermill": {
     "duration": 0.011734,
     "end_time": "2022-06-04T05:57:17.793886",
     "exception": false,
     "start_time": "2022-06-04T05:57:17.782152",
     "status": "completed"
    },
    "tags": []
   },
   "outputs": [],
   "source": [
    "# tit_train3.shape"
   ]
  },
  {
   "cell_type": "code",
   "execution_count": 12,
   "id": "3ba40515",
   "metadata": {
    "execution": {
     "iopub.execute_input": "2022-06-04T05:57:17.806920Z",
     "iopub.status.busy": "2022-06-04T05:57:17.806570Z",
     "iopub.status.idle": "2022-06-04T05:57:17.866045Z",
     "shell.execute_reply": "2022-06-04T05:57:17.865139Z"
    },
    "papermill": {
     "duration": 0.068213,
     "end_time": "2022-06-04T05:57:17.868176",
     "exception": false,
     "start_time": "2022-06-04T05:57:17.799963",
     "status": "completed"
    },
    "tags": []
   },
   "outputs": [
    {
     "data": {
      "text/html": [
       "<div>\n",
       "<style scoped>\n",
       "    .dataframe tbody tr th:only-of-type {\n",
       "        vertical-align: middle;\n",
       "    }\n",
       "\n",
       "    .dataframe tbody tr th {\n",
       "        vertical-align: top;\n",
       "    }\n",
       "\n",
       "    .dataframe thead th {\n",
       "        text-align: right;\n",
       "    }\n",
       "</style>\n",
       "<table border=\"1\" class=\"dataframe\">\n",
       "  <thead>\n",
       "    <tr style=\"text-align: right;\">\n",
       "      <th></th>\n",
       "      <th>PassengerId</th>\n",
       "      <th>Survived</th>\n",
       "      <th>Pclass</th>\n",
       "      <th>Age</th>\n",
       "      <th>SibSp</th>\n",
       "      <th>Parch</th>\n",
       "      <th>Fare</th>\n",
       "    </tr>\n",
       "  </thead>\n",
       "  <tbody>\n",
       "    <tr>\n",
       "      <th>count</th>\n",
       "      <td>891.000000</td>\n",
       "      <td>891.000000</td>\n",
       "      <td>891.000000</td>\n",
       "      <td>714.000000</td>\n",
       "      <td>891.000000</td>\n",
       "      <td>891.000000</td>\n",
       "      <td>891.000000</td>\n",
       "    </tr>\n",
       "    <tr>\n",
       "      <th>mean</th>\n",
       "      <td>446.000000</td>\n",
       "      <td>0.383838</td>\n",
       "      <td>2.308642</td>\n",
       "      <td>29.699118</td>\n",
       "      <td>0.523008</td>\n",
       "      <td>0.381594</td>\n",
       "      <td>32.204208</td>\n",
       "    </tr>\n",
       "    <tr>\n",
       "      <th>std</th>\n",
       "      <td>257.353842</td>\n",
       "      <td>0.486592</td>\n",
       "      <td>0.836071</td>\n",
       "      <td>14.526497</td>\n",
       "      <td>1.102743</td>\n",
       "      <td>0.806057</td>\n",
       "      <td>49.693429</td>\n",
       "    </tr>\n",
       "    <tr>\n",
       "      <th>min</th>\n",
       "      <td>1.000000</td>\n",
       "      <td>0.000000</td>\n",
       "      <td>1.000000</td>\n",
       "      <td>0.420000</td>\n",
       "      <td>0.000000</td>\n",
       "      <td>0.000000</td>\n",
       "      <td>0.000000</td>\n",
       "    </tr>\n",
       "    <tr>\n",
       "      <th>25%</th>\n",
       "      <td>223.500000</td>\n",
       "      <td>0.000000</td>\n",
       "      <td>2.000000</td>\n",
       "      <td>20.125000</td>\n",
       "      <td>0.000000</td>\n",
       "      <td>0.000000</td>\n",
       "      <td>7.910400</td>\n",
       "    </tr>\n",
       "    <tr>\n",
       "      <th>50%</th>\n",
       "      <td>446.000000</td>\n",
       "      <td>0.000000</td>\n",
       "      <td>3.000000</td>\n",
       "      <td>28.000000</td>\n",
       "      <td>0.000000</td>\n",
       "      <td>0.000000</td>\n",
       "      <td>14.454200</td>\n",
       "    </tr>\n",
       "    <tr>\n",
       "      <th>75%</th>\n",
       "      <td>668.500000</td>\n",
       "      <td>1.000000</td>\n",
       "      <td>3.000000</td>\n",
       "      <td>38.000000</td>\n",
       "      <td>1.000000</td>\n",
       "      <td>0.000000</td>\n",
       "      <td>31.000000</td>\n",
       "    </tr>\n",
       "    <tr>\n",
       "      <th>max</th>\n",
       "      <td>891.000000</td>\n",
       "      <td>1.000000</td>\n",
       "      <td>3.000000</td>\n",
       "      <td>80.000000</td>\n",
       "      <td>8.000000</td>\n",
       "      <td>6.000000</td>\n",
       "      <td>512.329200</td>\n",
       "    </tr>\n",
       "  </tbody>\n",
       "</table>\n",
       "</div>"
      ],
      "text/plain": [
       "       PassengerId    Survived      Pclass         Age       SibSp  \\\n",
       "count   891.000000  891.000000  891.000000  714.000000  891.000000   \n",
       "mean    446.000000    0.383838    2.308642   29.699118    0.523008   \n",
       "std     257.353842    0.486592    0.836071   14.526497    1.102743   \n",
       "min       1.000000    0.000000    1.000000    0.420000    0.000000   \n",
       "25%     223.500000    0.000000    2.000000   20.125000    0.000000   \n",
       "50%     446.000000    0.000000    3.000000   28.000000    0.000000   \n",
       "75%     668.500000    1.000000    3.000000   38.000000    1.000000   \n",
       "max     891.000000    1.000000    3.000000   80.000000    8.000000   \n",
       "\n",
       "            Parch        Fare  \n",
       "count  891.000000  891.000000  \n",
       "mean     0.381594   32.204208  \n",
       "std      0.806057   49.693429  \n",
       "min      0.000000    0.000000  \n",
       "25%      0.000000    7.910400  \n",
       "50%      0.000000   14.454200  \n",
       "75%      0.000000   31.000000  \n",
       "max      6.000000  512.329200  "
      ]
     },
     "execution_count": 12,
     "metadata": {},
     "output_type": "execute_result"
    }
   ],
   "source": [
    "tit_train.describe()"
   ]
  },
  {
   "cell_type": "code",
   "execution_count": 13,
   "id": "8f31a782",
   "metadata": {
    "execution": {
     "iopub.execute_input": "2022-06-04T05:57:17.888309Z",
     "iopub.status.busy": "2022-06-04T05:57:17.887967Z",
     "iopub.status.idle": "2022-06-04T05:57:17.894785Z",
     "shell.execute_reply": "2022-06-04T05:57:17.893832Z"
    },
    "papermill": {
     "duration": 0.019774,
     "end_time": "2022-06-04T05:57:17.897373",
     "exception": false,
     "start_time": "2022-06-04T05:57:17.877599",
     "status": "completed"
    },
    "tags": []
   },
   "outputs": [
    {
     "name": "stdout",
     "output_type": "stream",
     "text": [
      "% of women who survived: 0.7420382165605095\n"
     ]
    }
   ],
   "source": [
    "women = tit_train.loc[tit_train.Sex == 'female'][\"Survived\"]\n",
    "rate_women = sum(women)/len(women)\n",
    "\n",
    "print(\"% of women who survived:\", rate_women)"
   ]
  },
  {
   "cell_type": "code",
   "execution_count": 14,
   "id": "ad64ce31",
   "metadata": {
    "execution": {
     "iopub.execute_input": "2022-06-04T05:57:17.918233Z",
     "iopub.status.busy": "2022-06-04T05:57:17.917868Z",
     "iopub.status.idle": "2022-06-04T05:57:17.925249Z",
     "shell.execute_reply": "2022-06-04T05:57:17.924256Z"
    },
    "papermill": {
     "duration": 0.020374,
     "end_time": "2022-06-04T05:57:17.927350",
     "exception": false,
     "start_time": "2022-06-04T05:57:17.906976",
     "status": "completed"
    },
    "tags": []
   },
   "outputs": [
    {
     "name": "stdout",
     "output_type": "stream",
     "text": [
      "% of men who survived: 0.18890814558058924\n"
     ]
    }
   ],
   "source": [
    "men = tit_train.loc[tit_train.Sex == 'male'][\"Survived\"]\n",
    "rate_men = sum(men)/len(men)\n",
    "\n",
    "print(\"% of men who survived:\", rate_men)"
   ]
  },
  {
   "cell_type": "markdown",
   "id": "3e5baad6",
   "metadata": {
    "papermill": {
     "duration": 0.00937,
     "end_time": "2022-06-04T05:57:17.946589",
     "exception": false,
     "start_time": "2022-06-04T05:57:17.937219",
     "status": "completed"
    },
    "tags": []
   },
   "source": [
    "# **Graph Plotting**"
   ]
  },
  {
   "cell_type": "code",
   "execution_count": 15,
   "id": "bda64db9",
   "metadata": {
    "execution": {
     "iopub.execute_input": "2022-06-04T05:57:17.967261Z",
     "iopub.status.busy": "2022-06-04T05:57:17.966909Z",
     "iopub.status.idle": "2022-06-04T05:57:18.227618Z",
     "shell.execute_reply": "2022-06-04T05:57:18.226598Z"
    },
    "papermill": {
     "duration": 0.273396,
     "end_time": "2022-06-04T05:57:18.229664",
     "exception": false,
     "start_time": "2022-06-04T05:57:17.956268",
     "status": "completed"
    },
    "tags": []
   },
   "outputs": [
    {
     "data": {
      "image/png": "[encoded data removed]",
      "text/plain": [
       "<Figure size 432x288 with 1 Axes>"
      ]
     },
     "metadata": {
      "needs_background": "light"
     },
     "output_type": "display_data"
    }
   ],
   "source": [
    "ax = sns.stripplot(x='Sex', y='Age', hue = 'Embarked' ,data = tit_train)\n",
    "# ax = sns.displot(x='Age', y='Embarked',data = tit_train)"
   ]
  },
  {
   "cell_type": "markdown",
   "id": "01013690",
   "metadata": {
    "papermill": {
     "duration": 0.009981,
     "end_time": "2022-06-04T05:57:18.250124",
     "exception": false,
     "start_time": "2022-06-04T05:57:18.240143",
     "status": "completed"
    },
    "tags": []
   },
   "source": [
    "# **Training the model**"
   ]
  },
  {
   "cell_type": "code",
   "execution_count": 16,
   "id": "94e2d598",
   "metadata": {
    "execution": {
     "iopub.execute_input": "2022-06-04T05:57:18.272597Z",
     "iopub.status.busy": "2022-06-04T05:57:18.272214Z",
     "iopub.status.idle": "2022-06-04T05:57:18.278313Z",
     "shell.execute_reply": "2022-06-04T05:57:18.277707Z"
    },
    "papermill": {
     "duration": 0.019537,
     "end_time": "2022-06-04T05:57:18.280082",
     "exception": false,
     "start_time": "2022-06-04T05:57:18.260545",
     "status": "completed"
    },
    "tags": []
   },
   "outputs": [
    {
     "data": {
      "text/plain": [
       "Index(['PassengerId', 'Survived', 'Pclass', 'Name', 'Sex', 'Age', 'SibSp',\n",
       "       'Parch', 'Ticket', 'Fare', 'Cabin', 'Embarked'],\n",
       "      dtype='object')"
      ]
     },
     "execution_count": 16,
     "metadata": {},
     "output_type": "execute_result"
    }
   ],
   "source": [
    "tit_train.columns"
   ]
  },
  {
   "cell_type": "code",
   "execution_count": 17,
   "id": "1024ba6a",
   "metadata": {
    "execution": {
     "iopub.execute_input": "2022-06-04T05:57:18.302501Z",
     "iopub.status.busy": "2022-06-04T05:57:18.301697Z",
     "iopub.status.idle": "2022-06-04T05:57:18.314715Z",
     "shell.execute_reply": "2022-06-04T05:57:18.313862Z"
    },
    "papermill": {
     "duration": 0.026888,
     "end_time": "2022-06-04T05:57:18.317195",
     "exception": false,
     "start_time": "2022-06-04T05:57:18.290307",
     "status": "completed"
    },
    "tags": []
   },
   "outputs": [],
   "source": [
    "y = tit_train.Survived\n",
    "\n",
    "titanic_feat = [\"Pclass\", \"Sex\", \"SibSp\", \"Parch\"]\n",
    "\n",
    "\n",
    "X = pd.get_dummies(tit_train[titanic_feat])\n",
    "X_test = pd.get_dummies(tit_test[titanic_feat])"
   ]
  },
  {
   "cell_type": "code",
   "execution_count": 18,
   "id": "1a103449",
   "metadata": {
    "execution": {
     "iopub.execute_input": "2022-06-04T05:57:18.340019Z",
     "iopub.status.busy": "2022-06-04T05:57:18.339678Z",
     "iopub.status.idle": "2022-06-04T05:57:18.347087Z",
     "shell.execute_reply": "2022-06-04T05:57:18.346444Z"
    },
    "papermill": {
     "duration": 0.021231,
     "end_time": "2022-06-04T05:57:18.349023",
     "exception": false,
     "start_time": "2022-06-04T05:57:18.327792",
     "status": "completed"
    },
    "tags": []
   },
   "outputs": [
    {
     "data": {
      "text/html": [
       "<div>\n",
       "<style scoped>\n",
       "    .dataframe tbody tr th:only-of-type {\n",
       "        vertical-align: middle;\n",
       "    }\n",
       "\n",
       "    .dataframe tbody tr th {\n",
       "        vertical-align: top;\n",
       "    }\n",
       "\n",
       "    .dataframe thead th {\n",
       "        text-align: right;\n",
       "    }\n",
       "</style>\n",
       "<table border=\"1\" class=\"dataframe\">\n",
       "  <thead>\n",
       "    <tr style=\"text-align: right;\">\n",
       "      <th></th>\n",
       "      <th>Pclass</th>\n",
       "      <th>SibSp</th>\n",
       "      <th>Parch</th>\n",
       "      <th>Sex_female</th>\n",
       "      <th>Sex_male</th>\n",
       "    </tr>\n",
       "  </thead>\n",
       "  <tbody>\n",
       "    <tr>\n",
       "      <th>0</th>\n",
       "      <td>3</td>\n",
       "      <td>1</td>\n",
       "      <td>0</td>\n",
       "      <td>0</td>\n",
       "      <td>1</td>\n",
       "    </tr>\n",
       "    <tr>\n",
       "      <th>1</th>\n",
       "      <td>1</td>\n",
       "      <td>1</td>\n",
       "      <td>0</td>\n",
       "      <td>1</td>\n",
       "      <td>0</td>\n",
       "    </tr>\n",
       "    <tr>\n",
       "      <th>2</th>\n",
       "      <td>3</td>\n",
       "      <td>0</td>\n",
       "      <td>0</td>\n",
       "      <td>1</td>\n",
       "      <td>0</td>\n",
       "    </tr>\n",
       "    <tr>\n",
       "      <th>3</th>\n",
       "      <td>1</td>\n",
       "      <td>1</td>\n",
       "      <td>0</td>\n",
       "      <td>1</td>\n",
       "      <td>0</td>\n",
       "    </tr>\n",
       "    <tr>\n",
       "      <th>4</th>\n",
       "      <td>3</td>\n",
       "      <td>0</td>\n",
       "      <td>0</td>\n",
       "      <td>0</td>\n",
       "      <td>1</td>\n",
       "    </tr>\n",
       "  </tbody>\n",
       "</table>\n",
       "</div>"
      ],
      "text/plain": [
       "   Pclass  SibSp  Parch  Sex_female  Sex_male\n",
       "0       3      1      0           0         1\n",
       "1       1      1      0           1         0\n",
       "2       3      0      0           1         0\n",
       "3       1      1      0           1         0\n",
       "4       3      0      0           0         1"
      ]
     },
     "execution_count": 18,
     "metadata": {},
     "output_type": "execute_result"
    }
   ],
   "source": [
    "X.head()"
   ]
  },
  {
   "cell_type": "markdown",
   "id": "e1814c05",
   "metadata": {
    "papermill": {
     "duration": 0.01014,
     "end_time": "2022-06-04T05:57:18.369729",
     "exception": false,
     "start_time": "2022-06-04T05:57:18.359589",
     "status": "completed"
    },
    "tags": []
   },
   "source": [
    "# **Using RandomForestClassifier**"
   ]
  },
  {
   "cell_type": "code",
   "execution_count": 19,
   "id": "bb373e15",
   "metadata": {
    "execution": {
     "iopub.execute_input": "2022-06-04T05:57:18.392506Z",
     "iopub.status.busy": "2022-06-04T05:57:18.392086Z",
     "iopub.status.idle": "2022-06-04T05:57:18.395199Z",
     "shell.execute_reply": "2022-06-04T05:57:18.394776Z"
    },
    "papermill": {
     "duration": 0.016364,
     "end_time": "2022-06-04T05:57:18.396845",
     "exception": false,
     "start_time": "2022-06-04T05:57:18.380481",
     "status": "completed"
    },
    "tags": []
   },
   "outputs": [],
   "source": [
    "# y = tit_train[\"Survived\"]\n",
    "\n",
    "# features = [\"Pclass\", \"Sex\", \"SibSp\", \"Parch\"]\n",
    "# X = pd.get_dummies(tit_train[features])\n",
    "# X_test = pd.get_dummies(tit_test[features])\n",
    "\n",
    "# model = RandomForestClassifier(n_estimators=500, max_depth=10, random_state=1)\n",
    "# model.fit(X, y)\n",
    "# preds_rfc = model.predict(X_test)"
   ]
  },
  {
   "cell_type": "markdown",
   "id": "d9911b29",
   "metadata": {
    "papermill": {
     "duration": 0.010211,
     "end_time": "2022-06-04T05:57:18.417590",
     "exception": false,
     "start_time": "2022-06-04T05:57:18.407379",
     "status": "completed"
    },
    "tags": []
   },
   "source": [
    "# **Using DecisionTreeClassifier**"
   ]
  },
  {
   "cell_type": "code",
   "execution_count": 20,
   "id": "29a0424c",
   "metadata": {
    "execution": {
     "iopub.execute_input": "2022-06-04T05:57:18.440602Z",
     "iopub.status.busy": "2022-06-04T05:57:18.440183Z",
     "iopub.status.idle": "2022-06-04T05:57:18.459025Z",
     "shell.execute_reply": "2022-06-04T05:57:18.458236Z"
    },
    "papermill": {
     "duration": 0.032923,
     "end_time": "2022-06-04T05:57:18.461267",
     "exception": false,
     "start_time": "2022-06-04T05:57:18.428344",
     "status": "completed"
    },
    "tags": []
   },
   "outputs": [],
   "source": [
    "y = tit_train[\"Survived\"]\n",
    "\n",
    "features = [\"Pclass\", \"Sex\", \"SibSp\", \"Parch\"]\n",
    "X = pd.get_dummies(tit_train[features])\n",
    "X_test = pd.get_dummies(tit_test[features])\n",
    "\n",
    "model = DecisionTreeClassifier(random_state=1)\n",
    "model.fit(X, y)\n",
    "preds_dtc = model.predict(X_test)"
   ]
  },
  {
   "cell_type": "code",
   "execution_count": 21,
   "id": "6bef571d",
   "metadata": {
    "execution": {
     "iopub.execute_input": "2022-06-04T05:57:18.483941Z",
     "iopub.status.busy": "2022-06-04T05:57:18.483573Z",
     "iopub.status.idle": "2022-06-04T05:57:18.492871Z",
     "shell.execute_reply": "2022-06-04T05:57:18.491976Z"
    },
    "papermill": {
     "duration": 0.023084,
     "end_time": "2022-06-04T05:57:18.494847",
     "exception": false,
     "start_time": "2022-06-04T05:57:18.471763",
     "status": "completed"
    },
    "tags": []
   },
   "outputs": [
    {
     "name": "stdout",
     "output_type": "stream",
     "text": [
      "Your submission was successfully saved!\n"
     ]
    }
   ],
   "source": [
    "# output1 = pd.DataFrame({'PassengerId': tit_test.PassengerId, 'Survived': preds_rfc})\n",
    "# output1.to_csv('submission_rfc.csv', index=False)\n",
    "# print(\"Your submission was successfully saved!\")\n",
    "\n",
    "output2 = pd.DataFrame({'PassengerId': tit_test.PassengerId, 'Survived': preds_dtc})\n",
    "output2.to_csv('submission_dtc.csv', index=False)\n",
    "print(\"Your submission was successfully saved!\")"
   ]
  }
 ],
 "metadata": {
  "kernelspec": {
   "display_name": "Python 3",
   "language": "python",
   "name": "python3"
  },
  "language_info": {
   "codemirror_mode": {
    "name": "ipython",
    "version": 3
   },
   "file_extension": ".py",
   "mimetype": "text/x-python",
   "name": "python",
   "nbconvert_exporter": "python",
   "pygments_lexer": "ipython3",
   "version": "3.7.12"
  },
  "papermill": {
   "default_parameters": {},
   "duration": 14.148445,
   "end_time": "2022-06-04T05:57:19.225114",
   "environment_variables": {},
   "exception": null,
   "input_path": "__notebook__.ipynb",
   "output_path": "__notebook__.ipynb",
   "parameters": {},
   "start_time": "2022-06-04T05:57:05.076669",
   "version": "2.3.4"
  }
 },
 "nbformat": 4,
 "nbformat_minor": 5
}
